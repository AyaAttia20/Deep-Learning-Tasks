{
  "nbformat": 4,
  "nbformat_minor": 0,
  "metadata": {
    "colab": {
      "provenance": [],
      "toc_visible": true
    },
    "kernelspec": {
      "name": "python3",
      "display_name": "Python 3"
    },
    "language_info": {
      "name": "python"
    }
  },
  "cells": [
    {
      "cell_type": "markdown",
      "source": [
        "$$ ITI \\space AI-Pro: \\space Intake \\space 45 $$\n",
        "$$ Deep \\space Learning $$\n",
        "$$ Lab \\space no. \\space 2 $$"
      ],
      "metadata": {
        "id": "4ts4QhdTCSI7"
      }
    },
    {
      "cell_type": "markdown",
      "metadata": {
        "id": "b177f870"
      },
      "source": [
        "# Introduction\n",
        "\n",
        "> Use the `keras` from Tensorflow to build ANN model that would fit the credit score data and be able to generalize well.\n",
        "\n",
        "Use the Credit Score Classification dataset provided [here](https://www.kaggle.com/datasets/parisrohan/credit-score-classification) to train and test your design.\n",
        "\n",
        "**Notes:**\n",
        "- Split the data as you see fit and use validation during training.\n",
        "- You may re-use the EDA, data preparation, and other sections you previously used in ML1 assignemnts.\n",
        "- Remember that you can use classification metrics from other libraries as well (e.g., `sklearn`)\n",
        "- Plot the loss, and accuracy against epochs and extract insights on how well of a fit your model is.\n",
        "- This time the notebook is not prepared with sections and instructions so that you can do it yourself.\n",
        "- If you are stuck, you can consult the [Keras User Guide](https://keras.io/api/). There are some useful [Code Examples](https://keras.io/examples/) as well.\n"
      ]
    },
    {
      "cell_type": "code",
      "source": [
        "import numpy as np\n",
        "import pandas as pd\n",
        "import matplotlib.pyplot as plt\n",
        "import seaborn as sns\n",
        "from sklearn.preprocessing import OneHotEncoder,LabelEncoder,OrdinalEncoder\n",
        "from sklearn.preprocessing import MinMaxScaler,StandardScaler,RobustScaler\n",
        "from sklearn.metrics import mean_squared_error,mean_absolute_error,r2_score\n",
        "from sklearn.model_selection import train_test_split\n",
        "from sklearn.metrics import classification_report\n",
        "from sklearn.metrics import accuracy_score\n",
        "from tensorflow import keras\n",
        "from tensorflow.keras.models import Sequential\n",
        "from tensorflow.keras.layers import Dense, Activation\n",
        "from keras import Input\n",
        "from tensorflow.keras.layers import Dense, Dropout, BatchNormalization\n",
        "from tensorflow.keras.callbacks import EarlyStopping\n",
        "from tensorflow.keras.utils import to_categorical\n",
        "from tensorflow.keras.optimizers import Adam\n",
        "from sklearn.utils.class_weight import compute_class_weight\n",
        "from sklearn.impute import KNNImputer\n",
        "np.random.seed=1234"
      ],
      "metadata": {
        "id": "79ulMqI53XnF"
      },
      "execution_count": null,
      "outputs": []
    },
    {
      "cell_type": "markdown",
      "source": [
        "# `02` Load Dataset"
      ],
      "metadata": {
        "id": "BF1FxMOhWAst"
      }
    },
    {
      "cell_type": "code",
      "source": [
        "data=pd.read_csv('train_credit.csv')\n",
        "data.head()"
      ],
      "metadata": {
        "colab": {
          "base_uri": "https://localhost:8080/"
        },
        "id": "blLEqW3oPKi7",
        "outputId": "28aa6842-cda9-45a3-d681-1cebdb405838"
      },
      "execution_count": null,
      "outputs": [
        {
          "output_type": "stream",
          "name": "stderr",
          "text": [
            "<ipython-input-2-faa0377b89c5>:1: DtypeWarning: Columns (26) have mixed types. Specify dtype option on import or set low_memory=False.\n",
            "  data=pd.read_csv('train_credit.csv')\n"
          ]
        },
        {
          "output_type": "execute_result",
          "data": {
            "text/plain": [
              "       ID Customer_ID     Month           Name   Age          SSN Occupation  \\\n",
              "0  0x1602   CUS_0xd40   January  Aaron Maashoh    23  821-00-0265  Scientist   \n",
              "1  0x1603   CUS_0xd40  February  Aaron Maashoh    23  821-00-0265  Scientist   \n",
              "2  0x1604   CUS_0xd40     March  Aaron Maashoh  -500  821-00-0265  Scientist   \n",
              "3  0x1605   CUS_0xd40     April  Aaron Maashoh    23  821-00-0265  Scientist   \n",
              "4  0x1606   CUS_0xd40       May  Aaron Maashoh    23  821-00-0265  Scientist   \n",
              "\n",
              "  Annual_Income  Monthly_Inhand_Salary  Num_Bank_Accounts  ...  Credit_Mix  \\\n",
              "0      19114.12            1824.843333                  3  ...           _   \n",
              "1      19114.12                    NaN                  3  ...        Good   \n",
              "2      19114.12                    NaN                  3  ...        Good   \n",
              "3      19114.12                    NaN                  3  ...        Good   \n",
              "4      19114.12            1824.843333                  3  ...        Good   \n",
              "\n",
              "   Outstanding_Debt Credit_Utilization_Ratio     Credit_History_Age  \\\n",
              "0            809.98                26.822620  22 Years and 1 Months   \n",
              "1            809.98                31.944960                    NaN   \n",
              "2            809.98                28.609352  22 Years and 3 Months   \n",
              "3            809.98                31.377862  22 Years and 4 Months   \n",
              "4            809.98                24.797347  22 Years and 5 Months   \n",
              "\n",
              "   Payment_of_Min_Amount Total_EMI_per_month Amount_invested_monthly  \\\n",
              "0                     No           49.574949       80.41529543900253   \n",
              "1                     No           49.574949      118.28022162236736   \n",
              "2                     No           49.574949         81.699521264648   \n",
              "3                     No           49.574949       199.4580743910713   \n",
              "4                     No           49.574949      41.420153086217326   \n",
              "\n",
              "                  Payment_Behaviour     Monthly_Balance Credit_Score  \n",
              "0   High_spent_Small_value_payments  312.49408867943663         Good  \n",
              "1    Low_spent_Large_value_payments  284.62916249607184         Good  \n",
              "2   Low_spent_Medium_value_payments   331.2098628537912         Good  \n",
              "3    Low_spent_Small_value_payments  223.45130972736786         Good  \n",
              "4  High_spent_Medium_value_payments  341.48923103222177         Good  \n",
              "\n",
              "[5 rows x 28 columns]"
            ],
            "text/html": [
              "\n",
              "  <div id=\"df-2356ae74-89b4-4b56-a770-30aa393fbe53\" class=\"colab-df-container\">\n",
              "    <div>\n",
              "<style scoped>\n",
              "    .dataframe tbody tr th:only-of-type {\n",
              "        vertical-align: middle;\n",
              "    }\n",
              "\n",
              "    .dataframe tbody tr th {\n",
              "        vertical-align: top;\n",
              "    }\n",
              "\n",
              "    .dataframe thead th {\n",
              "        text-align: right;\n",
              "    }\n",
              "</style>\n",
              "<table border=\"1\" class=\"dataframe\">\n",
              "  <thead>\n",
              "    <tr style=\"text-align: right;\">\n",
              "      <th></th>\n",
              "      <th>ID</th>\n",
              "      <th>Customer_ID</th>\n",
              "      <th>Month</th>\n",
              "      <th>Name</th>\n",
              "      <th>Age</th>\n",
              "      <th>SSN</th>\n",
              "      <th>Occupation</th>\n",
              "      <th>Annual_Income</th>\n",
              "      <th>Monthly_Inhand_Salary</th>\n",
              "      <th>Num_Bank_Accounts</th>\n",
              "      <th>...</th>\n",
              "      <th>Credit_Mix</th>\n",
              "      <th>Outstanding_Debt</th>\n",
              "      <th>Credit_Utilization_Ratio</th>\n",
              "      <th>Credit_History_Age</th>\n",
              "      <th>Payment_of_Min_Amount</th>\n",
              "      <th>Total_EMI_per_month</th>\n",
              "      <th>Amount_invested_monthly</th>\n",
              "      <th>Payment_Behaviour</th>\n",
              "      <th>Monthly_Balance</th>\n",
              "      <th>Credit_Score</th>\n",
              "    </tr>\n",
              "  </thead>\n",
              "  <tbody>\n",
              "    <tr>\n",
              "      <th>0</th>\n",
              "      <td>0x1602</td>\n",
              "      <td>CUS_0xd40</td>\n",
              "      <td>January</td>\n",
              "      <td>Aaron Maashoh</td>\n",
              "      <td>23</td>\n",
              "      <td>821-00-0265</td>\n",
              "      <td>Scientist</td>\n",
              "      <td>19114.12</td>\n",
              "      <td>1824.843333</td>\n",
              "      <td>3</td>\n",
              "      <td>...</td>\n",
              "      <td>_</td>\n",
              "      <td>809.98</td>\n",
              "      <td>26.822620</td>\n",
              "      <td>22 Years and 1 Months</td>\n",
              "      <td>No</td>\n",
              "      <td>49.574949</td>\n",
              "      <td>80.41529543900253</td>\n",
              "      <td>High_spent_Small_value_payments</td>\n",
              "      <td>312.49408867943663</td>\n",
              "      <td>Good</td>\n",
              "    </tr>\n",
              "    <tr>\n",
              "      <th>1</th>\n",
              "      <td>0x1603</td>\n",
              "      <td>CUS_0xd40</td>\n",
              "      <td>February</td>\n",
              "      <td>Aaron Maashoh</td>\n",
              "      <td>23</td>\n",
              "      <td>821-00-0265</td>\n",
              "      <td>Scientist</td>\n",
              "      <td>19114.12</td>\n",
              "      <td>NaN</td>\n",
              "      <td>3</td>\n",
              "      <td>...</td>\n",
              "      <td>Good</td>\n",
              "      <td>809.98</td>\n",
              "      <td>31.944960</td>\n",
              "      <td>NaN</td>\n",
              "      <td>No</td>\n",
              "      <td>49.574949</td>\n",
              "      <td>118.28022162236736</td>\n",
              "      <td>Low_spent_Large_value_payments</td>\n",
              "      <td>284.62916249607184</td>\n",
              "      <td>Good</td>\n",
              "    </tr>\n",
              "    <tr>\n",
              "      <th>2</th>\n",
              "      <td>0x1604</td>\n",
              "      <td>CUS_0xd40</td>\n",
              "      <td>March</td>\n",
              "      <td>Aaron Maashoh</td>\n",
              "      <td>-500</td>\n",
              "      <td>821-00-0265</td>\n",
              "      <td>Scientist</td>\n",
              "      <td>19114.12</td>\n",
              "      <td>NaN</td>\n",
              "      <td>3</td>\n",
              "      <td>...</td>\n",
              "      <td>Good</td>\n",
              "      <td>809.98</td>\n",
              "      <td>28.609352</td>\n",
              "      <td>22 Years and 3 Months</td>\n",
              "      <td>No</td>\n",
              "      <td>49.574949</td>\n",
              "      <td>81.699521264648</td>\n",
              "      <td>Low_spent_Medium_value_payments</td>\n",
              "      <td>331.2098628537912</td>\n",
              "      <td>Good</td>\n",
              "    </tr>\n",
              "    <tr>\n",
              "      <th>3</th>\n",
              "      <td>0x1605</td>\n",
              "      <td>CUS_0xd40</td>\n",
              "      <td>April</td>\n",
              "      <td>Aaron Maashoh</td>\n",
              "      <td>23</td>\n",
              "      <td>821-00-0265</td>\n",
              "      <td>Scientist</td>\n",
              "      <td>19114.12</td>\n",
              "      <td>NaN</td>\n",
              "      <td>3</td>\n",
              "      <td>...</td>\n",
              "      <td>Good</td>\n",
              "      <td>809.98</td>\n",
              "      <td>31.377862</td>\n",
              "      <td>22 Years and 4 Months</td>\n",
              "      <td>No</td>\n",
              "      <td>49.574949</td>\n",
              "      <td>199.4580743910713</td>\n",
              "      <td>Low_spent_Small_value_payments</td>\n",
              "      <td>223.45130972736786</td>\n",
              "      <td>Good</td>\n",
              "    </tr>\n",
              "    <tr>\n",
              "      <th>4</th>\n",
              "      <td>0x1606</td>\n",
              "      <td>CUS_0xd40</td>\n",
              "      <td>May</td>\n",
              "      <td>Aaron Maashoh</td>\n",
              "      <td>23</td>\n",
              "      <td>821-00-0265</td>\n",
              "      <td>Scientist</td>\n",
              "      <td>19114.12</td>\n",
              "      <td>1824.843333</td>\n",
              "      <td>3</td>\n",
              "      <td>...</td>\n",
              "      <td>Good</td>\n",
              "      <td>809.98</td>\n",
              "      <td>24.797347</td>\n",
              "      <td>22 Years and 5 Months</td>\n",
              "      <td>No</td>\n",
              "      <td>49.574949</td>\n",
              "      <td>41.420153086217326</td>\n",
              "      <td>High_spent_Medium_value_payments</td>\n",
              "      <td>341.48923103222177</td>\n",
              "      <td>Good</td>\n",
              "    </tr>\n",
              "  </tbody>\n",
              "</table>\n",
              "<p>5 rows × 28 columns</p>\n",
              "</div>\n",
              "    <div class=\"colab-df-buttons\">\n",
              "\n",
              "  <div class=\"colab-df-container\">\n",
              "    <button class=\"colab-df-convert\" onclick=\"convertToInteractive('df-2356ae74-89b4-4b56-a770-30aa393fbe53')\"\n",
              "            title=\"Convert this dataframe to an interactive table.\"\n",
              "            style=\"display:none;\">\n",
              "\n",
              "  <svg xmlns=\"http://www.w3.org/2000/svg\" height=\"24px\" viewBox=\"0 -960 960 960\">\n",
              "    <path d=\"M120-120v-720h720v720H120Zm60-500h600v-160H180v160Zm220 220h160v-160H400v160Zm0 220h160v-160H400v160ZM180-400h160v-160H180v160Zm440 0h160v-160H620v160ZM180-180h160v-160H180v160Zm440 0h160v-160H620v160Z\"/>\n",
              "  </svg>\n",
              "    </button>\n",
              "\n",
              "  <style>\n",
              "    .colab-df-container {\n",
              "      display:flex;\n",
              "      gap: 12px;\n",
              "    }\n",
              "\n",
              "    .colab-df-convert {\n",
              "      background-color: #E8F0FE;\n",
              "      border: none;\n",
              "      border-radius: 50%;\n",
              "      cursor: pointer;\n",
              "      display: none;\n",
              "      fill: #1967D2;\n",
              "      height: 32px;\n",
              "      padding: 0 0 0 0;\n",
              "      width: 32px;\n",
              "    }\n",
              "\n",
              "    .colab-df-convert:hover {\n",
              "      background-color: #E2EBFA;\n",
              "      box-shadow: 0px 1px 2px rgba(60, 64, 67, 0.3), 0px 1px 3px 1px rgba(60, 64, 67, 0.15);\n",
              "      fill: #174EA6;\n",
              "    }\n",
              "\n",
              "    .colab-df-buttons div {\n",
              "      margin-bottom: 4px;\n",
              "    }\n",
              "\n",
              "    [theme=dark] .colab-df-convert {\n",
              "      background-color: #3B4455;\n",
              "      fill: #D2E3FC;\n",
              "    }\n",
              "\n",
              "    [theme=dark] .colab-df-convert:hover {\n",
              "      background-color: #434B5C;\n",
              "      box-shadow: 0px 1px 3px 1px rgba(0, 0, 0, 0.15);\n",
              "      filter: drop-shadow(0px 1px 2px rgba(0, 0, 0, 0.3));\n",
              "      fill: #FFFFFF;\n",
              "    }\n",
              "  </style>\n",
              "\n",
              "    <script>\n",
              "      const buttonEl =\n",
              "        document.querySelector('#df-2356ae74-89b4-4b56-a770-30aa393fbe53 button.colab-df-convert');\n",
              "      buttonEl.style.display =\n",
              "        google.colab.kernel.accessAllowed ? 'block' : 'none';\n",
              "\n",
              "      async function convertToInteractive(key) {\n",
              "        const element = document.querySelector('#df-2356ae74-89b4-4b56-a770-30aa393fbe53');\n",
              "        const dataTable =\n",
              "          await google.colab.kernel.invokeFunction('convertToInteractive',\n",
              "                                                    [key], {});\n",
              "        if (!dataTable) return;\n",
              "\n",
              "        const docLinkHtml = 'Like what you see? Visit the ' +\n",
              "          '<a target=\"_blank\" href=https://colab.research.google.com/notebooks/data_table.ipynb>data table notebook</a>'\n",
              "          + ' to learn more about interactive tables.';\n",
              "        element.innerHTML = '';\n",
              "        dataTable['output_type'] = 'display_data';\n",
              "        await google.colab.output.renderOutput(dataTable, element);\n",
              "        const docLink = document.createElement('div');\n",
              "        docLink.innerHTML = docLinkHtml;\n",
              "        element.appendChild(docLink);\n",
              "      }\n",
              "    </script>\n",
              "  </div>\n",
              "\n",
              "\n",
              "<div id=\"df-288dbc4b-21d6-467a-9eeb-7125577d76fe\">\n",
              "  <button class=\"colab-df-quickchart\" onclick=\"quickchart('df-288dbc4b-21d6-467a-9eeb-7125577d76fe')\"\n",
              "            title=\"Suggest charts\"\n",
              "            style=\"display:none;\">\n",
              "\n",
              "<svg xmlns=\"http://www.w3.org/2000/svg\" height=\"24px\"viewBox=\"0 0 24 24\"\n",
              "     width=\"24px\">\n",
              "    <g>\n",
              "        <path d=\"M19 3H5c-1.1 0-2 .9-2 2v14c0 1.1.9 2 2 2h14c1.1 0 2-.9 2-2V5c0-1.1-.9-2-2-2zM9 17H7v-7h2v7zm4 0h-2V7h2v10zm4 0h-2v-4h2v4z\"/>\n",
              "    </g>\n",
              "</svg>\n",
              "  </button>\n",
              "\n",
              "<style>\n",
              "  .colab-df-quickchart {\n",
              "      --bg-color: #E8F0FE;\n",
              "      --fill-color: #1967D2;\n",
              "      --hover-bg-color: #E2EBFA;\n",
              "      --hover-fill-color: #174EA6;\n",
              "      --disabled-fill-color: #AAA;\n",
              "      --disabled-bg-color: #DDD;\n",
              "  }\n",
              "\n",
              "  [theme=dark] .colab-df-quickchart {\n",
              "      --bg-color: #3B4455;\n",
              "      --fill-color: #D2E3FC;\n",
              "      --hover-bg-color: #434B5C;\n",
              "      --hover-fill-color: #FFFFFF;\n",
              "      --disabled-bg-color: #3B4455;\n",
              "      --disabled-fill-color: #666;\n",
              "  }\n",
              "\n",
              "  .colab-df-quickchart {\n",
              "    background-color: var(--bg-color);\n",
              "    border: none;\n",
              "    border-radius: 50%;\n",
              "    cursor: pointer;\n",
              "    display: none;\n",
              "    fill: var(--fill-color);\n",
              "    height: 32px;\n",
              "    padding: 0;\n",
              "    width: 32px;\n",
              "  }\n",
              "\n",
              "  .colab-df-quickchart:hover {\n",
              "    background-color: var(--hover-bg-color);\n",
              "    box-shadow: 0 1px 2px rgba(60, 64, 67, 0.3), 0 1px 3px 1px rgba(60, 64, 67, 0.15);\n",
              "    fill: var(--button-hover-fill-color);\n",
              "  }\n",
              "\n",
              "  .colab-df-quickchart-complete:disabled,\n",
              "  .colab-df-quickchart-complete:disabled:hover {\n",
              "    background-color: var(--disabled-bg-color);\n",
              "    fill: var(--disabled-fill-color);\n",
              "    box-shadow: none;\n",
              "  }\n",
              "\n",
              "  .colab-df-spinner {\n",
              "    border: 2px solid var(--fill-color);\n",
              "    border-color: transparent;\n",
              "    border-bottom-color: var(--fill-color);\n",
              "    animation:\n",
              "      spin 1s steps(1) infinite;\n",
              "  }\n",
              "\n",
              "  @keyframes spin {\n",
              "    0% {\n",
              "      border-color: transparent;\n",
              "      border-bottom-color: var(--fill-color);\n",
              "      border-left-color: var(--fill-color);\n",
              "    }\n",
              "    20% {\n",
              "      border-color: transparent;\n",
              "      border-left-color: var(--fill-color);\n",
              "      border-top-color: var(--fill-color);\n",
              "    }\n",
              "    30% {\n",
              "      border-color: transparent;\n",
              "      border-left-color: var(--fill-color);\n",
              "      border-top-color: var(--fill-color);\n",
              "      border-right-color: var(--fill-color);\n",
              "    }\n",
              "    40% {\n",
              "      border-color: transparent;\n",
              "      border-right-color: var(--fill-color);\n",
              "      border-top-color: var(--fill-color);\n",
              "    }\n",
              "    60% {\n",
              "      border-color: transparent;\n",
              "      border-right-color: var(--fill-color);\n",
              "    }\n",
              "    80% {\n",
              "      border-color: transparent;\n",
              "      border-right-color: var(--fill-color);\n",
              "      border-bottom-color: var(--fill-color);\n",
              "    }\n",
              "    90% {\n",
              "      border-color: transparent;\n",
              "      border-bottom-color: var(--fill-color);\n",
              "    }\n",
              "  }\n",
              "</style>\n",
              "\n",
              "  <script>\n",
              "    async function quickchart(key) {\n",
              "      const quickchartButtonEl =\n",
              "        document.querySelector('#' + key + ' button');\n",
              "      quickchartButtonEl.disabled = true;  // To prevent multiple clicks.\n",
              "      quickchartButtonEl.classList.add('colab-df-spinner');\n",
              "      try {\n",
              "        const charts = await google.colab.kernel.invokeFunction(\n",
              "            'suggestCharts', [key], {});\n",
              "      } catch (error) {\n",
              "        console.error('Error during call to suggestCharts:', error);\n",
              "      }\n",
              "      quickchartButtonEl.classList.remove('colab-df-spinner');\n",
              "      quickchartButtonEl.classList.add('colab-df-quickchart-complete');\n",
              "    }\n",
              "    (() => {\n",
              "      let quickchartButtonEl =\n",
              "        document.querySelector('#df-288dbc4b-21d6-467a-9eeb-7125577d76fe button');\n",
              "      quickchartButtonEl.style.display =\n",
              "        google.colab.kernel.accessAllowed ? 'block' : 'none';\n",
              "    })();\n",
              "  </script>\n",
              "</div>\n",
              "\n",
              "    </div>\n",
              "  </div>\n"
            ],
            "application/vnd.google.colaboratory.intrinsic+json": {
              "type": "dataframe",
              "variable_name": "data"
            }
          },
          "metadata": {},
          "execution_count": 2
        }
      ]
    },
    {
      "cell_type": "markdown",
      "source": [
        "# `03` Split Data"
      ],
      "metadata": {
        "id": "ppnPNFvpWHV5"
      }
    },
    {
      "cell_type": "code",
      "execution_count": null,
      "metadata": {
        "id": "Y4N84yJglp5q"
      },
      "outputs": [],
      "source": [
        "X=data.drop('Credit_Score',axis=1)\n",
        "y=data['Credit_Score']"
      ]
    },
    {
      "cell_type": "code",
      "execution_count": null,
      "metadata": {
        "id": "cKkw486By0sL"
      },
      "outputs": [],
      "source": [
        "X_train, X_test, y_train, y_test = train_test_split(X, y, test_size=0.2, random_state=1234)"
      ]
    },
    {
      "cell_type": "code",
      "execution_count": null,
      "metadata": {
        "colab": {
          "base_uri": "https://localhost:8080/"
        },
        "id": "JaB29EZczxH_",
        "outputId": "7f2e4912-1eaf-4a4f-d306-8039927dc07b"
      },
      "outputs": [
        {
          "output_type": "execute_result",
          "data": {
            "text/plain": [
              "((80000, 27), (20000, 27), (80000,), (20000,))"
            ]
          },
          "metadata": {},
          "execution_count": 5
        }
      ],
      "source": [
        "X_train.shape, X_test.shape, y_train.shape, y_test.shape"
      ]
    },
    {
      "cell_type": "code",
      "execution_count": null,
      "metadata": {
        "id": "0FaJlFLTz2xF"
      },
      "outputs": [],
      "source": [
        "X_valid, X_test, y_valid, y_test = train_test_split(X_test, y_test, test_size=0.3, random_state=1234)"
      ]
    },
    {
      "cell_type": "code",
      "execution_count": null,
      "metadata": {
        "colab": {
          "base_uri": "https://localhost:8080/"
        },
        "id": "oOjgUobIz6Eg",
        "outputId": "9ac89ea4-7119-460c-8524-8ae9eabb82f4"
      },
      "outputs": [
        {
          "output_type": "execute_result",
          "data": {
            "text/plain": [
              "((80000, 27), (6000, 27), (80000,), (6000,))"
            ]
          },
          "metadata": {},
          "execution_count": 7
        }
      ],
      "source": [
        "X_train.shape, X_test.shape, y_train.shape, y_test.shape"
      ]
    },
    {
      "cell_type": "code",
      "source": [
        "X_train.isna().sum()"
      ],
      "metadata": {
        "colab": {
          "base_uri": "https://localhost:8080/"
        },
        "id": "ZnIWotx3Q0xd",
        "outputId": "506b6ed7-0e3d-46d3-bdef-5169e0a436f1"
      },
      "execution_count": null,
      "outputs": [
        {
          "output_type": "execute_result",
          "data": {
            "text/plain": [
              "ID                              0\n",
              "Customer_ID                     0\n",
              "Month                           0\n",
              "Name                         7960\n",
              "Age                             0\n",
              "SSN                             0\n",
              "Occupation                      0\n",
              "Annual_Income                   0\n",
              "Monthly_Inhand_Salary       12073\n",
              "Num_Bank_Accounts               0\n",
              "Num_Credit_Card                 0\n",
              "Interest_Rate                   0\n",
              "Num_of_Loan                     0\n",
              "Type_of_Loan                 9109\n",
              "Delay_from_due_date             0\n",
              "Num_of_Delayed_Payment       5586\n",
              "Changed_Credit_Limit            0\n",
              "Num_Credit_Inquiries         1555\n",
              "Credit_Mix                      0\n",
              "Outstanding_Debt                0\n",
              "Credit_Utilization_Ratio        0\n",
              "Credit_History_Age           7182\n",
              "Payment_of_Min_Amount           0\n",
              "Total_EMI_per_month             0\n",
              "Amount_invested_monthly      3608\n",
              "Payment_Behaviour               0\n",
              "Monthly_Balance               951\n",
              "dtype: int64"
            ],
            "text/html": [
              "<div>\n",
              "<style scoped>\n",
              "    .dataframe tbody tr th:only-of-type {\n",
              "        vertical-align: middle;\n",
              "    }\n",
              "\n",
              "    .dataframe tbody tr th {\n",
              "        vertical-align: top;\n",
              "    }\n",
              "\n",
              "    .dataframe thead th {\n",
              "        text-align: right;\n",
              "    }\n",
              "</style>\n",
              "<table border=\"1\" class=\"dataframe\">\n",
              "  <thead>\n",
              "    <tr style=\"text-align: right;\">\n",
              "      <th></th>\n",
              "      <th>0</th>\n",
              "    </tr>\n",
              "  </thead>\n",
              "  <tbody>\n",
              "    <tr>\n",
              "      <th>ID</th>\n",
              "      <td>0</td>\n",
              "    </tr>\n",
              "    <tr>\n",
              "      <th>Customer_ID</th>\n",
              "      <td>0</td>\n",
              "    </tr>\n",
              "    <tr>\n",
              "      <th>Month</th>\n",
              "      <td>0</td>\n",
              "    </tr>\n",
              "    <tr>\n",
              "      <th>Name</th>\n",
              "      <td>7960</td>\n",
              "    </tr>\n",
              "    <tr>\n",
              "      <th>Age</th>\n",
              "      <td>0</td>\n",
              "    </tr>\n",
              "    <tr>\n",
              "      <th>SSN</th>\n",
              "      <td>0</td>\n",
              "    </tr>\n",
              "    <tr>\n",
              "      <th>Occupation</th>\n",
              "      <td>0</td>\n",
              "    </tr>\n",
              "    <tr>\n",
              "      <th>Annual_Income</th>\n",
              "      <td>0</td>\n",
              "    </tr>\n",
              "    <tr>\n",
              "      <th>Monthly_Inhand_Salary</th>\n",
              "      <td>12073</td>\n",
              "    </tr>\n",
              "    <tr>\n",
              "      <th>Num_Bank_Accounts</th>\n",
              "      <td>0</td>\n",
              "    </tr>\n",
              "    <tr>\n",
              "      <th>Num_Credit_Card</th>\n",
              "      <td>0</td>\n",
              "    </tr>\n",
              "    <tr>\n",
              "      <th>Interest_Rate</th>\n",
              "      <td>0</td>\n",
              "    </tr>\n",
              "    <tr>\n",
              "      <th>Num_of_Loan</th>\n",
              "      <td>0</td>\n",
              "    </tr>\n",
              "    <tr>\n",
              "      <th>Type_of_Loan</th>\n",
              "      <td>9109</td>\n",
              "    </tr>\n",
              "    <tr>\n",
              "      <th>Delay_from_due_date</th>\n",
              "      <td>0</td>\n",
              "    </tr>\n",
              "    <tr>\n",
              "      <th>Num_of_Delayed_Payment</th>\n",
              "      <td>5586</td>\n",
              "    </tr>\n",
              "    <tr>\n",
              "      <th>Changed_Credit_Limit</th>\n",
              "      <td>0</td>\n",
              "    </tr>\n",
              "    <tr>\n",
              "      <th>Num_Credit_Inquiries</th>\n",
              "      <td>1555</td>\n",
              "    </tr>\n",
              "    <tr>\n",
              "      <th>Credit_Mix</th>\n",
              "      <td>0</td>\n",
              "    </tr>\n",
              "    <tr>\n",
              "      <th>Outstanding_Debt</th>\n",
              "      <td>0</td>\n",
              "    </tr>\n",
              "    <tr>\n",
              "      <th>Credit_Utilization_Ratio</th>\n",
              "      <td>0</td>\n",
              "    </tr>\n",
              "    <tr>\n",
              "      <th>Credit_History_Age</th>\n",
              "      <td>7182</td>\n",
              "    </tr>\n",
              "    <tr>\n",
              "      <th>Payment_of_Min_Amount</th>\n",
              "      <td>0</td>\n",
              "    </tr>\n",
              "    <tr>\n",
              "      <th>Total_EMI_per_month</th>\n",
              "      <td>0</td>\n",
              "    </tr>\n",
              "    <tr>\n",
              "      <th>Amount_invested_monthly</th>\n",
              "      <td>3608</td>\n",
              "    </tr>\n",
              "    <tr>\n",
              "      <th>Payment_Behaviour</th>\n",
              "      <td>0</td>\n",
              "    </tr>\n",
              "    <tr>\n",
              "      <th>Monthly_Balance</th>\n",
              "      <td>951</td>\n",
              "    </tr>\n",
              "  </tbody>\n",
              "</table>\n",
              "</div><br><label><b>dtype:</b> int64</label>"
            ]
          },
          "metadata": {},
          "execution_count": 8
        }
      ]
    },
    {
      "cell_type": "markdown",
      "source": [
        "# `04` Preprocessing"
      ],
      "metadata": {
        "id": "sEo6usazCuHt"
      }
    },
    {
      "cell_type": "code",
      "source": [
        "def preprocessing_data(X):\n",
        "    #drop the unimportant features\n",
        "    X=X.drop(['ID', 'Customer_ID', 'Month', 'Name', 'SSN', 'Type_of_Loan','Monthly_Inhand_Salary'], axis = 1)\n",
        "\n",
        "    #Replace unvalid value in column Num_of_Delayed_Payment\n",
        "\n",
        "    X['Num_of_Delayed_Payment'].unique()\n",
        "\n",
        "    def replace_value(col):\n",
        "\n",
        "        X[col] = X[col].astype(str).str.replace('_', '')\n",
        "        X[col] = X[col].astype(str).str.replace('-', '')\n",
        "        return X[col]\n",
        "\n",
        "    X['Num_of_Delayed_Payment']=replace_value('Num_of_Delayed_Payment')\n",
        "    X['Num_of_Delayed_Payment'].unique()\n",
        "\n",
        "    # Replace unvalid value in column  Age\n",
        "\n",
        "    X['Age']=replace_value('Age')\n",
        "\n",
        "    # convert Age column into numeric\n",
        "\n",
        "    X['Age']=pd.to_numeric(X['Age'],downcast='float')\n",
        "\n",
        "    # handle unrealistic values\n",
        "\n",
        "\n",
        "    X[X['Age'] < 0]['Age'].unique()\n",
        "    X[X['Age'] >100]['Age'].unique()\n",
        "\n",
        "    # X[X['Age'] > 100].shape\n",
        "\n",
        "\n",
        "    median_age = X['Age'].median()\n",
        "    X['Age'] = X['Age'].apply(lambda x: median_age if x > 100 else x)\n",
        "\n",
        "    # Num_Credit_Inquiries\n",
        "\n",
        "    X['Num_Credit_Inquiries'].unique()\n",
        "\n",
        "    X['Num_Credit_Inquiries']=X['Num_Credit_Inquiries'].fillna(X['Num_Credit_Inquiries'].median())\n",
        "\n",
        "    X['Num_Credit_Inquiries'] = pd.to_numeric(X['Num_Credit_Inquiries'], errors='coerce')\n",
        "\n",
        "    #Convert Credit_History_Age into years and fill missing\n",
        "\n",
        "\n",
        "    def convert_to_years(value):\n",
        "        if pd.isna(value):\n",
        "            return np.nan\n",
        "\n",
        "        parts = value.split(' ')\n",
        "\n",
        "        if len(parts) >= 4:\n",
        "            years = int(parts[0])\n",
        "            months = int(parts[3])\n",
        "            total_years = years + (months / 12)\n",
        "            return round(total_years, 2)\n",
        "        else:\n",
        "            return np.nan\n",
        "\n",
        "    #fill null values\n",
        "\n",
        "    X['Credit_History_Age']= X['Credit_History_Age'].apply(convert_to_years)\n",
        "\n",
        "    X['Credit_History_Age']=X['Credit_History_Age'].fillna(X['Credit_History_Age'].median())\n",
        "\n",
        "    # Check if any outliers\n",
        "\n",
        "    X[X['Credit_History_Age'] >35]['Credit_History_Age'].unique()\n",
        "\n",
        "    # fill missing in Payment_of_Min_Amount it has one null value\n",
        "    X['Payment_of_Min_Amount']=X['Payment_of_Min_Amount'].fillna(X['Payment_of_Min_Amount'].mode()[0])\n",
        "\n",
        "\n",
        "\n",
        "    # Encoding Payment_of_Min_Amount\n",
        "\n",
        "    pd.set_option('future.no_silent_downcasting', True)\n",
        "    X['Payment_of_Min_Amount'] = X['Payment_of_Min_Amount'].replace({ \"No\": 0,\"Yes\": 1, \"NM\": 2})\n",
        "\n",
        "    # Total_EMI_per_month\n",
        "\n",
        "    X['Total_EMI_per_month']=X['Total_EMI_per_month'].fillna(X['Total_EMI_per_month'].median())\n",
        "\n",
        "\n",
        "    # Handle Amount_invested_monthly\n",
        "\n",
        "    X['Amount_invested_monthly'].dtype\n",
        "\n",
        "    X['Amount_invested_monthly'] = pd.to_numeric(X['Amount_invested_monthly'], errors='coerce')\n",
        "\n",
        "    X['Amount_invested_monthly']=X['Amount_invested_monthly'].fillna(X['Amount_invested_monthly'].median())\n",
        "\n",
        "    X['Amount_invested_monthly'].dtype\n",
        "\n",
        "\n",
        "    # Handle Payment_Behaviour\n",
        "\n",
        "    X['Payment_Behaviour'].unique()\n",
        "\n",
        "    X['Payment_Behaviour']=X['Payment_Behaviour'].replace('!@9#%8','unknown')\n",
        "\n",
        "    X['Payment_Behaviour']=X['Payment_Behaviour'].replace(\"unknown\", X['Payment_Behaviour'].mode()[0])\n",
        "\n",
        "    X['Payment_Behaviour'].unique()\n",
        "\n",
        "    X['Payment_Behaviour']=X['Payment_Behaviour'].fillna(X['Payment_Behaviour'].mode()[0])\n",
        "\n",
        "    #Encoding Payment_Behaviour\n",
        "\n",
        "    encoder_ord = OrdinalEncoder(categories=[['High_spent_Small_value_payments',\n",
        "          'Low_spent_Large_value_payments', 'Low_spent_Small_value_payments',\n",
        "          'High_spent_Medium_value_payments',\n",
        "          'High_spent_Large_value_payments',\n",
        "          'Low_spent_Medium_value_payments']])\n",
        "    X['Payment_Behaviour'] = encoder_ord.fit_transform(X[['Payment_Behaviour']])\n",
        "\n",
        "    X['Payment_Behaviour'].unique()\n",
        "\n",
        "    # Monthly_Balance column\n",
        "\n",
        "\n",
        "    X['Monthly_Balance'] = pd.to_numeric(X['Monthly_Balance'], errors='coerce')\n",
        "\n",
        "    X['Monthly_Balance']=X['Monthly_Balance'].fillna(X['Monthly_Balance'].median())\n",
        "\n",
        "\n",
        "    # Occupation\n",
        "    X['Occupation'] = X['Occupation'].replace(\"_______\", \"Unknown\")\n",
        "\n",
        "    # occupation_encoded\n",
        "\n",
        "    encoder = OneHotEncoder(handle_unknown='ignore', sparse_output=False)\n",
        "    X['Occupation'] = X['Occupation'].astype(str)\n",
        "    occupation_encoded = encoder.fit_transform(X[['Occupation']])\n",
        "\n",
        "\n",
        "    occupation_encoded_df = pd.DataFrame(occupation_encoded, columns=encoder.get_feature_names_out(['Occupation']))\n",
        "    occupation_encoded_df.index = X.index\n",
        "    X = pd.concat([X, occupation_encoded_df], axis=1)\n",
        "    X.drop('Occupation', axis=1, inplace=True)\n",
        "\n",
        "    # Handle Annual_Income\n",
        "    X['Annual_Income']=replace_value('Annual_Income')\n",
        "\n",
        "    X['Annual_Income']=pd.to_numeric(X['Annual_Income'],downcast='float')\n",
        "\n",
        "    # Num of Loan\n",
        "\n",
        "    X['Num_of_Loan']=replace_value('Num_of_Loan')\n",
        "\n",
        "    X['Num_of_Loan']=pd.to_numeric(X['Num_of_Loan'],downcast='float')\n",
        "\n",
        "    #Num_of_Delayed_Payment\n",
        "    X['Num_of_Delayed_Payment'].unique()\n",
        "    X['Num_of_Delayed_Payment']=X['Num_of_Delayed_Payment'].replace('nan',X['Monthly_Balance'].median())\n",
        "    X['Num_of_Delayed_Payment'].unique()\n",
        "    X['Num_of_Delayed_Payment\t']=pd.to_numeric(X['Num_of_Delayed_Payment'],downcast='float')\n",
        "    X['Num_of_Delayed_Payment'].unique()\n",
        "\n",
        "    # convert data type Changed_Credit_Limit\n",
        "\n",
        "    X['Changed_Credit_Limit'] = X['Changed_Credit_Limit'].astype(str).str.replace('[^\\d.]', '', regex=True)\n",
        "    X['Changed_Credit_Limit'] = pd.to_numeric(X['Changed_Credit_Limit'], errors='coerce')\n",
        "    X['Changed_Credit_Limit']=X['Changed_Credit_Limit'].fillna(0)\n",
        "\n",
        "\n",
        "    # Outstanding_Debt\n",
        "    X['Outstanding_Debt'] = X['Outstanding_Debt'].str.replace('[^\\d.]', '', regex=True)\n",
        "    X['Outstanding_Debt'] = pd.to_numeric(X['Outstanding_Debt'], errors='coerce')\n",
        "\n",
        "    # Credit_Mix\n",
        "\n",
        "    mode_value = X['Credit_Mix'].mode()[0]\n",
        "    X['Credit_Mix']=X['Credit_Mix'].replace(\"_\", mode_value)\n",
        "\n",
        "    encoder_ord_mix = OrdinalEncoder(categories=[['Bad', 'Good', 'Standard']])\n",
        "    X['Credit_Mix'] = encoder_ord_mix.fit_transform(X[['Credit_Mix']])\n",
        "\n",
        "    return X\n",
        "\n",
        "\n"
      ],
      "metadata": {
        "id": "9Kx7D1ry08oV"
      },
      "execution_count": null,
      "outputs": []
    },
    {
      "cell_type": "code",
      "source": [
        "x_train_cleaned=preprocessing_data(X_train)"
      ],
      "metadata": {
        "id": "cjHw5v8C1R6h"
      },
      "execution_count": null,
      "outputs": []
    },
    {
      "cell_type": "code",
      "source": [
        "x_train_cleaned.isna().sum()"
      ],
      "metadata": {
        "colab": {
          "base_uri": "https://localhost:8080/",
          "height": 1000
        },
        "id": "caATilYG1gFm",
        "outputId": "cf38e597-f357-436b-b712-484a78f44e61"
      },
      "execution_count": null,
      "outputs": [
        {
          "output_type": "execute_result",
          "data": {
            "text/plain": [
              "Age                         0\n",
              "Annual_Income               0\n",
              "Num_Bank_Accounts           0\n",
              "Num_Credit_Card             0\n",
              "Interest_Rate               0\n",
              "Num_of_Loan                 0\n",
              "Delay_from_due_date         0\n",
              "Num_of_Delayed_Payment      0\n",
              "Changed_Credit_Limit        0\n",
              "Num_Credit_Inquiries        0\n",
              "Credit_Mix                  0\n",
              "Outstanding_Debt            0\n",
              "Credit_Utilization_Ratio    0\n",
              "Credit_History_Age          0\n",
              "Payment_of_Min_Amount       0\n",
              "Total_EMI_per_month         0\n",
              "Amount_invested_monthly     0\n",
              "Payment_Behaviour           0\n",
              "Monthly_Balance             0\n",
              "Occupation_Accountant       0\n",
              "Occupation_Architect        0\n",
              "Occupation_Developer        0\n",
              "Occupation_Doctor           0\n",
              "Occupation_Engineer         0\n",
              "Occupation_Entrepreneur     0\n",
              "Occupation_Journalist       0\n",
              "Occupation_Lawyer           0\n",
              "Occupation_Manager          0\n",
              "Occupation_Mechanic         0\n",
              "Occupation_Media_Manager    0\n",
              "Occupation_Musician         0\n",
              "Occupation_Scientist        0\n",
              "Occupation_Teacher          0\n",
              "Occupation_Unknown          0\n",
              "Occupation_Writer           0\n",
              "Num_of_Delayed_Payment\\t    0\n",
              "dtype: int64"
            ],
            "text/html": [
              "<div>\n",
              "<style scoped>\n",
              "    .dataframe tbody tr th:only-of-type {\n",
              "        vertical-align: middle;\n",
              "    }\n",
              "\n",
              "    .dataframe tbody tr th {\n",
              "        vertical-align: top;\n",
              "    }\n",
              "\n",
              "    .dataframe thead th {\n",
              "        text-align: right;\n",
              "    }\n",
              "</style>\n",
              "<table border=\"1\" class=\"dataframe\">\n",
              "  <thead>\n",
              "    <tr style=\"text-align: right;\">\n",
              "      <th></th>\n",
              "      <th>0</th>\n",
              "    </tr>\n",
              "  </thead>\n",
              "  <tbody>\n",
              "    <tr>\n",
              "      <th>Age</th>\n",
              "      <td>0</td>\n",
              "    </tr>\n",
              "    <tr>\n",
              "      <th>Annual_Income</th>\n",
              "      <td>0</td>\n",
              "    </tr>\n",
              "    <tr>\n",
              "      <th>Num_Bank_Accounts</th>\n",
              "      <td>0</td>\n",
              "    </tr>\n",
              "    <tr>\n",
              "      <th>Num_Credit_Card</th>\n",
              "      <td>0</td>\n",
              "    </tr>\n",
              "    <tr>\n",
              "      <th>Interest_Rate</th>\n",
              "      <td>0</td>\n",
              "    </tr>\n",
              "    <tr>\n",
              "      <th>Num_of_Loan</th>\n",
              "      <td>0</td>\n",
              "    </tr>\n",
              "    <tr>\n",
              "      <th>Delay_from_due_date</th>\n",
              "      <td>0</td>\n",
              "    </tr>\n",
              "    <tr>\n",
              "      <th>Num_of_Delayed_Payment</th>\n",
              "      <td>0</td>\n",
              "    </tr>\n",
              "    <tr>\n",
              "      <th>Changed_Credit_Limit</th>\n",
              "      <td>0</td>\n",
              "    </tr>\n",
              "    <tr>\n",
              "      <th>Num_Credit_Inquiries</th>\n",
              "      <td>0</td>\n",
              "    </tr>\n",
              "    <tr>\n",
              "      <th>Credit_Mix</th>\n",
              "      <td>0</td>\n",
              "    </tr>\n",
              "    <tr>\n",
              "      <th>Outstanding_Debt</th>\n",
              "      <td>0</td>\n",
              "    </tr>\n",
              "    <tr>\n",
              "      <th>Credit_Utilization_Ratio</th>\n",
              "      <td>0</td>\n",
              "    </tr>\n",
              "    <tr>\n",
              "      <th>Credit_History_Age</th>\n",
              "      <td>0</td>\n",
              "    </tr>\n",
              "    <tr>\n",
              "      <th>Payment_of_Min_Amount</th>\n",
              "      <td>0</td>\n",
              "    </tr>\n",
              "    <tr>\n",
              "      <th>Total_EMI_per_month</th>\n",
              "      <td>0</td>\n",
              "    </tr>\n",
              "    <tr>\n",
              "      <th>Amount_invested_monthly</th>\n",
              "      <td>0</td>\n",
              "    </tr>\n",
              "    <tr>\n",
              "      <th>Payment_Behaviour</th>\n",
              "      <td>0</td>\n",
              "    </tr>\n",
              "    <tr>\n",
              "      <th>Monthly_Balance</th>\n",
              "      <td>0</td>\n",
              "    </tr>\n",
              "    <tr>\n",
              "      <th>Occupation_Accountant</th>\n",
              "      <td>0</td>\n",
              "    </tr>\n",
              "    <tr>\n",
              "      <th>Occupation_Architect</th>\n",
              "      <td>0</td>\n",
              "    </tr>\n",
              "    <tr>\n",
              "      <th>Occupation_Developer</th>\n",
              "      <td>0</td>\n",
              "    </tr>\n",
              "    <tr>\n",
              "      <th>Occupation_Doctor</th>\n",
              "      <td>0</td>\n",
              "    </tr>\n",
              "    <tr>\n",
              "      <th>Occupation_Engineer</th>\n",
              "      <td>0</td>\n",
              "    </tr>\n",
              "    <tr>\n",
              "      <th>Occupation_Entrepreneur</th>\n",
              "      <td>0</td>\n",
              "    </tr>\n",
              "    <tr>\n",
              "      <th>Occupation_Journalist</th>\n",
              "      <td>0</td>\n",
              "    </tr>\n",
              "    <tr>\n",
              "      <th>Occupation_Lawyer</th>\n",
              "      <td>0</td>\n",
              "    </tr>\n",
              "    <tr>\n",
              "      <th>Occupation_Manager</th>\n",
              "      <td>0</td>\n",
              "    </tr>\n",
              "    <tr>\n",
              "      <th>Occupation_Mechanic</th>\n",
              "      <td>0</td>\n",
              "    </tr>\n",
              "    <tr>\n",
              "      <th>Occupation_Media_Manager</th>\n",
              "      <td>0</td>\n",
              "    </tr>\n",
              "    <tr>\n",
              "      <th>Occupation_Musician</th>\n",
              "      <td>0</td>\n",
              "    </tr>\n",
              "    <tr>\n",
              "      <th>Occupation_Scientist</th>\n",
              "      <td>0</td>\n",
              "    </tr>\n",
              "    <tr>\n",
              "      <th>Occupation_Teacher</th>\n",
              "      <td>0</td>\n",
              "    </tr>\n",
              "    <tr>\n",
              "      <th>Occupation_Unknown</th>\n",
              "      <td>0</td>\n",
              "    </tr>\n",
              "    <tr>\n",
              "      <th>Occupation_Writer</th>\n",
              "      <td>0</td>\n",
              "    </tr>\n",
              "    <tr>\n",
              "      <th>Num_of_Delayed_Payment\\t</th>\n",
              "      <td>0</td>\n",
              "    </tr>\n",
              "  </tbody>\n",
              "</table>\n",
              "</div><br><label><b>dtype:</b> int64</label>"
            ]
          },
          "metadata": {},
          "execution_count": 64
        }
      ]
    },
    {
      "cell_type": "markdown",
      "source": [
        "\n",
        "```\n",
        " Training data is cleaned ✅\n",
        "\n",
        "```"
      ],
      "metadata": {
        "id": "cGyNxREBbfZ_"
      }
    },
    {
      "cell_type": "markdown",
      "source": [
        "### Preprocessing on validation data"
      ],
      "metadata": {
        "id": "uZ9Uq0w3ZvpT"
      }
    },
    {
      "cell_type": "code",
      "source": [
        "x_valid_cleaned=preprocessing_data(X_valid)"
      ],
      "metadata": {
        "id": "Dg3e7MiaZvML"
      },
      "execution_count": null,
      "outputs": []
    },
    {
      "cell_type": "code",
      "source": [
        "x_valid_cleaned.isna().sum()"
      ],
      "metadata": {
        "colab": {
          "base_uri": "https://localhost:8080/",
          "height": 1000
        },
        "id": "0uNBavLMZvHB",
        "outputId": "12e7d2d0-37eb-4ac5-a8b9-485aa99906d3"
      },
      "execution_count": null,
      "outputs": [
        {
          "output_type": "execute_result",
          "data": {
            "text/plain": [
              "Age                         0\n",
              "Annual_Income               0\n",
              "Num_Bank_Accounts           0\n",
              "Num_Credit_Card             0\n",
              "Interest_Rate               0\n",
              "Num_of_Loan                 0\n",
              "Delay_from_due_date         0\n",
              "Num_of_Delayed_Payment      0\n",
              "Changed_Credit_Limit        0\n",
              "Num_Credit_Inquiries        0\n",
              "Credit_Mix                  0\n",
              "Outstanding_Debt            0\n",
              "Credit_Utilization_Ratio    0\n",
              "Credit_History_Age          0\n",
              "Payment_of_Min_Amount       0\n",
              "Total_EMI_per_month         0\n",
              "Amount_invested_monthly     0\n",
              "Payment_Behaviour           0\n",
              "Monthly_Balance             0\n",
              "Occupation_Accountant       0\n",
              "Occupation_Architect        0\n",
              "Occupation_Developer        0\n",
              "Occupation_Doctor           0\n",
              "Occupation_Engineer         0\n",
              "Occupation_Entrepreneur     0\n",
              "Occupation_Journalist       0\n",
              "Occupation_Lawyer           0\n",
              "Occupation_Manager          0\n",
              "Occupation_Mechanic         0\n",
              "Occupation_Media_Manager    0\n",
              "Occupation_Musician         0\n",
              "Occupation_Scientist        0\n",
              "Occupation_Teacher          0\n",
              "Occupation_Unknown          0\n",
              "Occupation_Writer           0\n",
              "Num_of_Delayed_Payment\\t    0\n",
              "dtype: int64"
            ],
            "text/html": [
              "<div>\n",
              "<style scoped>\n",
              "    .dataframe tbody tr th:only-of-type {\n",
              "        vertical-align: middle;\n",
              "    }\n",
              "\n",
              "    .dataframe tbody tr th {\n",
              "        vertical-align: top;\n",
              "    }\n",
              "\n",
              "    .dataframe thead th {\n",
              "        text-align: right;\n",
              "    }\n",
              "</style>\n",
              "<table border=\"1\" class=\"dataframe\">\n",
              "  <thead>\n",
              "    <tr style=\"text-align: right;\">\n",
              "      <th></th>\n",
              "      <th>0</th>\n",
              "    </tr>\n",
              "  </thead>\n",
              "  <tbody>\n",
              "    <tr>\n",
              "      <th>Age</th>\n",
              "      <td>0</td>\n",
              "    </tr>\n",
              "    <tr>\n",
              "      <th>Annual_Income</th>\n",
              "      <td>0</td>\n",
              "    </tr>\n",
              "    <tr>\n",
              "      <th>Num_Bank_Accounts</th>\n",
              "      <td>0</td>\n",
              "    </tr>\n",
              "    <tr>\n",
              "      <th>Num_Credit_Card</th>\n",
              "      <td>0</td>\n",
              "    </tr>\n",
              "    <tr>\n",
              "      <th>Interest_Rate</th>\n",
              "      <td>0</td>\n",
              "    </tr>\n",
              "    <tr>\n",
              "      <th>Num_of_Loan</th>\n",
              "      <td>0</td>\n",
              "    </tr>\n",
              "    <tr>\n",
              "      <th>Delay_from_due_date</th>\n",
              "      <td>0</td>\n",
              "    </tr>\n",
              "    <tr>\n",
              "      <th>Num_of_Delayed_Payment</th>\n",
              "      <td>0</td>\n",
              "    </tr>\n",
              "    <tr>\n",
              "      <th>Changed_Credit_Limit</th>\n",
              "      <td>0</td>\n",
              "    </tr>\n",
              "    <tr>\n",
              "      <th>Num_Credit_Inquiries</th>\n",
              "      <td>0</td>\n",
              "    </tr>\n",
              "    <tr>\n",
              "      <th>Credit_Mix</th>\n",
              "      <td>0</td>\n",
              "    </tr>\n",
              "    <tr>\n",
              "      <th>Outstanding_Debt</th>\n",
              "      <td>0</td>\n",
              "    </tr>\n",
              "    <tr>\n",
              "      <th>Credit_Utilization_Ratio</th>\n",
              "      <td>0</td>\n",
              "    </tr>\n",
              "    <tr>\n",
              "      <th>Credit_History_Age</th>\n",
              "      <td>0</td>\n",
              "    </tr>\n",
              "    <tr>\n",
              "      <th>Payment_of_Min_Amount</th>\n",
              "      <td>0</td>\n",
              "    </tr>\n",
              "    <tr>\n",
              "      <th>Total_EMI_per_month</th>\n",
              "      <td>0</td>\n",
              "    </tr>\n",
              "    <tr>\n",
              "      <th>Amount_invested_monthly</th>\n",
              "      <td>0</td>\n",
              "    </tr>\n",
              "    <tr>\n",
              "      <th>Payment_Behaviour</th>\n",
              "      <td>0</td>\n",
              "    </tr>\n",
              "    <tr>\n",
              "      <th>Monthly_Balance</th>\n",
              "      <td>0</td>\n",
              "    </tr>\n",
              "    <tr>\n",
              "      <th>Occupation_Accountant</th>\n",
              "      <td>0</td>\n",
              "    </tr>\n",
              "    <tr>\n",
              "      <th>Occupation_Architect</th>\n",
              "      <td>0</td>\n",
              "    </tr>\n",
              "    <tr>\n",
              "      <th>Occupation_Developer</th>\n",
              "      <td>0</td>\n",
              "    </tr>\n",
              "    <tr>\n",
              "      <th>Occupation_Doctor</th>\n",
              "      <td>0</td>\n",
              "    </tr>\n",
              "    <tr>\n",
              "      <th>Occupation_Engineer</th>\n",
              "      <td>0</td>\n",
              "    </tr>\n",
              "    <tr>\n",
              "      <th>Occupation_Entrepreneur</th>\n",
              "      <td>0</td>\n",
              "    </tr>\n",
              "    <tr>\n",
              "      <th>Occupation_Journalist</th>\n",
              "      <td>0</td>\n",
              "    </tr>\n",
              "    <tr>\n",
              "      <th>Occupation_Lawyer</th>\n",
              "      <td>0</td>\n",
              "    </tr>\n",
              "    <tr>\n",
              "      <th>Occupation_Manager</th>\n",
              "      <td>0</td>\n",
              "    </tr>\n",
              "    <tr>\n",
              "      <th>Occupation_Mechanic</th>\n",
              "      <td>0</td>\n",
              "    </tr>\n",
              "    <tr>\n",
              "      <th>Occupation_Media_Manager</th>\n",
              "      <td>0</td>\n",
              "    </tr>\n",
              "    <tr>\n",
              "      <th>Occupation_Musician</th>\n",
              "      <td>0</td>\n",
              "    </tr>\n",
              "    <tr>\n",
              "      <th>Occupation_Scientist</th>\n",
              "      <td>0</td>\n",
              "    </tr>\n",
              "    <tr>\n",
              "      <th>Occupation_Teacher</th>\n",
              "      <td>0</td>\n",
              "    </tr>\n",
              "    <tr>\n",
              "      <th>Occupation_Unknown</th>\n",
              "      <td>0</td>\n",
              "    </tr>\n",
              "    <tr>\n",
              "      <th>Occupation_Writer</th>\n",
              "      <td>0</td>\n",
              "    </tr>\n",
              "    <tr>\n",
              "      <th>Num_of_Delayed_Payment\\t</th>\n",
              "      <td>0</td>\n",
              "    </tr>\n",
              "  </tbody>\n",
              "</table>\n",
              "</div><br><label><b>dtype:</b> int64</label>"
            ]
          },
          "metadata": {},
          "execution_count": 66
        }
      ]
    },
    {
      "cell_type": "markdown",
      "source": [
        "\n",
        "```\n",
        " Vaildation data is cleaned ✅\n",
        "\n",
        "```"
      ],
      "metadata": {
        "id": "N5shOxyNa3n0"
      }
    },
    {
      "cell_type": "markdown",
      "source": [
        "### Preprocessing on test data"
      ],
      "metadata": {
        "id": "B5Zi_GOlaNUd"
      }
    },
    {
      "cell_type": "code",
      "source": [
        "x_test_cleaned=preprocessing_data(X_test)"
      ],
      "metadata": {
        "id": "Zdz9MN_0ZuzO"
      },
      "execution_count": null,
      "outputs": []
    },
    {
      "cell_type": "code",
      "source": [
        "x_test_cleaned.isna().sum()"
      ],
      "metadata": {
        "colab": {
          "base_uri": "https://localhost:8080/",
          "height": 1000
        },
        "id": "Iw-CZdeLagJn",
        "outputId": "3dfb4d2c-796d-4dbe-c7ff-abafc2215971"
      },
      "execution_count": null,
      "outputs": [
        {
          "output_type": "execute_result",
          "data": {
            "text/plain": [
              "Age                         0\n",
              "Annual_Income               0\n",
              "Num_Bank_Accounts           0\n",
              "Num_Credit_Card             0\n",
              "Interest_Rate               0\n",
              "Num_of_Loan                 0\n",
              "Delay_from_due_date         0\n",
              "Num_of_Delayed_Payment      0\n",
              "Changed_Credit_Limit        0\n",
              "Num_Credit_Inquiries        0\n",
              "Credit_Mix                  0\n",
              "Outstanding_Debt            0\n",
              "Credit_Utilization_Ratio    0\n",
              "Credit_History_Age          0\n",
              "Payment_of_Min_Amount       0\n",
              "Total_EMI_per_month         0\n",
              "Amount_invested_monthly     0\n",
              "Payment_Behaviour           0\n",
              "Monthly_Balance             0\n",
              "Occupation_Accountant       0\n",
              "Occupation_Architect        0\n",
              "Occupation_Developer        0\n",
              "Occupation_Doctor           0\n",
              "Occupation_Engineer         0\n",
              "Occupation_Entrepreneur     0\n",
              "Occupation_Journalist       0\n",
              "Occupation_Lawyer           0\n",
              "Occupation_Manager          0\n",
              "Occupation_Mechanic         0\n",
              "Occupation_Media_Manager    0\n",
              "Occupation_Musician         0\n",
              "Occupation_Scientist        0\n",
              "Occupation_Teacher          0\n",
              "Occupation_Unknown          0\n",
              "Occupation_Writer           0\n",
              "Num_of_Delayed_Payment\\t    0\n",
              "dtype: int64"
            ],
            "text/html": [
              "<div>\n",
              "<style scoped>\n",
              "    .dataframe tbody tr th:only-of-type {\n",
              "        vertical-align: middle;\n",
              "    }\n",
              "\n",
              "    .dataframe tbody tr th {\n",
              "        vertical-align: top;\n",
              "    }\n",
              "\n",
              "    .dataframe thead th {\n",
              "        text-align: right;\n",
              "    }\n",
              "</style>\n",
              "<table border=\"1\" class=\"dataframe\">\n",
              "  <thead>\n",
              "    <tr style=\"text-align: right;\">\n",
              "      <th></th>\n",
              "      <th>0</th>\n",
              "    </tr>\n",
              "  </thead>\n",
              "  <tbody>\n",
              "    <tr>\n",
              "      <th>Age</th>\n",
              "      <td>0</td>\n",
              "    </tr>\n",
              "    <tr>\n",
              "      <th>Annual_Income</th>\n",
              "      <td>0</td>\n",
              "    </tr>\n",
              "    <tr>\n",
              "      <th>Num_Bank_Accounts</th>\n",
              "      <td>0</td>\n",
              "    </tr>\n",
              "    <tr>\n",
              "      <th>Num_Credit_Card</th>\n",
              "      <td>0</td>\n",
              "    </tr>\n",
              "    <tr>\n",
              "      <th>Interest_Rate</th>\n",
              "      <td>0</td>\n",
              "    </tr>\n",
              "    <tr>\n",
              "      <th>Num_of_Loan</th>\n",
              "      <td>0</td>\n",
              "    </tr>\n",
              "    <tr>\n",
              "      <th>Delay_from_due_date</th>\n",
              "      <td>0</td>\n",
              "    </tr>\n",
              "    <tr>\n",
              "      <th>Num_of_Delayed_Payment</th>\n",
              "      <td>0</td>\n",
              "    </tr>\n",
              "    <tr>\n",
              "      <th>Changed_Credit_Limit</th>\n",
              "      <td>0</td>\n",
              "    </tr>\n",
              "    <tr>\n",
              "      <th>Num_Credit_Inquiries</th>\n",
              "      <td>0</td>\n",
              "    </tr>\n",
              "    <tr>\n",
              "      <th>Credit_Mix</th>\n",
              "      <td>0</td>\n",
              "    </tr>\n",
              "    <tr>\n",
              "      <th>Outstanding_Debt</th>\n",
              "      <td>0</td>\n",
              "    </tr>\n",
              "    <tr>\n",
              "      <th>Credit_Utilization_Ratio</th>\n",
              "      <td>0</td>\n",
              "    </tr>\n",
              "    <tr>\n",
              "      <th>Credit_History_Age</th>\n",
              "      <td>0</td>\n",
              "    </tr>\n",
              "    <tr>\n",
              "      <th>Payment_of_Min_Amount</th>\n",
              "      <td>0</td>\n",
              "    </tr>\n",
              "    <tr>\n",
              "      <th>Total_EMI_per_month</th>\n",
              "      <td>0</td>\n",
              "    </tr>\n",
              "    <tr>\n",
              "      <th>Amount_invested_monthly</th>\n",
              "      <td>0</td>\n",
              "    </tr>\n",
              "    <tr>\n",
              "      <th>Payment_Behaviour</th>\n",
              "      <td>0</td>\n",
              "    </tr>\n",
              "    <tr>\n",
              "      <th>Monthly_Balance</th>\n",
              "      <td>0</td>\n",
              "    </tr>\n",
              "    <tr>\n",
              "      <th>Occupation_Accountant</th>\n",
              "      <td>0</td>\n",
              "    </tr>\n",
              "    <tr>\n",
              "      <th>Occupation_Architect</th>\n",
              "      <td>0</td>\n",
              "    </tr>\n",
              "    <tr>\n",
              "      <th>Occupation_Developer</th>\n",
              "      <td>0</td>\n",
              "    </tr>\n",
              "    <tr>\n",
              "      <th>Occupation_Doctor</th>\n",
              "      <td>0</td>\n",
              "    </tr>\n",
              "    <tr>\n",
              "      <th>Occupation_Engineer</th>\n",
              "      <td>0</td>\n",
              "    </tr>\n",
              "    <tr>\n",
              "      <th>Occupation_Entrepreneur</th>\n",
              "      <td>0</td>\n",
              "    </tr>\n",
              "    <tr>\n",
              "      <th>Occupation_Journalist</th>\n",
              "      <td>0</td>\n",
              "    </tr>\n",
              "    <tr>\n",
              "      <th>Occupation_Lawyer</th>\n",
              "      <td>0</td>\n",
              "    </tr>\n",
              "    <tr>\n",
              "      <th>Occupation_Manager</th>\n",
              "      <td>0</td>\n",
              "    </tr>\n",
              "    <tr>\n",
              "      <th>Occupation_Mechanic</th>\n",
              "      <td>0</td>\n",
              "    </tr>\n",
              "    <tr>\n",
              "      <th>Occupation_Media_Manager</th>\n",
              "      <td>0</td>\n",
              "    </tr>\n",
              "    <tr>\n",
              "      <th>Occupation_Musician</th>\n",
              "      <td>0</td>\n",
              "    </tr>\n",
              "    <tr>\n",
              "      <th>Occupation_Scientist</th>\n",
              "      <td>0</td>\n",
              "    </tr>\n",
              "    <tr>\n",
              "      <th>Occupation_Teacher</th>\n",
              "      <td>0</td>\n",
              "    </tr>\n",
              "    <tr>\n",
              "      <th>Occupation_Unknown</th>\n",
              "      <td>0</td>\n",
              "    </tr>\n",
              "    <tr>\n",
              "      <th>Occupation_Writer</th>\n",
              "      <td>0</td>\n",
              "    </tr>\n",
              "    <tr>\n",
              "      <th>Num_of_Delayed_Payment\\t</th>\n",
              "      <td>0</td>\n",
              "    </tr>\n",
              "  </tbody>\n",
              "</table>\n",
              "</div><br><label><b>dtype:</b> int64</label>"
            ]
          },
          "metadata": {},
          "execution_count": 68
        }
      ]
    },
    {
      "cell_type": "markdown",
      "source": [
        "\n",
        "```\n",
        " Test data is cleaned ✅\n",
        "\n",
        "```"
      ],
      "metadata": {
        "id": "ihIuyLySaj9f"
      }
    },
    {
      "cell_type": "markdown",
      "source": [
        "# `05` Scaling"
      ],
      "metadata": {
        "id": "GDrG5ofPbAAr"
      }
    },
    {
      "cell_type": "markdown",
      "source": [
        "### Scaling  Training data"
      ],
      "metadata": {
        "id": "-Ym5icNcbDzX"
      }
    },
    {
      "cell_type": "code",
      "source": [
        "scaler=RobustScaler()\n",
        "scaled_data=scaler.fit_transform(x_train_cleaned)\n",
        "scaled_data"
      ],
      "metadata": {
        "colab": {
          "base_uri": "https://localhost:8080/"
        },
        "id": "iLq0ygiNlXH_",
        "outputId": "8abf0296-dcb2-407c-fd37-17f890a2ce71"
      },
      "execution_count": null,
      "outputs": [
        {
          "output_type": "execute_result",
          "data": {
            "text/plain": [
              "array([[ 0.5       ,  0.61365668,  0.5       , ...,  0.        ,\n",
              "         0.        , -0.7       ],\n",
              "       [ 1.3125    , -0.14983755,  0.25      , ...,  0.        ,\n",
              "         0.        , 32.14458008],\n",
              "       [-0.875     , -0.11531651,  0.5       , ...,  0.        ,\n",
              "         1.        ,  0.2       ],\n",
              "       ...,\n",
              "       [-0.5625    ,  0.15054307,  0.5       , ...,  0.        ,\n",
              "         0.        ,  0.1       ],\n",
              "       [ 0.6875    , -0.37922379, -1.25      , ...,  0.        ,\n",
              "         0.        , -1.2       ],\n",
              "       [ 1.3125    ,  1.41569393, -1.        , ...,  1.        ,\n",
              "         0.        , -1.2       ]])"
            ]
          },
          "metadata": {},
          "execution_count": 69
        }
      ]
    },
    {
      "cell_type": "markdown",
      "source": [
        "#### Encoding y train"
      ],
      "metadata": {
        "id": "gNozW0ezdza4"
      }
    },
    {
      "cell_type": "code",
      "source": [
        "score_encoder = LabelEncoder()\n",
        "\n",
        "y_encoded = score_encoder.fit_transform(y_train)\n",
        "y_encoded = to_categorical(y_encoded,num_classes=3)\n"
      ],
      "metadata": {
        "id": "aOVAxuQ2YMWL"
      },
      "execution_count": null,
      "outputs": []
    },
    {
      "cell_type": "markdown",
      "source": [
        "### Scaling Validation data"
      ],
      "metadata": {
        "id": "_-WFu2svbQXh"
      }
    },
    {
      "cell_type": "code",
      "source": [
        "scaled_data_vaild=scaler.transform(x_valid_cleaned)\n",
        "scaled_data_vaild"
      ],
      "metadata": {
        "colab": {
          "base_uri": "https://localhost:8080/"
        },
        "id": "a2q7BdjJbVlh",
        "outputId": "ceb2c698-eace-40a2-9efc-482938c6deea"
      },
      "execution_count": null,
      "outputs": [
        {
          "output_type": "execute_result",
          "data": {
            "text/plain": [
              "array([[-0.5625    , -0.36478817,  1.        , ...,  0.        ,\n",
              "         0.        ,  0.        ],\n",
              "       [ 0.5625    ,  0.35474335, -0.5       , ...,  0.        ,\n",
              "         0.        , 32.29659119],\n",
              "       [-0.8125    ,  0.24471053,  0.25      , ...,  1.        ,\n",
              "         0.        , -0.5       ],\n",
              "       ...,\n",
              "       [-0.625     ,  0.80820021, -0.5       , ...,  1.        ,\n",
              "         0.        ,  0.5       ],\n",
              "       [-0.75      , -0.14232422, -1.25      , ...,  0.        ,\n",
              "         0.        , -0.6       ],\n",
              "       [ 0.1875    ,  1.83128568,  0.5       , ...,  0.        ,\n",
              "         0.        ,  0.1       ]])"
            ]
          },
          "metadata": {},
          "execution_count": 71
        }
      ]
    },
    {
      "cell_type": "markdown",
      "source": [
        "#### Encoding y vaild"
      ],
      "metadata": {
        "id": "TPy1wHUxd7p6"
      }
    },
    {
      "cell_type": "code",
      "source": [
        "y_encoded_vaild = score_encoder.transform(y_valid)\n",
        "y_encoded_vaild = to_categorical(y_encoded_vaild,num_classes=3)"
      ],
      "metadata": {
        "id": "hs8ABP6AbXB5"
      },
      "execution_count": null,
      "outputs": []
    },
    {
      "cell_type": "markdown",
      "source": [
        "## Scaling Test data"
      ],
      "metadata": {
        "id": "PoSBew5WcaRv"
      }
    },
    {
      "cell_type": "code",
      "source": [
        "scaled_data_test=scaler.transform(x_test_cleaned)\n",
        "scaled_data_test"
      ],
      "metadata": {
        "colab": {
          "base_uri": "https://localhost:8080/"
        },
        "id": "cbdSGEQZcdi4",
        "outputId": "8205c190-049e-4221-d17f-6e3a09ce6159"
      },
      "execution_count": null,
      "outputs": [
        {
          "output_type": "execute_result",
          "data": {
            "text/plain": [
              "array([[ 0.75      ,  0.12721754, -1.        , ...,  0.        ,\n",
              "         0.        , -1.4       ],\n",
              "       [ 0.3125    , -0.52580048,  0.5       , ...,  0.        ,\n",
              "         0.        ,  0.6       ],\n",
              "       [ 0.5       , -0.54621376,  0.75      , ...,  0.        ,\n",
              "         0.        ,  0.5       ],\n",
              "       ...,\n",
              "       [ 1.375     ,  0.64604125, -1.        , ...,  0.        ,\n",
              "         0.        , -0.5       ],\n",
              "       [ 0.0625    , -0.20807256, -0.5       , ...,  0.        ,\n",
              "         0.        , -0.7       ],\n",
              "       [-1.        , -0.43762927, -0.75      , ...,  0.        ,\n",
              "         0.        ,  0.4       ]])"
            ]
          },
          "metadata": {},
          "execution_count": 73
        }
      ]
    },
    {
      "cell_type": "markdown",
      "source": [
        "#### Encoding y test"
      ],
      "metadata": {
        "id": "N5mAOaimeBfr"
      }
    },
    {
      "cell_type": "code",
      "source": [
        "y_encoded_test = score_encoder.transform(y_test)\n",
        "y_encoded_test = to_categorical(y_encoded_test,num_classes=3)"
      ],
      "metadata": {
        "id": "9hFU387ycmv2"
      },
      "execution_count": null,
      "outputs": []
    },
    {
      "cell_type": "markdown",
      "source": [
        "# first trial model"
      ],
      "metadata": {
        "id": "xPwlxWHGLufl"
      }
    },
    {
      "cell_type": "code",
      "source": [
        "mm = Sequential()\n",
        "\n",
        "mm.add(Input(shape=(scaled_data.shape[1],)))\n",
        "mm.add(Dense(256,activation='relu'))\n",
        "\n",
        "mm.add(Dense(128,activation='relu'))\n",
        "\n",
        "\n",
        "mm.add(Dense(64, activation='relu'))\n",
        "\n",
        "mm.add(Dense(32, activation='relu'))\n",
        "\n",
        "\n",
        "mm.add(Dense(3, activation='softmax'))\n",
        "\n",
        "mm.compile(optimizer=keras.optimizers.Adam(0.0003), loss='categorical_crossentropy', metrics=['accuracy'])"
      ],
      "metadata": {
        "id": "mjnso5aUqpw9"
      },
      "execution_count": null,
      "outputs": []
    },
    {
      "cell_type": "code",
      "source": [
        "early_stopping = EarlyStopping(monitor='val_loss', patience=20, restore_best_weights=True)\n",
        "history = mm.fit(scaled_data, y_encoded, epochs=250, batch_size=256,callbacks=[early_stopping], validation_split=0.2)"
      ],
      "metadata": {
        "colab": {
          "base_uri": "https://localhost:8080/"
        },
        "id": "Nk3reNf5Lmu-",
        "outputId": "1715cb9c-33b4-4ca9-ab67-daa1b8353cef"
      },
      "execution_count": null,
      "outputs": [
        {
          "output_type": "stream",
          "name": "stdout",
          "text": [
            "Epoch 1/250\n",
            "\u001b[1m250/250\u001b[0m \u001b[32m━━━━━━━━━━━━━━━━━━━━\u001b[0m\u001b[37m\u001b[0m \u001b[1m5s\u001b[0m 13ms/step - accuracy: 0.5335 - loss: 1.0764 - val_accuracy: 0.6072 - val_loss: 0.8543\n",
            "Epoch 2/250\n",
            "\u001b[1m250/250\u001b[0m \u001b[32m━━━━━━━━━━━━━━━━━━━━\u001b[0m\u001b[37m\u001b[0m \u001b[1m2s\u001b[0m 7ms/step - accuracy: 0.6297 - loss: 0.8262 - val_accuracy: 0.6461 - val_loss: 0.8005\n",
            "Epoch 3/250\n",
            "\u001b[1m250/250\u001b[0m \u001b[32m━━━━━━━━━━━━━━━━━━━━\u001b[0m\u001b[37m\u001b[0m \u001b[1m3s\u001b[0m 7ms/step - accuracy: 0.6509 - loss: 0.7761 - val_accuracy: 0.6479 - val_loss: 0.7696\n",
            "Epoch 4/250\n",
            "\u001b[1m250/250\u001b[0m \u001b[32m━━━━━━━━━━━━━━━━━━━━\u001b[0m\u001b[37m\u001b[0m \u001b[1m2s\u001b[0m 7ms/step - accuracy: 0.6552 - loss: 0.7632 - val_accuracy: 0.6626 - val_loss: 0.7568\n",
            "Epoch 5/250\n",
            "\u001b[1m250/250\u001b[0m \u001b[32m━━━━━━━━━━━━━━━━━━━━\u001b[0m\u001b[37m\u001b[0m \u001b[1m2s\u001b[0m 6ms/step - accuracy: 0.6635 - loss: 0.7538 - val_accuracy: 0.6663 - val_loss: 0.7524\n",
            "Epoch 6/250\n",
            "\u001b[1m250/250\u001b[0m \u001b[32m━━━━━━━━━━━━━━━━━━━━\u001b[0m\u001b[37m\u001b[0m \u001b[1m3s\u001b[0m 9ms/step - accuracy: 0.6665 - loss: 0.7390 - val_accuracy: 0.6681 - val_loss: 0.7476\n",
            "Epoch 7/250\n",
            "\u001b[1m250/250\u001b[0m \u001b[32m━━━━━━━━━━━━━━━━━━━━\u001b[0m\u001b[37m\u001b[0m \u001b[1m2s\u001b[0m 7ms/step - accuracy: 0.6744 - loss: 0.7296 - val_accuracy: 0.6725 - val_loss: 0.7466\n",
            "Epoch 8/250\n",
            "\u001b[1m250/250\u001b[0m \u001b[32m━━━━━━━━━━━━━━━━━━━━\u001b[0m\u001b[37m\u001b[0m \u001b[1m2s\u001b[0m 6ms/step - accuracy: 0.6742 - loss: 0.7273 - val_accuracy: 0.6771 - val_loss: 0.7357\n",
            "Epoch 9/250\n",
            "\u001b[1m250/250\u001b[0m \u001b[32m━━━━━━━━━━━━━━━━━━━━\u001b[0m\u001b[37m\u001b[0m \u001b[1m2s\u001b[0m 6ms/step - accuracy: 0.6796 - loss: 0.7186 - val_accuracy: 0.6764 - val_loss: 0.7342\n",
            "Epoch 10/250\n",
            "\u001b[1m250/250\u001b[0m \u001b[32m━━━━━━━━━━━━━━━━━━━━\u001b[0m\u001b[37m\u001b[0m \u001b[1m2s\u001b[0m 7ms/step - accuracy: 0.6776 - loss: 0.7218 - val_accuracy: 0.6743 - val_loss: 0.7306\n",
            "Epoch 11/250\n",
            "\u001b[1m250/250\u001b[0m \u001b[32m━━━━━━━━━━━━━━━━━━━━\u001b[0m\u001b[37m\u001b[0m \u001b[1m2s\u001b[0m 6ms/step - accuracy: 0.6828 - loss: 0.7078 - val_accuracy: 0.6777 - val_loss: 0.7271\n",
            "Epoch 12/250\n",
            "\u001b[1m250/250\u001b[0m \u001b[32m━━━━━━━━━━━━━━━━━━━━\u001b[0m\u001b[37m\u001b[0m \u001b[1m3s\u001b[0m 8ms/step - accuracy: 0.6819 - loss: 0.7094 - val_accuracy: 0.6845 - val_loss: 0.7228\n",
            "Epoch 13/250\n",
            "\u001b[1m250/250\u001b[0m \u001b[32m━━━━━━━━━━━━━━━━━━━━\u001b[0m\u001b[37m\u001b[0m \u001b[1m2s\u001b[0m 7ms/step - accuracy: 0.6865 - loss: 0.7013 - val_accuracy: 0.6756 - val_loss: 0.7255\n",
            "Epoch 14/250\n",
            "\u001b[1m250/250\u001b[0m \u001b[32m━━━━━━━━━━━━━━━━━━━━\u001b[0m\u001b[37m\u001b[0m \u001b[1m2s\u001b[0m 7ms/step - accuracy: 0.6861 - loss: 0.7011 - val_accuracy: 0.6846 - val_loss: 0.7222\n",
            "Epoch 15/250\n",
            "\u001b[1m250/250\u001b[0m \u001b[32m━━━━━━━━━━━━━━━━━━━━\u001b[0m\u001b[37m\u001b[0m \u001b[1m3s\u001b[0m 7ms/step - accuracy: 0.6883 - loss: 0.6976 - val_accuracy: 0.6829 - val_loss: 0.7177\n",
            "Epoch 16/250\n",
            "\u001b[1m250/250\u001b[0m \u001b[32m━━━━━━━━━━━━━━━━━━━━\u001b[0m\u001b[37m\u001b[0m \u001b[1m2s\u001b[0m 7ms/step - accuracy: 0.6883 - loss: 0.6909 - val_accuracy: 0.6778 - val_loss: 0.7306\n",
            "Epoch 17/250\n",
            "\u001b[1m250/250\u001b[0m \u001b[32m━━━━━━━━━━━━━━━━━━━━\u001b[0m\u001b[37m\u001b[0m \u001b[1m2s\u001b[0m 7ms/step - accuracy: 0.6908 - loss: 0.6948 - val_accuracy: 0.6781 - val_loss: 0.7257\n",
            "Epoch 18/250\n",
            "\u001b[1m250/250\u001b[0m \u001b[32m━━━━━━━━━━━━━━━━━━━━\u001b[0m\u001b[37m\u001b[0m \u001b[1m3s\u001b[0m 10ms/step - accuracy: 0.6922 - loss: 0.6866 - val_accuracy: 0.6848 - val_loss: 0.7180\n",
            "Epoch 19/250\n",
            "\u001b[1m250/250\u001b[0m \u001b[32m━━━━━━━━━━━━━━━━━━━━\u001b[0m\u001b[37m\u001b[0m \u001b[1m2s\u001b[0m 7ms/step - accuracy: 0.6913 - loss: 0.6861 - val_accuracy: 0.6826 - val_loss: 0.7327\n",
            "Epoch 20/250\n",
            "\u001b[1m250/250\u001b[0m \u001b[32m━━━━━━━━━━━━━━━━━━━━\u001b[0m\u001b[37m\u001b[0m \u001b[1m2s\u001b[0m 7ms/step - accuracy: 0.6925 - loss: 0.6850 - val_accuracy: 0.6827 - val_loss: 0.7136\n",
            "Epoch 21/250\n",
            "\u001b[1m250/250\u001b[0m \u001b[32m━━━━━━━━━━━━━━━━━━━━\u001b[0m\u001b[37m\u001b[0m \u001b[1m3s\u001b[0m 7ms/step - accuracy: 0.6930 - loss: 0.6801 - val_accuracy: 0.6831 - val_loss: 0.7179\n",
            "Epoch 22/250\n",
            "\u001b[1m250/250\u001b[0m \u001b[32m━━━━━━━━━━━━━━━━━━━━\u001b[0m\u001b[37m\u001b[0m \u001b[1m3s\u001b[0m 7ms/step - accuracy: 0.6950 - loss: 0.6756 - val_accuracy: 0.6795 - val_loss: 0.7158\n",
            "Epoch 23/250\n",
            "\u001b[1m250/250\u001b[0m \u001b[32m━━━━━━━━━━━━━━━━━━━━\u001b[0m\u001b[37m\u001b[0m \u001b[1m2s\u001b[0m 10ms/step - accuracy: 0.6978 - loss: 0.6724 - val_accuracy: 0.6812 - val_loss: 0.7162\n",
            "Epoch 24/250\n",
            "\u001b[1m250/250\u001b[0m \u001b[32m━━━━━━━━━━━━━━━━━━━━\u001b[0m\u001b[37m\u001b[0m \u001b[1m2s\u001b[0m 8ms/step - accuracy: 0.6982 - loss: 0.6711 - val_accuracy: 0.6830 - val_loss: 0.7147\n",
            "Epoch 25/250\n",
            "\u001b[1m250/250\u001b[0m \u001b[32m━━━━━━━━━━━━━━━━━━━━\u001b[0m\u001b[37m\u001b[0m \u001b[1m2s\u001b[0m 6ms/step - accuracy: 0.6987 - loss: 0.6682 - val_accuracy: 0.6800 - val_loss: 0.7155\n",
            "Epoch 26/250\n",
            "\u001b[1m250/250\u001b[0m \u001b[32m━━━━━━━━━━━━━━━━━━━━\u001b[0m\u001b[37m\u001b[0m \u001b[1m3s\u001b[0m 6ms/step - accuracy: 0.6994 - loss: 0.6678 - val_accuracy: 0.6875 - val_loss: 0.7098\n",
            "Epoch 27/250\n",
            "\u001b[1m250/250\u001b[0m \u001b[32m━━━━━━━━━━━━━━━━━━━━\u001b[0m\u001b[37m\u001b[0m \u001b[1m2s\u001b[0m 7ms/step - accuracy: 0.7072 - loss: 0.6579 - val_accuracy: 0.6878 - val_loss: 0.7085\n",
            "Epoch 28/250\n",
            "\u001b[1m250/250\u001b[0m \u001b[32m━━━━━━━━━━━━━━━━━━━━\u001b[0m\u001b[37m\u001b[0m \u001b[1m3s\u001b[0m 7ms/step - accuracy: 0.7088 - loss: 0.6547 - val_accuracy: 0.6871 - val_loss: 0.7127\n",
            "Epoch 29/250\n",
            "\u001b[1m250/250\u001b[0m \u001b[32m━━━━━━━━━━━━━━━━━━━━\u001b[0m\u001b[37m\u001b[0m \u001b[1m3s\u001b[0m 8ms/step - accuracy: 0.7056 - loss: 0.6544 - val_accuracy: 0.6819 - val_loss: 0.7178\n",
            "Epoch 30/250\n",
            "\u001b[1m250/250\u001b[0m \u001b[32m━━━━━━━━━━━━━━━━━━━━\u001b[0m\u001b[37m\u001b[0m \u001b[1m2s\u001b[0m 6ms/step - accuracy: 0.7079 - loss: 0.6522 - val_accuracy: 0.6801 - val_loss: 0.7182\n",
            "Epoch 31/250\n",
            "\u001b[1m250/250\u001b[0m \u001b[32m━━━━━━━━━━━━━━━━━━━━\u001b[0m\u001b[37m\u001b[0m \u001b[1m2s\u001b[0m 7ms/step - accuracy: 0.7059 - loss: 0.6516 - val_accuracy: 0.6836 - val_loss: 0.7113\n",
            "Epoch 32/250\n",
            "\u001b[1m250/250\u001b[0m \u001b[32m━━━━━━━━━━━━━━━━━━━━\u001b[0m\u001b[37m\u001b[0m \u001b[1m2s\u001b[0m 7ms/step - accuracy: 0.7128 - loss: 0.6419 - val_accuracy: 0.6773 - val_loss: 0.7288\n",
            "Epoch 33/250\n",
            "\u001b[1m250/250\u001b[0m \u001b[32m━━━━━━━━━━━━━━━━━━━━\u001b[0m\u001b[37m\u001b[0m \u001b[1m2s\u001b[0m 6ms/step - accuracy: 0.7126 - loss: 0.6380 - val_accuracy: 0.6839 - val_loss: 0.7108\n",
            "Epoch 34/250\n",
            "\u001b[1m250/250\u001b[0m \u001b[32m━━━━━━━━━━━━━━━━━━━━\u001b[0m\u001b[37m\u001b[0m \u001b[1m2s\u001b[0m 6ms/step - accuracy: 0.7148 - loss: 0.6401 - val_accuracy: 0.6827 - val_loss: 0.7216\n",
            "Epoch 35/250\n",
            "\u001b[1m250/250\u001b[0m \u001b[32m━━━━━━━━━━━━━━━━━━━━\u001b[0m\u001b[37m\u001b[0m \u001b[1m2s\u001b[0m 8ms/step - accuracy: 0.7175 - loss: 0.6324 - val_accuracy: 0.6867 - val_loss: 0.7154\n",
            "Epoch 36/250\n",
            "\u001b[1m250/250\u001b[0m \u001b[32m━━━━━━━━━━━━━━━━━━━━\u001b[0m\u001b[37m\u001b[0m \u001b[1m3s\u001b[0m 12ms/step - accuracy: 0.7170 - loss: 0.6309 - val_accuracy: 0.6839 - val_loss: 0.7145\n",
            "Epoch 37/250\n",
            "\u001b[1m250/250\u001b[0m \u001b[32m━━━━━━━━━━━━━━━━━━━━\u001b[0m\u001b[37m\u001b[0m \u001b[1m4s\u001b[0m 7ms/step - accuracy: 0.7178 - loss: 0.6256 - val_accuracy: 0.6803 - val_loss: 0.7227\n",
            "Epoch 38/250\n",
            "\u001b[1m250/250\u001b[0m \u001b[32m━━━━━━━━━━━━━━━━━━━━\u001b[0m\u001b[37m\u001b[0m \u001b[1m2s\u001b[0m 7ms/step - accuracy: 0.7201 - loss: 0.6261 - val_accuracy: 0.6854 - val_loss: 0.7170\n",
            "Epoch 39/250\n",
            "\u001b[1m250/250\u001b[0m \u001b[32m━━━━━━━━━━━━━━━━━━━━\u001b[0m\u001b[37m\u001b[0m \u001b[1m2s\u001b[0m 6ms/step - accuracy: 0.7232 - loss: 0.6182 - val_accuracy: 0.6867 - val_loss: 0.7172\n",
            "Epoch 40/250\n",
            "\u001b[1m250/250\u001b[0m \u001b[32m━━━━━━━━━━━━━━━━━━━━\u001b[0m\u001b[37m\u001b[0m \u001b[1m3s\u001b[0m 10ms/step - accuracy: 0.7262 - loss: 0.6132 - val_accuracy: 0.6847 - val_loss: 0.7197\n",
            "Epoch 41/250\n",
            "\u001b[1m250/250\u001b[0m \u001b[32m━━━━━━━━━━━━━━━━━━━━\u001b[0m\u001b[37m\u001b[0m \u001b[1m2s\u001b[0m 7ms/step - accuracy: 0.7258 - loss: 0.6110 - val_accuracy: 0.6834 - val_loss: 0.7233\n",
            "Epoch 42/250\n",
            "\u001b[1m250/250\u001b[0m \u001b[32m━━━━━━━━━━━━━━━━━━━━\u001b[0m\u001b[37m\u001b[0m \u001b[1m2s\u001b[0m 6ms/step - accuracy: 0.7275 - loss: 0.6087 - val_accuracy: 0.6883 - val_loss: 0.7204\n",
            "Epoch 43/250\n",
            "\u001b[1m250/250\u001b[0m \u001b[32m━━━━━━━━━━━━━━━━━━━━\u001b[0m\u001b[37m\u001b[0m \u001b[1m2s\u001b[0m 6ms/step - accuracy: 0.7299 - loss: 0.6068 - val_accuracy: 0.6859 - val_loss: 0.7272\n",
            "Epoch 44/250\n",
            "\u001b[1m250/250\u001b[0m \u001b[32m━━━━━━━━━━━━━━━━━━━━\u001b[0m\u001b[37m\u001b[0m \u001b[1m3s\u001b[0m 6ms/step - accuracy: 0.7309 - loss: 0.6022 - val_accuracy: 0.6833 - val_loss: 0.7276\n",
            "Epoch 45/250\n",
            "\u001b[1m250/250\u001b[0m \u001b[32m━━━━━━━━━━━━━━━━━━━━\u001b[0m\u001b[37m\u001b[0m \u001b[1m2s\u001b[0m 7ms/step - accuracy: 0.7309 - loss: 0.5980 - val_accuracy: 0.6854 - val_loss: 0.7234\n",
            "Epoch 46/250\n",
            "\u001b[1m250/250\u001b[0m \u001b[32m━━━━━━━━━━━━━━━━━━━━\u001b[0m\u001b[37m\u001b[0m \u001b[1m4s\u001b[0m 12ms/step - accuracy: 0.7338 - loss: 0.5927 - val_accuracy: 0.6832 - val_loss: 0.7335\n",
            "Epoch 47/250\n",
            "\u001b[1m250/250\u001b[0m \u001b[32m━━━━━━━━━━━━━━━━━━━━\u001b[0m\u001b[37m\u001b[0m \u001b[1m2s\u001b[0m 6ms/step - accuracy: 0.7347 - loss: 0.5898 - val_accuracy: 0.6832 - val_loss: 0.7270\n"
          ]
        }
      ]
    },
    {
      "cell_type": "code",
      "source": [
        "mm.evaluate(scaled_data, y_encoded)"
      ],
      "metadata": {
        "colab": {
          "base_uri": "https://localhost:8080/"
        },
        "id": "YJIt-La9tnqu",
        "outputId": "a95874cd-4c4b-4ac2-a5a4-5a17d891f88e"
      },
      "execution_count": null,
      "outputs": [
        {
          "output_type": "stream",
          "name": "stdout",
          "text": [
            "\u001b[1m2500/2500\u001b[0m \u001b[32m━━━━━━━━━━━━━━━━━━━━\u001b[0m\u001b[37m\u001b[0m \u001b[1m6s\u001b[0m 2ms/step - accuracy: 0.7035 - loss: 0.6500\n"
          ]
        },
        {
          "output_type": "execute_result",
          "data": {
            "text/plain": [
              "[0.6607945561408997, 0.702162504196167]"
            ]
          },
          "metadata": {},
          "execution_count": 50
        }
      ]
    },
    {
      "cell_type": "code",
      "source": [
        "mm.evaluate(scaled_data_vaild, y_encoded_vaild)"
      ],
      "metadata": {
        "colab": {
          "base_uri": "https://localhost:8080/"
        },
        "id": "9CEo2PvXV5ah",
        "outputId": "094ff92c-dd51-44f9-c0da-a6ca17b1240e"
      },
      "execution_count": null,
      "outputs": [
        {
          "output_type": "stream",
          "name": "stdout",
          "text": [
            "\u001b[1m438/438\u001b[0m \u001b[32m━━━━━━━━━━━━━━━━━━━━\u001b[0m\u001b[37m\u001b[0m \u001b[1m1s\u001b[0m 2ms/step - accuracy: 0.6842 - loss: 0.7131\n"
          ]
        },
        {
          "output_type": "execute_result",
          "data": {
            "text/plain": [
              "[0.7184543013572693, 0.6830000281333923]"
            ]
          },
          "metadata": {},
          "execution_count": 77
        }
      ]
    },
    {
      "cell_type": "code",
      "source": [
        "y_pred_3=mm.predict(scaled_data_vaild)"
      ],
      "metadata": {
        "colab": {
          "base_uri": "https://localhost:8080/"
        },
        "outputId": "dad2406f-dcf7-4cd6-b5ba-d8adb44fb3c6",
        "id": "QW0CAQ6TMgmz"
      },
      "execution_count": null,
      "outputs": [
        {
          "output_type": "stream",
          "name": "stdout",
          "text": [
            "\u001b[1m438/438\u001b[0m \u001b[32m━━━━━━━━━━━━━━━━━━━━\u001b[0m\u001b[37m\u001b[0m \u001b[1m1s\u001b[0m 1ms/step\n"
          ]
        }
      ]
    },
    {
      "cell_type": "code",
      "source": [
        "y_pred_3"
      ],
      "metadata": {
        "colab": {
          "base_uri": "https://localhost:8080/"
        },
        "outputId": "ff93305c-4d89-4669-ed4c-ca83b5d882bf",
        "id": "63q89_A4Mgmz"
      },
      "execution_count": null,
      "outputs": [
        {
          "output_type": "execute_result",
          "data": {
            "text/plain": [
              "array([[0.00119217, 0.80035657, 0.19845137],\n",
              "       [0.40348145, 0.2067754 , 0.38974306],\n",
              "       [0.5134486 , 0.16765   , 0.31890136],\n",
              "       ...,\n",
              "       [0.32747743, 0.17675309, 0.49576947],\n",
              "       [0.6269029 , 0.01424776, 0.35884932],\n",
              "       [0.02598893, 0.08485288, 0.8891582 ]], dtype=float32)"
            ]
          },
          "metadata": {},
          "execution_count": 53
        }
      ]
    },
    {
      "cell_type": "code",
      "source": [
        "y_pred_classes = np.argmax(y_pred_3, axis=1)\n",
        "report = classification_report(y_encoded_vaild, to_categorical(y_pred_classes, num_classes=3))\n",
        "print(report)"
      ],
      "metadata": {
        "colab": {
          "base_uri": "https://localhost:8080/"
        },
        "outputId": "8acf22cd-6a45-4ae7-f0db-01d96faf9391",
        "id": "QqFj5oXHMgm0"
      },
      "execution_count": null,
      "outputs": [
        {
          "output_type": "stream",
          "name": "stdout",
          "text": [
            "              precision    recall  f1-score   support\n",
            "\n",
            "           0       0.56      0.64      0.60      2531\n",
            "           1       0.71      0.60      0.65      3997\n",
            "           2       0.72      0.74      0.73      7472\n",
            "\n",
            "   micro avg       0.68      0.68      0.68     14000\n",
            "   macro avg       0.66      0.66      0.66     14000\n",
            "weighted avg       0.69      0.68      0.68     14000\n",
            " samples avg       0.68      0.68      0.68     14000\n",
            "\n"
          ]
        }
      ]
    },
    {
      "cell_type": "markdown",
      "source": [
        "## Second trial model"
      ],
      "metadata": {
        "id": "VXaaiitg501D"
      }
    },
    {
      "cell_type": "code",
      "source": [
        "mm2 = Sequential()\n",
        "\n",
        "mm2.add(Input(shape=(scaled_data.shape[1],)))\n",
        "mm2.add(Dense(256,activation='relu'))\n",
        "mm2.add(BatchNormalization())\n",
        "\n",
        "mm2.add(Dense(128,activation='relu'))\n",
        "mm2.add(BatchNormalization())\n",
        "\n",
        "mm2.add(Dense(64, activation='relu'))\n",
        "mm2.add(BatchNormalization())\n",
        "\n",
        "mm2.add(Dense(32, activation='relu'))\n",
        "mm2.add(BatchNormalization())\n",
        "\n",
        "mm2.add(Dense(3, activation='softmax'))\n",
        "\n",
        "mm2.compile(optimizer=keras.optimizers.Adam(0.0003), loss='categorical_crossentropy', metrics=['accuracy'])"
      ],
      "metadata": {
        "id": "gjcJN_Qgx3kY"
      },
      "execution_count": null,
      "outputs": []
    },
    {
      "cell_type": "code",
      "source": [
        "early_stopping = EarlyStopping(monitor='val_loss', patience=20, restore_best_weights=True)\n",
        "history = mm2.fit(scaled_data, y_encoded, epochs=250, batch_size=256,callbacks=[early_stopping], validation_split=0.2)"
      ],
      "metadata": {
        "colab": {
          "base_uri": "https://localhost:8080/"
        },
        "id": "niKqRTjayFVH",
        "outputId": "0bb170d7-9ea5-49fc-afdf-6c25424dcc74"
      },
      "execution_count": null,
      "outputs": [
        {
          "output_type": "stream",
          "name": "stdout",
          "text": [
            "Epoch 1/250\n",
            "\u001b[1m250/250\u001b[0m \u001b[32m━━━━━━━━━━━━━━━━━━━━\u001b[0m\u001b[37m\u001b[0m \u001b[1m6s\u001b[0m 10ms/step - accuracy: 0.5257 - loss: 1.0262 - val_accuracy: 0.5918 - val_loss: 0.8844\n",
            "Epoch 2/250\n",
            "\u001b[1m250/250\u001b[0m \u001b[32m━━━━━━━━━━━━━━━━━━━━\u001b[0m\u001b[37m\u001b[0m \u001b[1m3s\u001b[0m 13ms/step - accuracy: 0.6311 - loss: 0.8211 - val_accuracy: 0.6492 - val_loss: 0.7894\n",
            "Epoch 3/250\n",
            "\u001b[1m250/250\u001b[0m \u001b[32m━━━━━━━━━━━━━━━━━━━━\u001b[0m\u001b[37m\u001b[0m \u001b[1m2s\u001b[0m 9ms/step - accuracy: 0.6442 - loss: 0.7791 - val_accuracy: 0.6464 - val_loss: 0.7718\n",
            "Epoch 4/250\n",
            "\u001b[1m250/250\u001b[0m \u001b[32m━━━━━━━━━━━━━━━━━━━━\u001b[0m\u001b[37m\u001b[0m \u001b[1m2s\u001b[0m 9ms/step - accuracy: 0.6576 - loss: 0.7557 - val_accuracy: 0.6584 - val_loss: 0.7541\n",
            "Epoch 5/250\n",
            "\u001b[1m250/250\u001b[0m \u001b[32m━━━━━━━━━━━━━━━━━━━━\u001b[0m\u001b[37m\u001b[0m \u001b[1m2s\u001b[0m 9ms/step - accuracy: 0.6643 - loss: 0.7411 - val_accuracy: 0.6587 - val_loss: 0.7460\n",
            "Epoch 6/250\n",
            "\u001b[1m250/250\u001b[0m \u001b[32m━━━━━━━━━━━━━━━━━━━━\u001b[0m\u001b[37m\u001b[0m \u001b[1m3s\u001b[0m 9ms/step - accuracy: 0.6649 - loss: 0.7384 - val_accuracy: 0.6690 - val_loss: 0.7373\n",
            "Epoch 7/250\n",
            "\u001b[1m250/250\u001b[0m \u001b[32m━━━━━━━━━━━━━━━━━━━━\u001b[0m\u001b[37m\u001b[0m \u001b[1m3s\u001b[0m 13ms/step - accuracy: 0.6705 - loss: 0.7328 - val_accuracy: 0.6671 - val_loss: 0.7342\n",
            "Epoch 8/250\n",
            "\u001b[1m250/250\u001b[0m \u001b[32m━━━━━━━━━━━━━━━━━━━━\u001b[0m\u001b[37m\u001b[0m \u001b[1m2s\u001b[0m 9ms/step - accuracy: 0.6704 - loss: 0.7251 - val_accuracy: 0.6693 - val_loss: 0.7338\n",
            "Epoch 9/250\n",
            "\u001b[1m250/250\u001b[0m \u001b[32m━━━━━━━━━━━━━━━━━━━━\u001b[0m\u001b[37m\u001b[0m \u001b[1m2s\u001b[0m 9ms/step - accuracy: 0.6784 - loss: 0.7174 - val_accuracy: 0.6685 - val_loss: 0.7319\n",
            "Epoch 10/250\n",
            "\u001b[1m250/250\u001b[0m \u001b[32m━━━━━━━━━━━━━━━━━━━━\u001b[0m\u001b[37m\u001b[0m \u001b[1m2s\u001b[0m 9ms/step - accuracy: 0.6792 - loss: 0.7155 - val_accuracy: 0.6773 - val_loss: 0.7166\n",
            "Epoch 11/250\n",
            "\u001b[1m250/250\u001b[0m \u001b[32m━━━━━━━━━━━━━━━━━━━━\u001b[0m\u001b[37m\u001b[0m \u001b[1m2s\u001b[0m 9ms/step - accuracy: 0.6818 - loss: 0.7077 - val_accuracy: 0.6741 - val_loss: 0.7218\n",
            "Epoch 12/250\n",
            "\u001b[1m250/250\u001b[0m \u001b[32m━━━━━━━━━━━━━━━━━━━━\u001b[0m\u001b[37m\u001b[0m \u001b[1m4s\u001b[0m 13ms/step - accuracy: 0.6802 - loss: 0.7094 - val_accuracy: 0.6756 - val_loss: 0.7171\n",
            "Epoch 13/250\n",
            "\u001b[1m250/250\u001b[0m \u001b[32m━━━━━━━━━━━━━━━━━━━━\u001b[0m\u001b[37m\u001b[0m \u001b[1m4s\u001b[0m 9ms/step - accuracy: 0.6824 - loss: 0.7076 - val_accuracy: 0.6811 - val_loss: 0.7129\n",
            "Epoch 14/250\n",
            "\u001b[1m250/250\u001b[0m \u001b[32m━━━━━━━━━━━━━━━━━━━━\u001b[0m\u001b[37m\u001b[0m \u001b[1m3s\u001b[0m 9ms/step - accuracy: 0.6854 - loss: 0.6965 - val_accuracy: 0.6721 - val_loss: 0.7235\n",
            "Epoch 15/250\n",
            "\u001b[1m250/250\u001b[0m \u001b[32m━━━━━━━━━━━━━━━━━━━━\u001b[0m\u001b[37m\u001b[0m \u001b[1m2s\u001b[0m 9ms/step - accuracy: 0.6841 - loss: 0.6999 - val_accuracy: 0.6826 - val_loss: 0.7103\n",
            "Epoch 16/250\n",
            "\u001b[1m250/250\u001b[0m \u001b[32m━━━━━━━━━━━━━━━━━━━━\u001b[0m\u001b[37m\u001b[0m \u001b[1m3s\u001b[0m 12ms/step - accuracy: 0.6834 - loss: 0.7007 - val_accuracy: 0.6816 - val_loss: 0.7076\n",
            "Epoch 17/250\n",
            "\u001b[1m250/250\u001b[0m \u001b[32m━━━━━━━━━━━━━━━━━━━━\u001b[0m\u001b[37m\u001b[0m \u001b[1m2s\u001b[0m 9ms/step - accuracy: 0.6853 - loss: 0.7020 - val_accuracy: 0.6842 - val_loss: 0.7083\n",
            "Epoch 18/250\n",
            "\u001b[1m250/250\u001b[0m \u001b[32m━━━━━━━━━━━━━━━━━━━━\u001b[0m\u001b[37m\u001b[0m \u001b[1m2s\u001b[0m 8ms/step - accuracy: 0.6877 - loss: 0.6933 - val_accuracy: 0.6823 - val_loss: 0.7021\n",
            "Epoch 19/250\n",
            "\u001b[1m250/250\u001b[0m \u001b[32m━━━━━━━━━━━━━━━━━━━━\u001b[0m\u001b[37m\u001b[0m \u001b[1m2s\u001b[0m 9ms/step - accuracy: 0.6880 - loss: 0.6932 - val_accuracy: 0.6826 - val_loss: 0.7103\n",
            "Epoch 20/250\n",
            "\u001b[1m250/250\u001b[0m \u001b[32m━━━━━━━━━━━━━━━━━━━━\u001b[0m\u001b[37m\u001b[0m \u001b[1m2s\u001b[0m 8ms/step - accuracy: 0.6878 - loss: 0.6929 - val_accuracy: 0.6856 - val_loss: 0.7050\n",
            "Epoch 21/250\n",
            "\u001b[1m250/250\u001b[0m \u001b[32m━━━━━━━━━━━━━━━━━━━━\u001b[0m\u001b[37m\u001b[0m \u001b[1m3s\u001b[0m 11ms/step - accuracy: 0.6954 - loss: 0.6831 - val_accuracy: 0.6874 - val_loss: 0.7045\n",
            "Epoch 22/250\n",
            "\u001b[1m250/250\u001b[0m \u001b[32m━━━━━━━━━━━━━━━━━━━━\u001b[0m\u001b[37m\u001b[0m \u001b[1m5s\u001b[0m 10ms/step - accuracy: 0.6869 - loss: 0.6869 - val_accuracy: 0.6886 - val_loss: 0.7027\n",
            "Epoch 23/250\n",
            "\u001b[1m250/250\u001b[0m \u001b[32m━━━━━━━━━━━━━━━━━━━━\u001b[0m\u001b[37m\u001b[0m \u001b[1m2s\u001b[0m 9ms/step - accuracy: 0.6894 - loss: 0.6878 - val_accuracy: 0.6875 - val_loss: 0.7012\n",
            "Epoch 24/250\n",
            "\u001b[1m250/250\u001b[0m \u001b[32m━━━━━━━━━━━━━━━━━━━━\u001b[0m\u001b[37m\u001b[0m \u001b[1m3s\u001b[0m 9ms/step - accuracy: 0.6920 - loss: 0.6804 - val_accuracy: 0.6847 - val_loss: 0.7042\n",
            "Epoch 25/250\n",
            "\u001b[1m250/250\u001b[0m \u001b[32m━━━━━━━━━━━━━━━━━━━━\u001b[0m\u001b[37m\u001b[0m \u001b[1m3s\u001b[0m 12ms/step - accuracy: 0.6924 - loss: 0.6849 - val_accuracy: 0.6890 - val_loss: 0.7005\n",
            "Epoch 26/250\n",
            "\u001b[1m250/250\u001b[0m \u001b[32m━━━━━━━━━━━━━━━━━━━━\u001b[0m\u001b[37m\u001b[0m \u001b[1m2s\u001b[0m 9ms/step - accuracy: 0.6905 - loss: 0.6857 - val_accuracy: 0.6749 - val_loss: 0.7255\n",
            "Epoch 27/250\n",
            "\u001b[1m250/250\u001b[0m \u001b[32m━━━━━━━━━━━━━━━━━━━━\u001b[0m\u001b[37m\u001b[0m \u001b[1m3s\u001b[0m 9ms/step - accuracy: 0.6950 - loss: 0.6771 - val_accuracy: 0.6843 - val_loss: 0.7060\n",
            "Epoch 28/250\n",
            "\u001b[1m250/250\u001b[0m \u001b[32m━━━━━━━━━━━━━━━━━━━━\u001b[0m\u001b[37m\u001b[0m \u001b[1m2s\u001b[0m 9ms/step - accuracy: 0.6952 - loss: 0.6794 - val_accuracy: 0.6824 - val_loss: 0.7027\n",
            "Epoch 29/250\n",
            "\u001b[1m250/250\u001b[0m \u001b[32m━━━━━━━━━━━━━━━━━━━━\u001b[0m\u001b[37m\u001b[0m \u001b[1m2s\u001b[0m 8ms/step - accuracy: 0.6939 - loss: 0.6783 - val_accuracy: 0.6852 - val_loss: 0.7068\n",
            "Epoch 30/250\n",
            "\u001b[1m250/250\u001b[0m \u001b[32m━━━━━━━━━━━━━━━━━━━━\u001b[0m\u001b[37m\u001b[0m \u001b[1m4s\u001b[0m 14ms/step - accuracy: 0.6990 - loss: 0.6711 - val_accuracy: 0.6932 - val_loss: 0.6998\n",
            "Epoch 31/250\n",
            "\u001b[1m250/250\u001b[0m \u001b[32m━━━━━━━━━━━━━━━━━━━━\u001b[0m\u001b[37m\u001b[0m \u001b[1m2s\u001b[0m 9ms/step - accuracy: 0.7037 - loss: 0.6669 - val_accuracy: 0.6880 - val_loss: 0.6994\n",
            "Epoch 32/250\n",
            "\u001b[1m250/250\u001b[0m \u001b[32m━━━━━━━━━━━━━━━━━━━━\u001b[0m\u001b[37m\u001b[0m \u001b[1m3s\u001b[0m 10ms/step - accuracy: 0.6999 - loss: 0.6664 - val_accuracy: 0.6889 - val_loss: 0.6977\n",
            "Epoch 33/250\n",
            "\u001b[1m250/250\u001b[0m \u001b[32m━━━━━━━━━━━━━━━━━━━━\u001b[0m\u001b[37m\u001b[0m \u001b[1m2s\u001b[0m 9ms/step - accuracy: 0.6999 - loss: 0.6687 - val_accuracy: 0.6894 - val_loss: 0.6976\n",
            "Epoch 34/250\n",
            "\u001b[1m250/250\u001b[0m \u001b[32m━━━━━━━━━━━━━━━━━━━━\u001b[0m\u001b[37m\u001b[0m \u001b[1m2s\u001b[0m 9ms/step - accuracy: 0.6965 - loss: 0.6706 - val_accuracy: 0.6886 - val_loss: 0.7010\n",
            "Epoch 35/250\n",
            "\u001b[1m250/250\u001b[0m \u001b[32m━━━━━━━━━━━━━━━━━━━━\u001b[0m\u001b[37m\u001b[0m \u001b[1m3s\u001b[0m 12ms/step - accuracy: 0.7027 - loss: 0.6592 - val_accuracy: 0.6902 - val_loss: 0.6963\n",
            "Epoch 36/250\n",
            "\u001b[1m250/250\u001b[0m \u001b[32m━━━━━━━━━━━━━━━━━━━━\u001b[0m\u001b[37m\u001b[0m \u001b[1m4s\u001b[0m 9ms/step - accuracy: 0.7035 - loss: 0.6644 - val_accuracy: 0.6834 - val_loss: 0.7064\n",
            "Epoch 37/250\n",
            "\u001b[1m250/250\u001b[0m \u001b[32m━━━━━━━━━━━━━━━━━━━━\u001b[0m\u001b[37m\u001b[0m \u001b[1m2s\u001b[0m 9ms/step - accuracy: 0.7062 - loss: 0.6581 - val_accuracy: 0.6857 - val_loss: 0.7043\n",
            "Epoch 38/250\n",
            "\u001b[1m250/250\u001b[0m \u001b[32m━━━━━━━━━━━━━━━━━━━━\u001b[0m\u001b[37m\u001b[0m \u001b[1m3s\u001b[0m 9ms/step - accuracy: 0.7012 - loss: 0.6649 - val_accuracy: 0.6914 - val_loss: 0.6975\n",
            "Epoch 39/250\n",
            "\u001b[1m250/250\u001b[0m \u001b[32m━━━━━━━━━━━━━━━━━━━━\u001b[0m\u001b[37m\u001b[0m \u001b[1m3s\u001b[0m 12ms/step - accuracy: 0.7032 - loss: 0.6661 - val_accuracy: 0.6816 - val_loss: 0.7136\n",
            "Epoch 40/250\n",
            "\u001b[1m250/250\u001b[0m \u001b[32m━━━━━━━━━━━━━━━━━━━━\u001b[0m\u001b[37m\u001b[0m \u001b[1m2s\u001b[0m 9ms/step - accuracy: 0.7048 - loss: 0.6601 - val_accuracy: 0.6899 - val_loss: 0.6997\n",
            "Epoch 41/250\n",
            "\u001b[1m250/250\u001b[0m \u001b[32m━━━━━━━━━━━━━━━━━━━━\u001b[0m\u001b[37m\u001b[0m \u001b[1m2s\u001b[0m 8ms/step - accuracy: 0.7079 - loss: 0.6570 - val_accuracy: 0.6867 - val_loss: 0.6993\n",
            "Epoch 42/250\n",
            "\u001b[1m250/250\u001b[0m \u001b[32m━━━━━━━━━━━━━━━━━━━━\u001b[0m\u001b[37m\u001b[0m \u001b[1m4s\u001b[0m 14ms/step - accuracy: 0.7090 - loss: 0.6542 - val_accuracy: 0.6917 - val_loss: 0.6973\n",
            "Epoch 43/250\n",
            "\u001b[1m250/250\u001b[0m \u001b[32m━━━━━━━━━━━━━━━━━━━━\u001b[0m\u001b[37m\u001b[0m \u001b[1m4s\u001b[0m 15ms/step - accuracy: 0.7072 - loss: 0.6543 - val_accuracy: 0.6888 - val_loss: 0.6996\n",
            "Epoch 44/250\n",
            "\u001b[1m250/250\u001b[0m \u001b[32m━━━━━━━━━━━━━━━━━━━━\u001b[0m\u001b[37m\u001b[0m \u001b[1m3s\u001b[0m 9ms/step - accuracy: 0.7069 - loss: 0.6519 - val_accuracy: 0.6916 - val_loss: 0.6971\n",
            "Epoch 45/250\n",
            "\u001b[1m250/250\u001b[0m \u001b[32m━━━━━━━━━━━━━━━━━━━━\u001b[0m\u001b[37m\u001b[0m \u001b[1m2s\u001b[0m 9ms/step - accuracy: 0.7101 - loss: 0.6478 - val_accuracy: 0.6843 - val_loss: 0.7063\n",
            "Epoch 46/250\n",
            "\u001b[1m250/250\u001b[0m \u001b[32m━━━━━━━━━━━━━━━━━━━━\u001b[0m\u001b[37m\u001b[0m \u001b[1m2s\u001b[0m 9ms/step - accuracy: 0.7111 - loss: 0.6474 - val_accuracy: 0.6888 - val_loss: 0.6999\n",
            "Epoch 47/250\n",
            "\u001b[1m250/250\u001b[0m \u001b[32m━━━━━━━━━━━━━━━━━━━━\u001b[0m\u001b[37m\u001b[0m \u001b[1m3s\u001b[0m 11ms/step - accuracy: 0.7142 - loss: 0.6420 - val_accuracy: 0.6881 - val_loss: 0.7032\n",
            "Epoch 48/250\n",
            "\u001b[1m250/250\u001b[0m \u001b[32m━━━━━━━━━━━━━━━━━━━━\u001b[0m\u001b[37m\u001b[0m \u001b[1m3s\u001b[0m 11ms/step - accuracy: 0.7109 - loss: 0.6447 - val_accuracy: 0.6893 - val_loss: 0.6981\n",
            "Epoch 49/250\n",
            "\u001b[1m250/250\u001b[0m \u001b[32m━━━━━━━━━━━━━━━━━━━━\u001b[0m\u001b[37m\u001b[0m \u001b[1m5s\u001b[0m 9ms/step - accuracy: 0.7147 - loss: 0.6401 - val_accuracy: 0.6918 - val_loss: 0.6965\n",
            "Epoch 50/250\n",
            "\u001b[1m250/250\u001b[0m \u001b[32m━━━━━━━━━━━━━━━━━━━━\u001b[0m\u001b[37m\u001b[0m \u001b[1m2s\u001b[0m 8ms/step - accuracy: 0.7121 - loss: 0.6431 - val_accuracy: 0.6929 - val_loss: 0.6940\n",
            "Epoch 51/250\n",
            "\u001b[1m250/250\u001b[0m \u001b[32m━━━━━━━━━━━━━━━━━━━━\u001b[0m\u001b[37m\u001b[0m \u001b[1m3s\u001b[0m 10ms/step - accuracy: 0.7113 - loss: 0.6411 - val_accuracy: 0.6857 - val_loss: 0.7143\n",
            "Epoch 52/250\n",
            "\u001b[1m250/250\u001b[0m \u001b[32m━━━━━━━━━━━━━━━━━━━━\u001b[0m\u001b[37m\u001b[0m \u001b[1m5s\u001b[0m 9ms/step - accuracy: 0.7078 - loss: 0.6458 - val_accuracy: 0.6875 - val_loss: 0.7068\n",
            "Epoch 53/250\n",
            "\u001b[1m250/250\u001b[0m \u001b[32m━━━━━━━━━━━━━━━━━━━━\u001b[0m\u001b[37m\u001b[0m \u001b[1m3s\u001b[0m 9ms/step - accuracy: 0.7141 - loss: 0.6395 - val_accuracy: 0.6876 - val_loss: 0.6993\n",
            "Epoch 54/250\n",
            "\u001b[1m250/250\u001b[0m \u001b[32m━━━━━━━━━━━━━━━━━━━━\u001b[0m\u001b[37m\u001b[0m \u001b[1m3s\u001b[0m 9ms/step - accuracy: 0.7165 - loss: 0.6365 - val_accuracy: 0.6861 - val_loss: 0.7107\n",
            "Epoch 55/250\n",
            "\u001b[1m250/250\u001b[0m \u001b[32m━━━━━━━━━━━━━━━━━━━━\u001b[0m\u001b[37m\u001b[0m \u001b[1m3s\u001b[0m 11ms/step - accuracy: 0.7126 - loss: 0.6367 - val_accuracy: 0.6840 - val_loss: 0.7185\n",
            "Epoch 56/250\n",
            "\u001b[1m250/250\u001b[0m \u001b[32m━━━━━━━━━━━━━━━━━━━━\u001b[0m\u001b[37m\u001b[0m \u001b[1m5s\u001b[0m 9ms/step - accuracy: 0.7186 - loss: 0.6330 - val_accuracy: 0.6893 - val_loss: 0.7023\n",
            "Epoch 57/250\n",
            "\u001b[1m250/250\u001b[0m \u001b[32m━━━━━━━━━━━━━━━━━━━━\u001b[0m\u001b[37m\u001b[0m \u001b[1m2s\u001b[0m 8ms/step - accuracy: 0.7174 - loss: 0.6334 - val_accuracy: 0.6923 - val_loss: 0.6969\n",
            "Epoch 58/250\n",
            "\u001b[1m250/250\u001b[0m \u001b[32m━━━━━━━━━━━━━━━━━━━━\u001b[0m\u001b[37m\u001b[0m \u001b[1m3s\u001b[0m 9ms/step - accuracy: 0.7202 - loss: 0.6271 - val_accuracy: 0.6888 - val_loss: 0.7059\n",
            "Epoch 59/250\n",
            "\u001b[1m250/250\u001b[0m \u001b[32m━━━━━━━━━━━━━━━━━━━━\u001b[0m\u001b[37m\u001b[0m \u001b[1m3s\u001b[0m 11ms/step - accuracy: 0.7151 - loss: 0.6333 - val_accuracy: 0.6918 - val_loss: 0.7029\n",
            "Epoch 60/250\n",
            "\u001b[1m250/250\u001b[0m \u001b[32m━━━━━━━━━━━━━━━━━━━━\u001b[0m\u001b[37m\u001b[0m \u001b[1m5s\u001b[0m 9ms/step - accuracy: 0.7186 - loss: 0.6275 - val_accuracy: 0.6762 - val_loss: 0.7326\n",
            "Epoch 61/250\n",
            "\u001b[1m250/250\u001b[0m \u001b[32m━━━━━━━━━━━━━━━━━━━━\u001b[0m\u001b[37m\u001b[0m \u001b[1m2s\u001b[0m 9ms/step - accuracy: 0.7210 - loss: 0.6227 - val_accuracy: 0.6871 - val_loss: 0.6998\n",
            "Epoch 62/250\n",
            "\u001b[1m250/250\u001b[0m \u001b[32m━━━━━━━━━━━━━━━━━━━━\u001b[0m\u001b[37m\u001b[0m \u001b[1m3s\u001b[0m 9ms/step - accuracy: 0.7185 - loss: 0.6261 - val_accuracy: 0.6851 - val_loss: 0.7117\n",
            "Epoch 63/250\n",
            "\u001b[1m250/250\u001b[0m \u001b[32m━━━━━━━━━━━━━━━━━━━━\u001b[0m\u001b[37m\u001b[0m \u001b[1m4s\u001b[0m 13ms/step - accuracy: 0.7239 - loss: 0.6228 - val_accuracy: 0.6906 - val_loss: 0.6927\n",
            "Epoch 64/250\n",
            "\u001b[1m250/250\u001b[0m \u001b[32m━━━━━━━━━━━━━━━━━━━━\u001b[0m\u001b[37m\u001b[0m \u001b[1m4s\u001b[0m 10ms/step - accuracy: 0.7181 - loss: 0.6264 - val_accuracy: 0.6918 - val_loss: 0.6965\n",
            "Epoch 65/250\n",
            "\u001b[1m250/250\u001b[0m \u001b[32m━━━━━━━━━━━━━━━━━━━━\u001b[0m\u001b[37m\u001b[0m \u001b[1m2s\u001b[0m 9ms/step - accuracy: 0.7217 - loss: 0.6205 - val_accuracy: 0.6945 - val_loss: 0.6942\n",
            "Epoch 66/250\n",
            "\u001b[1m250/250\u001b[0m \u001b[32m━━━━━━━━━━━━━━━━━━━━\u001b[0m\u001b[37m\u001b[0m \u001b[1m2s\u001b[0m 9ms/step - accuracy: 0.7260 - loss: 0.6178 - val_accuracy: 0.6918 - val_loss: 0.7046\n",
            "Epoch 67/250\n",
            "\u001b[1m250/250\u001b[0m \u001b[32m━━━━━━━━━━━━━━━━━━━━\u001b[0m\u001b[37m\u001b[0m \u001b[1m3s\u001b[0m 10ms/step - accuracy: 0.7230 - loss: 0.6175 - val_accuracy: 0.6931 - val_loss: 0.6985\n",
            "Epoch 68/250\n",
            "\u001b[1m250/250\u001b[0m \u001b[32m━━━━━━━━━━━━━━━━━━━━\u001b[0m\u001b[37m\u001b[0m \u001b[1m3s\u001b[0m 11ms/step - accuracy: 0.7245 - loss: 0.6154 - val_accuracy: 0.6926 - val_loss: 0.7017\n",
            "Epoch 69/250\n",
            "\u001b[1m250/250\u001b[0m \u001b[32m━━━━━━━━━━━━━━━━━━━━\u001b[0m\u001b[37m\u001b[0m \u001b[1m2s\u001b[0m 9ms/step - accuracy: 0.7247 - loss: 0.6126 - val_accuracy: 0.6855 - val_loss: 0.7133\n",
            "Epoch 70/250\n",
            "\u001b[1m250/250\u001b[0m \u001b[32m━━━━━━━━━━━━━━━━━━━━\u001b[0m\u001b[37m\u001b[0m \u001b[1m3s\u001b[0m 9ms/step - accuracy: 0.7253 - loss: 0.6151 - val_accuracy: 0.6883 - val_loss: 0.7125\n",
            "Epoch 71/250\n",
            "\u001b[1m250/250\u001b[0m \u001b[32m━━━━━━━━━━━━━━━━━━━━\u001b[0m\u001b[37m\u001b[0m \u001b[1m2s\u001b[0m 9ms/step - accuracy: 0.7255 - loss: 0.6102 - val_accuracy: 0.6808 - val_loss: 0.7213\n",
            "Epoch 72/250\n",
            "\u001b[1m250/250\u001b[0m \u001b[32m━━━━━━━━━━━━━━━━━━━━\u001b[0m\u001b[37m\u001b[0m \u001b[1m3s\u001b[0m 11ms/step - accuracy: 0.7258 - loss: 0.6123 - val_accuracy: 0.6942 - val_loss: 0.6970\n",
            "Epoch 73/250\n",
            "\u001b[1m250/250\u001b[0m \u001b[32m━━━━━━━━━━━━━━━━━━━━\u001b[0m\u001b[37m\u001b[0m \u001b[1m5s\u001b[0m 9ms/step - accuracy: 0.7263 - loss: 0.6104 - val_accuracy: 0.6928 - val_loss: 0.6977\n",
            "Epoch 74/250\n",
            "\u001b[1m250/250\u001b[0m \u001b[32m━━━━━━━━━━━━━━━━━━━━\u001b[0m\u001b[37m\u001b[0m \u001b[1m2s\u001b[0m 9ms/step - accuracy: 0.7293 - loss: 0.6062 - val_accuracy: 0.6856 - val_loss: 0.7043\n",
            "Epoch 75/250\n",
            "\u001b[1m250/250\u001b[0m \u001b[32m━━━━━━━━━━━━━━━━━━━━\u001b[0m\u001b[37m\u001b[0m \u001b[1m3s\u001b[0m 9ms/step - accuracy: 0.7280 - loss: 0.6049 - val_accuracy: 0.6921 - val_loss: 0.7027\n",
            "Epoch 76/250\n",
            "\u001b[1m250/250\u001b[0m \u001b[32m━━━━━━━━━━━━━━━━━━━━\u001b[0m\u001b[37m\u001b[0m \u001b[1m3s\u001b[0m 12ms/step - accuracy: 0.7334 - loss: 0.5981 - val_accuracy: 0.6936 - val_loss: 0.6985\n",
            "Epoch 77/250\n",
            "\u001b[1m250/250\u001b[0m \u001b[32m━━━━━━━━━━━━━━━━━━━━\u001b[0m\u001b[37m\u001b[0m \u001b[1m4s\u001b[0m 9ms/step - accuracy: 0.7288 - loss: 0.6072 - val_accuracy: 0.6851 - val_loss: 0.7228\n",
            "Epoch 78/250\n",
            "\u001b[1m250/250\u001b[0m \u001b[32m━━━━━━━━━━━━━━━━━━━━\u001b[0m\u001b[37m\u001b[0m \u001b[1m2s\u001b[0m 9ms/step - accuracy: 0.7300 - loss: 0.6025 - val_accuracy: 0.6951 - val_loss: 0.6969\n",
            "Epoch 79/250\n",
            "\u001b[1m250/250\u001b[0m \u001b[32m━━━━━━━━━━━━━━━━━━━━\u001b[0m\u001b[37m\u001b[0m \u001b[1m2s\u001b[0m 9ms/step - accuracy: 0.7306 - loss: 0.6003 - val_accuracy: 0.6936 - val_loss: 0.6991\n",
            "Epoch 80/250\n",
            "\u001b[1m250/250\u001b[0m \u001b[32m━━━━━━━━━━━━━━━━━━━━\u001b[0m\u001b[37m\u001b[0m \u001b[1m4s\u001b[0m 17ms/step - accuracy: 0.7308 - loss: 0.6039 - val_accuracy: 0.6871 - val_loss: 0.7155\n",
            "Epoch 81/250\n",
            "\u001b[1m250/250\u001b[0m \u001b[32m━━━━━━━━━━━━━━━━━━━━\u001b[0m\u001b[37m\u001b[0m \u001b[1m5s\u001b[0m 16ms/step - accuracy: 0.7314 - loss: 0.5964 - val_accuracy: 0.6911 - val_loss: 0.7039\n",
            "Epoch 82/250\n",
            "\u001b[1m250/250\u001b[0m \u001b[32m━━━━━━━━━━━━━━━━━━━━\u001b[0m\u001b[37m\u001b[0m \u001b[1m4s\u001b[0m 15ms/step - accuracy: 0.7325 - loss: 0.5979 - val_accuracy: 0.6974 - val_loss: 0.7021\n",
            "Epoch 83/250\n",
            "\u001b[1m250/250\u001b[0m \u001b[32m━━━━━━━━━━━━━━━━━━━━\u001b[0m\u001b[37m\u001b[0m \u001b[1m6s\u001b[0m 22ms/step - accuracy: 0.7349 - loss: 0.5950 - val_accuracy: 0.6950 - val_loss: 0.7015\n"
          ]
        }
      ]
    },
    {
      "cell_type": "markdown",
      "source": [
        "### evaluate model"
      ],
      "metadata": {
        "id": "DeVU9mHArbdQ"
      }
    },
    {
      "cell_type": "markdown",
      "source": [
        "train accuracy and loss"
      ],
      "metadata": {
        "id": "9sqKiMDq6JdC"
      }
    },
    {
      "cell_type": "code",
      "source": [
        "mm2.evaluate(scaled_data, y_encoded)"
      ],
      "metadata": {
        "colab": {
          "base_uri": "https://localhost:8080/"
        },
        "id": "714AnssF0DM5",
        "outputId": "8c6b9bf1-6fb6-40b8-ea8a-fd350d25d943"
      },
      "execution_count": null,
      "outputs": [
        {
          "output_type": "stream",
          "name": "stdout",
          "text": [
            "\u001b[1m2500/2500\u001b[0m \u001b[32m━━━━━━━━━━━━━━━━━━━━\u001b[0m\u001b[37m\u001b[0m \u001b[1m5s\u001b[0m 2ms/step - accuracy: 0.7272 - loss: 0.6109\n"
          ]
        },
        {
          "output_type": "execute_result",
          "data": {
            "text/plain": [
              "[0.6260296106338501, 0.7212874889373779]"
            ]
          },
          "metadata": {},
          "execution_count": 57
        }
      ]
    },
    {
      "cell_type": "markdown",
      "source": [
        "vaild accuracy and loss"
      ],
      "metadata": {
        "id": "37qEpW1Y6JdD"
      }
    },
    {
      "cell_type": "code",
      "source": [
        "mm2.evaluate(scaled_data_vaild, y_encoded_vaild)"
      ],
      "metadata": {
        "colab": {
          "base_uri": "https://localhost:8080/"
        },
        "id": "ULwYPJ-V0GaN",
        "outputId": "626b625d-3adb-40cd-dd55-a5a87eb2e399"
      },
      "execution_count": null,
      "outputs": [
        {
          "output_type": "stream",
          "name": "stdout",
          "text": [
            "\u001b[1m438/438\u001b[0m \u001b[32m━━━━━━━━━━━━━━━━━━━━\u001b[0m\u001b[37m\u001b[0m \u001b[1m1s\u001b[0m 3ms/step - accuracy: 0.6919 - loss: 0.6990\n"
          ]
        },
        {
          "output_type": "execute_result",
          "data": {
            "text/plain": [
              "[0.7022361755371094, 0.6855000257492065]"
            ]
          },
          "metadata": {},
          "execution_count": 58
        }
      ]
    },
    {
      "cell_type": "code",
      "source": [
        "y_pred_mm2=mm2.predict(scaled_data_vaild)"
      ],
      "metadata": {
        "colab": {
          "base_uri": "https://localhost:8080/"
        },
        "id": "GHsstC5S0OZK",
        "outputId": "dca55241-311c-464a-d097-d77776357d80"
      },
      "execution_count": null,
      "outputs": [
        {
          "output_type": "stream",
          "name": "stdout",
          "text": [
            "\u001b[1m438/438\u001b[0m \u001b[32m━━━━━━━━━━━━━━━━━━━━\u001b[0m\u001b[37m\u001b[0m \u001b[1m1s\u001b[0m 2ms/step\n"
          ]
        }
      ]
    },
    {
      "cell_type": "code",
      "source": [
        "y_pred_classes = np.argmax(y_pred_mm2, axis=1)\n",
        "report = classification_report(y_encoded_vaild, to_categorical(y_pred_classes, num_classes=3))\n",
        "print(report)"
      ],
      "metadata": {
        "colab": {
          "base_uri": "https://localhost:8080/"
        },
        "id": "l_jZOCh40Tdg",
        "outputId": "e637c901-6075-4c8d-b9e5-51525959450a"
      },
      "execution_count": null,
      "outputs": [
        {
          "output_type": "stream",
          "name": "stdout",
          "text": [
            "              precision    recall  f1-score   support\n",
            "\n",
            "           0       0.59      0.56      0.58      2531\n",
            "           1       0.69      0.65      0.67      3997\n",
            "           2       0.71      0.75      0.73      7472\n",
            "\n",
            "   micro avg       0.69      0.69      0.69     14000\n",
            "   macro avg       0.66      0.65      0.66     14000\n",
            "weighted avg       0.68      0.69      0.68     14000\n",
            " samples avg       0.69      0.69      0.69     14000\n",
            "\n"
          ]
        }
      ]
    },
    {
      "cell_type": "markdown",
      "source": [
        "# Third  trial model"
      ],
      "metadata": {
        "id": "lYGslLsx5Wm4"
      }
    },
    {
      "cell_type": "code",
      "source": [
        "model_cred = Sequential()\n",
        "\n",
        "model_cred.add(Input(shape=(scaled_data.shape[1],)))\n",
        "model_cred.add(Dense(256,activation='relu'))\n",
        "model_cred.add(BatchNormalization())\n",
        "model_cred.add(Dropout(0.3))\n",
        "\n",
        "model_cred.add(Dense(128,activation='relu'))\n",
        "model_cred.add(BatchNormalization())\n",
        "model_cred.add(Dropout(0.3))\n",
        "\n",
        "model_cred.add(Dense(64, activation='relu'))\n",
        "model_cred.add(BatchNormalization())\n",
        "model_cred.add(Dropout(0.3))\n",
        "\n",
        "model_cred.add(Dense(32, activation='relu'))\n",
        "model_cred.add(BatchNormalization())\n",
        "model_cred.add(Dropout(0.25))\n",
        "\n",
        "model_cred.add(Dense(3, activation='softmax'))\n",
        "\n",
        "model_cred.compile(optimizer=keras.optimizers.Adam(0.0003), loss='categorical_crossentropy', metrics=['accuracy'])"
      ],
      "metadata": {
        "id": "o4GU4ytZ5Wm4"
      },
      "execution_count": null,
      "outputs": []
    },
    {
      "cell_type": "code",
      "source": [
        "early_stopping = EarlyStopping(monitor='val_loss', patience=20, restore_best_weights=True)\n",
        "history = model_cred.fit(scaled_data, y_encoded, epochs=250, batch_size=256,callbacks=[early_stopping], validation_split=0.2)"
      ],
      "metadata": {
        "colab": {
          "base_uri": "https://localhost:8080/"
        },
        "outputId": "0cfd677f-7940-41a3-9734-ac020284eb1e",
        "id": "IDlM6TXk5Wm5"
      },
      "execution_count": null,
      "outputs": [
        {
          "output_type": "stream",
          "name": "stdout",
          "text": [
            "Epoch 1/250\n",
            "\u001b[1m250/250\u001b[0m \u001b[32m━━━━━━━━━━━━━━━━━━━━\u001b[0m\u001b[37m\u001b[0m \u001b[1m6s\u001b[0m 11ms/step - accuracy: 0.3728 - loss: 1.3285 - val_accuracy: 0.5899 - val_loss: 0.9509\n",
            "Epoch 2/250\n",
            "\u001b[1m250/250\u001b[0m \u001b[32m━━━━━━━━━━━━━━━━━━━━\u001b[0m\u001b[37m\u001b[0m \u001b[1m3s\u001b[0m 13ms/step - accuracy: 0.5095 - loss: 1.0731 - val_accuracy: 0.6243 - val_loss: 0.8609\n",
            "Epoch 3/250\n",
            "\u001b[1m250/250\u001b[0m \u001b[32m━━━━━━━━━━━━━━━━━━━━\u001b[0m\u001b[37m\u001b[0m \u001b[1m3s\u001b[0m 11ms/step - accuracy: 0.5649 - loss: 0.9671 - val_accuracy: 0.6316 - val_loss: 0.8139\n",
            "Epoch 4/250\n",
            "\u001b[1m250/250\u001b[0m \u001b[32m━━━━━━━━━━━━━━━━━━━━\u001b[0m\u001b[37m\u001b[0m \u001b[1m5s\u001b[0m 10ms/step - accuracy: 0.5876 - loss: 0.9098 - val_accuracy: 0.6342 - val_loss: 0.7945\n",
            "Epoch 5/250\n",
            "\u001b[1m250/250\u001b[0m \u001b[32m━━━━━━━━━━━━━━━━━━━━\u001b[0m\u001b[37m\u001b[0m \u001b[1m3s\u001b[0m 10ms/step - accuracy: 0.6013 - loss: 0.8818 - val_accuracy: 0.6394 - val_loss: 0.7814\n",
            "Epoch 6/250\n",
            "\u001b[1m250/250\u001b[0m \u001b[32m━━━━━━━━━━━━━━━━━━━━\u001b[0m\u001b[37m\u001b[0m \u001b[1m4s\u001b[0m 15ms/step - accuracy: 0.6056 - loss: 0.8538 - val_accuracy: 0.6417 - val_loss: 0.7725\n",
            "Epoch 7/250\n",
            "\u001b[1m250/250\u001b[0m \u001b[32m━━━━━━━━━━━━━━━━━━━━\u001b[0m\u001b[37m\u001b[0m \u001b[1m4s\u001b[0m 10ms/step - accuracy: 0.6157 - loss: 0.8352 - val_accuracy: 0.6438 - val_loss: 0.7651\n",
            "Epoch 8/250\n",
            "\u001b[1m250/250\u001b[0m \u001b[32m━━━━━━━━━━━━━━━━━━━━\u001b[0m\u001b[37m\u001b[0m \u001b[1m2s\u001b[0m 10ms/step - accuracy: 0.6200 - loss: 0.8213 - val_accuracy: 0.6459 - val_loss: 0.7585\n",
            "Epoch 9/250\n",
            "\u001b[1m250/250\u001b[0m \u001b[32m━━━━━━━━━━━━━━━━━━━━\u001b[0m\u001b[37m\u001b[0m \u001b[1m2s\u001b[0m 10ms/step - accuracy: 0.6268 - loss: 0.8098 - val_accuracy: 0.6486 - val_loss: 0.7506\n",
            "Epoch 10/250\n",
            "\u001b[1m250/250\u001b[0m \u001b[32m━━━━━━━━━━━━━━━━━━━━\u001b[0m\u001b[37m\u001b[0m \u001b[1m4s\u001b[0m 15ms/step - accuracy: 0.6321 - loss: 0.7972 - val_accuracy: 0.6499 - val_loss: 0.7429\n",
            "Epoch 11/250\n",
            "\u001b[1m250/250\u001b[0m \u001b[32m━━━━━━━━━━━━━━━━━━━━\u001b[0m\u001b[37m\u001b[0m \u001b[1m3s\u001b[0m 10ms/step - accuracy: 0.6335 - loss: 0.7883 - val_accuracy: 0.6619 - val_loss: 0.7365\n",
            "Epoch 12/250\n",
            "\u001b[1m250/250\u001b[0m \u001b[32m━━━━━━━━━━━━━━━━━━━━\u001b[0m\u001b[37m\u001b[0m \u001b[1m3s\u001b[0m 10ms/step - accuracy: 0.6430 - loss: 0.7798 - val_accuracy: 0.6660 - val_loss: 0.7313\n",
            "Epoch 13/250\n",
            "\u001b[1m250/250\u001b[0m \u001b[32m━━━━━━━━━━━━━━━━━━━━\u001b[0m\u001b[37m\u001b[0m \u001b[1m3s\u001b[0m 10ms/step - accuracy: 0.6459 - loss: 0.7748 - val_accuracy: 0.6670 - val_loss: 0.7289\n",
            "Epoch 14/250\n",
            "\u001b[1m250/250\u001b[0m \u001b[32m━━━━━━━━━━━━━━━━━━━━\u001b[0m\u001b[37m\u001b[0m \u001b[1m3s\u001b[0m 11ms/step - accuracy: 0.6517 - loss: 0.7642 - val_accuracy: 0.6696 - val_loss: 0.7256\n",
            "Epoch 15/250\n",
            "\u001b[1m250/250\u001b[0m \u001b[32m━━━━━━━━━━━━━━━━━━━━\u001b[0m\u001b[37m\u001b[0m \u001b[1m4s\u001b[0m 14ms/step - accuracy: 0.6519 - loss: 0.7571 - val_accuracy: 0.6702 - val_loss: 0.7239\n",
            "Epoch 16/250\n",
            "\u001b[1m250/250\u001b[0m \u001b[32m━━━━━━━━━━━━━━━━━━━━\u001b[0m\u001b[37m\u001b[0m \u001b[1m4s\u001b[0m 10ms/step - accuracy: 0.6550 - loss: 0.7551 - val_accuracy: 0.6713 - val_loss: 0.7220\n",
            "Epoch 17/250\n",
            "\u001b[1m250/250\u001b[0m \u001b[32m━━━━━━━━━━━━━━━━━━━━\u001b[0m\u001b[37m\u001b[0m \u001b[1m2s\u001b[0m 9ms/step - accuracy: 0.6591 - loss: 0.7514 - val_accuracy: 0.6744 - val_loss: 0.7198\n",
            "Epoch 18/250\n",
            "\u001b[1m250/250\u001b[0m \u001b[32m━━━━━━━━━━━━━━━━━━━━\u001b[0m\u001b[37m\u001b[0m \u001b[1m3s\u001b[0m 10ms/step - accuracy: 0.6528 - loss: 0.7537 - val_accuracy: 0.6739 - val_loss: 0.7192\n",
            "Epoch 19/250\n",
            "\u001b[1m250/250\u001b[0m \u001b[32m━━━━━━━━━━━━━━━━━━━━\u001b[0m\u001b[37m\u001b[0m \u001b[1m5s\u001b[0m 10ms/step - accuracy: 0.6565 - loss: 0.7505 - val_accuracy: 0.6768 - val_loss: 0.7155\n",
            "Epoch 20/250\n",
            "\u001b[1m250/250\u001b[0m \u001b[32m━━━━━━━━━━━━━━━━━━━━\u001b[0m\u001b[37m\u001b[0m \u001b[1m2s\u001b[0m 10ms/step - accuracy: 0.6587 - loss: 0.7508 - val_accuracy: 0.6783 - val_loss: 0.7146\n",
            "Epoch 21/250\n",
            "\u001b[1m250/250\u001b[0m \u001b[32m━━━━━━━━━━━━━━━━━━━━\u001b[0m\u001b[37m\u001b[0m \u001b[1m3s\u001b[0m 10ms/step - accuracy: 0.6624 - loss: 0.7449 - val_accuracy: 0.6790 - val_loss: 0.7122\n",
            "Epoch 22/250\n",
            "\u001b[1m250/250\u001b[0m \u001b[32m━━━━━━━━━━━━━━━━━━━━\u001b[0m\u001b[37m\u001b[0m \u001b[1m3s\u001b[0m 13ms/step - accuracy: 0.6638 - loss: 0.7405 - val_accuracy: 0.6770 - val_loss: 0.7115\n",
            "Epoch 23/250\n",
            "\u001b[1m250/250\u001b[0m \u001b[32m━━━━━━━━━━━━━━━━━━━━\u001b[0m\u001b[37m\u001b[0m \u001b[1m4s\u001b[0m 10ms/step - accuracy: 0.6642 - loss: 0.7403 - val_accuracy: 0.6788 - val_loss: 0.7107\n",
            "Epoch 24/250\n",
            "\u001b[1m250/250\u001b[0m \u001b[32m━━━━━━━━━━━━━━━━━━━━\u001b[0m\u001b[37m\u001b[0m \u001b[1m2s\u001b[0m 10ms/step - accuracy: 0.6645 - loss: 0.7383 - val_accuracy: 0.6765 - val_loss: 0.7138\n",
            "Epoch 25/250\n",
            "\u001b[1m250/250\u001b[0m \u001b[32m━━━━━━━━━━━━━━━━━━━━\u001b[0m\u001b[37m\u001b[0m \u001b[1m3s\u001b[0m 10ms/step - accuracy: 0.6684 - loss: 0.7345 - val_accuracy: 0.6828 - val_loss: 0.7075\n",
            "Epoch 26/250\n",
            "\u001b[1m250/250\u001b[0m \u001b[32m━━━━━━━━━━━━━━━━━━━━\u001b[0m\u001b[37m\u001b[0m \u001b[1m3s\u001b[0m 13ms/step - accuracy: 0.6656 - loss: 0.7347 - val_accuracy: 0.6835 - val_loss: 0.7070\n",
            "Epoch 27/250\n",
            "\u001b[1m250/250\u001b[0m \u001b[32m━━━━━━━━━━━━━━━━━━━━\u001b[0m\u001b[37m\u001b[0m \u001b[1m4s\u001b[0m 10ms/step - accuracy: 0.6647 - loss: 0.7344 - val_accuracy: 0.6838 - val_loss: 0.7068\n",
            "Epoch 28/250\n",
            "\u001b[1m250/250\u001b[0m \u001b[32m━━━━━━━━━━━━━━━━━━━━\u001b[0m\u001b[37m\u001b[0m \u001b[1m2s\u001b[0m 10ms/step - accuracy: 0.6677 - loss: 0.7327 - val_accuracy: 0.6831 - val_loss: 0.7058\n",
            "Epoch 29/250\n",
            "\u001b[1m250/250\u001b[0m \u001b[32m━━━━━━━━━━━━━━━━━━━━\u001b[0m\u001b[37m\u001b[0m \u001b[1m2s\u001b[0m 10ms/step - accuracy: 0.6689 - loss: 0.7281 - val_accuracy: 0.6827 - val_loss: 0.7063\n",
            "Epoch 30/250\n",
            "\u001b[1m250/250\u001b[0m \u001b[32m━━━━━━━━━━━━━━━━━━━━\u001b[0m\u001b[37m\u001b[0m \u001b[1m3s\u001b[0m 13ms/step - accuracy: 0.6717 - loss: 0.7265 - val_accuracy: 0.6825 - val_loss: 0.7053\n",
            "Epoch 31/250\n",
            "\u001b[1m250/250\u001b[0m \u001b[32m━━━━━━━━━━━━━━━━━━━━\u001b[0m\u001b[37m\u001b[0m \u001b[1m3s\u001b[0m 11ms/step - accuracy: 0.6687 - loss: 0.7288 - val_accuracy: 0.6839 - val_loss: 0.7052\n",
            "Epoch 32/250\n",
            "\u001b[1m250/250\u001b[0m \u001b[32m━━━━━━━━━━━━━━━━━━━━\u001b[0m\u001b[37m\u001b[0m \u001b[1m5s\u001b[0m 10ms/step - accuracy: 0.6709 - loss: 0.7283 - val_accuracy: 0.6858 - val_loss: 0.7013\n",
            "Epoch 33/250\n",
            "\u001b[1m250/250\u001b[0m \u001b[32m━━━━━━━━━━━━━━━━━━━━\u001b[0m\u001b[37m\u001b[0m \u001b[1m3s\u001b[0m 10ms/step - accuracy: 0.6700 - loss: 0.7272 - val_accuracy: 0.6833 - val_loss: 0.7028\n",
            "Epoch 34/250\n",
            "\u001b[1m250/250\u001b[0m \u001b[32m━━━━━━━━━━━━━━━━━━━━\u001b[0m\u001b[37m\u001b[0m \u001b[1m5s\u001b[0m 10ms/step - accuracy: 0.6734 - loss: 0.7242 - val_accuracy: 0.6873 - val_loss: 0.7008\n",
            "Epoch 35/250\n",
            "\u001b[1m250/250\u001b[0m \u001b[32m━━━━━━━━━━━━━━━━━━━━\u001b[0m\u001b[37m\u001b[0m \u001b[1m3s\u001b[0m 10ms/step - accuracy: 0.6740 - loss: 0.7200 - val_accuracy: 0.6877 - val_loss: 0.6999\n",
            "Epoch 36/250\n",
            "\u001b[1m250/250\u001b[0m \u001b[32m━━━━━━━━━━━━━━━━━━━━\u001b[0m\u001b[37m\u001b[0m \u001b[1m6s\u001b[0m 12ms/step - accuracy: 0.6751 - loss: 0.7197 - val_accuracy: 0.6851 - val_loss: 0.6996\n",
            "Epoch 37/250\n",
            "\u001b[1m250/250\u001b[0m \u001b[32m━━━━━━━━━━━━━━━━━━━━\u001b[0m\u001b[37m\u001b[0m \u001b[1m5s\u001b[0m 10ms/step - accuracy: 0.6789 - loss: 0.7177 - val_accuracy: 0.6880 - val_loss: 0.6969\n",
            "Epoch 38/250\n",
            "\u001b[1m250/250\u001b[0m \u001b[32m━━━━━━━━━━━━━━━━━━━━\u001b[0m\u001b[37m\u001b[0m \u001b[1m3s\u001b[0m 10ms/step - accuracy: 0.6779 - loss: 0.7182 - val_accuracy: 0.6870 - val_loss: 0.6968\n",
            "Epoch 39/250\n",
            "\u001b[1m250/250\u001b[0m \u001b[32m━━━━━━━━━━━━━━━━━━━━\u001b[0m\u001b[37m\u001b[0m \u001b[1m3s\u001b[0m 10ms/step - accuracy: 0.6742 - loss: 0.7163 - val_accuracy: 0.6881 - val_loss: 0.6954\n",
            "Epoch 40/250\n",
            "\u001b[1m250/250\u001b[0m \u001b[32m━━━━━━━━━━━━━━━━━━━━\u001b[0m\u001b[37m\u001b[0m \u001b[1m3s\u001b[0m 13ms/step - accuracy: 0.6774 - loss: 0.7161 - val_accuracy: 0.6909 - val_loss: 0.6946\n",
            "Epoch 41/250\n",
            "\u001b[1m250/250\u001b[0m \u001b[32m━━━━━━━━━━━━━━━━━━━━\u001b[0m\u001b[37m\u001b[0m \u001b[1m4s\u001b[0m 10ms/step - accuracy: 0.6754 - loss: 0.7182 - val_accuracy: 0.6886 - val_loss: 0.6965\n",
            "Epoch 42/250\n",
            "\u001b[1m250/250\u001b[0m \u001b[32m━━━━━━━━━━━━━━━━━━━━\u001b[0m\u001b[37m\u001b[0m \u001b[1m3s\u001b[0m 10ms/step - accuracy: 0.6773 - loss: 0.7146 - val_accuracy: 0.6888 - val_loss: 0.6945\n",
            "Epoch 43/250\n",
            "\u001b[1m250/250\u001b[0m \u001b[32m━━━━━━━━━━━━━━━━━━━━\u001b[0m\u001b[37m\u001b[0m \u001b[1m6s\u001b[0m 14ms/step - accuracy: 0.6802 - loss: 0.7131 - val_accuracy: 0.6908 - val_loss: 0.6944\n",
            "Epoch 44/250\n",
            "\u001b[1m250/250\u001b[0m \u001b[32m━━━━━━━━━━━━━━━━━━━━\u001b[0m\u001b[37m\u001b[0m \u001b[1m4s\u001b[0m 10ms/step - accuracy: 0.6752 - loss: 0.7183 - val_accuracy: 0.6902 - val_loss: 0.6947\n",
            "Epoch 45/250\n",
            "\u001b[1m250/250\u001b[0m \u001b[32m━━━━━━━━━━━━━━━━━━━━\u001b[0m\u001b[37m\u001b[0m \u001b[1m5s\u001b[0m 9ms/step - accuracy: 0.6781 - loss: 0.7138 - val_accuracy: 0.6917 - val_loss: 0.6944\n",
            "Epoch 46/250\n",
            "\u001b[1m250/250\u001b[0m \u001b[32m━━━━━━━━━━━━━━━━━━━━\u001b[0m\u001b[37m\u001b[0m \u001b[1m3s\u001b[0m 13ms/step - accuracy: 0.6805 - loss: 0.7140 - val_accuracy: 0.6934 - val_loss: 0.6930\n",
            "Epoch 47/250\n",
            "\u001b[1m250/250\u001b[0m \u001b[32m━━━━━━━━━━━━━━━━━━━━\u001b[0m\u001b[37m\u001b[0m \u001b[1m3s\u001b[0m 11ms/step - accuracy: 0.6787 - loss: 0.7139 - val_accuracy: 0.6913 - val_loss: 0.6935\n",
            "Epoch 48/250\n",
            "\u001b[1m250/250\u001b[0m \u001b[32m━━━━━━━━━━━━━━━━━━━━\u001b[0m\u001b[37m\u001b[0m \u001b[1m5s\u001b[0m 10ms/step - accuracy: 0.6796 - loss: 0.7100 - val_accuracy: 0.6917 - val_loss: 0.6916\n",
            "Epoch 49/250\n",
            "\u001b[1m250/250\u001b[0m \u001b[32m━━━━━━━━━━━━━━━━━━━━\u001b[0m\u001b[37m\u001b[0m \u001b[1m3s\u001b[0m 10ms/step - accuracy: 0.6833 - loss: 0.7112 - val_accuracy: 0.6941 - val_loss: 0.6908\n",
            "Epoch 50/250\n",
            "\u001b[1m250/250\u001b[0m \u001b[32m━━━━━━━━━━━━━━━━━━━━\u001b[0m\u001b[37m\u001b[0m \u001b[1m4s\u001b[0m 15ms/step - accuracy: 0.6814 - loss: 0.7069 - val_accuracy: 0.6939 - val_loss: 0.6904\n",
            "Epoch 51/250\n",
            "\u001b[1m250/250\u001b[0m \u001b[32m━━━━━━━━━━━━━━━━━━━━\u001b[0m\u001b[37m\u001b[0m \u001b[1m4s\u001b[0m 10ms/step - accuracy: 0.6805 - loss: 0.7077 - val_accuracy: 0.6915 - val_loss: 0.6931\n",
            "Epoch 52/250\n",
            "\u001b[1m250/250\u001b[0m \u001b[32m━━━━━━━━━━━━━━━━━━━━\u001b[0m\u001b[37m\u001b[0m \u001b[1m2s\u001b[0m 10ms/step - accuracy: 0.6826 - loss: 0.7059 - val_accuracy: 0.6922 - val_loss: 0.6891\n",
            "Epoch 53/250\n",
            "\u001b[1m250/250\u001b[0m \u001b[32m━━━━━━━━━━━━━━━━━━━━\u001b[0m\u001b[37m\u001b[0m \u001b[1m3s\u001b[0m 9ms/step - accuracy: 0.6840 - loss: 0.7072 - val_accuracy: 0.6942 - val_loss: 0.6894\n",
            "Epoch 54/250\n",
            "\u001b[1m250/250\u001b[0m \u001b[32m━━━━━━━━━━━━━━━━━━━━\u001b[0m\u001b[37m\u001b[0m \u001b[1m4s\u001b[0m 14ms/step - accuracy: 0.6843 - loss: 0.7035 - val_accuracy: 0.6945 - val_loss: 0.6886\n",
            "Epoch 55/250\n",
            "\u001b[1m250/250\u001b[0m \u001b[32m━━━━━━━━━━━━━━━━━━━━\u001b[0m\u001b[37m\u001b[0m \u001b[1m3s\u001b[0m 10ms/step - accuracy: 0.6864 - loss: 0.7047 - val_accuracy: 0.6931 - val_loss: 0.6903\n",
            "Epoch 56/250\n",
            "\u001b[1m250/250\u001b[0m \u001b[32m━━━━━━━━━━━━━━━━━━━━\u001b[0m\u001b[37m\u001b[0m \u001b[1m3s\u001b[0m 10ms/step - accuracy: 0.6886 - loss: 0.7035 - val_accuracy: 0.6944 - val_loss: 0.6890\n",
            "Epoch 57/250\n",
            "\u001b[1m250/250\u001b[0m \u001b[32m━━━━━━━━━━━━━━━━━━━━\u001b[0m\u001b[37m\u001b[0m \u001b[1m2s\u001b[0m 9ms/step - accuracy: 0.6861 - loss: 0.7004 - val_accuracy: 0.6936 - val_loss: 0.6885\n",
            "Epoch 58/250\n",
            "\u001b[1m250/250\u001b[0m \u001b[32m━━━━━━━━━━━━━━━━━━━━\u001b[0m\u001b[37m\u001b[0m \u001b[1m3s\u001b[0m 10ms/step - accuracy: 0.6878 - loss: 0.7030 - val_accuracy: 0.6940 - val_loss: 0.6873\n",
            "Epoch 59/250\n",
            "\u001b[1m250/250\u001b[0m \u001b[32m━━━━━━━━━━━━━━━━━━━━\u001b[0m\u001b[37m\u001b[0m \u001b[1m4s\u001b[0m 15ms/step - accuracy: 0.6854 - loss: 0.7038 - val_accuracy: 0.6954 - val_loss: 0.6872\n",
            "Epoch 60/250\n",
            "\u001b[1m250/250\u001b[0m \u001b[32m━━━━━━━━━━━━━━━━━━━━\u001b[0m\u001b[37m\u001b[0m \u001b[1m3s\u001b[0m 10ms/step - accuracy: 0.6888 - loss: 0.7049 - val_accuracy: 0.6941 - val_loss: 0.6881\n",
            "Epoch 61/250\n",
            "\u001b[1m250/250\u001b[0m \u001b[32m━━━━━━━━━━━━━━━━━━━━\u001b[0m\u001b[37m\u001b[0m \u001b[1m3s\u001b[0m 10ms/step - accuracy: 0.6855 - loss: 0.7078 - val_accuracy: 0.6972 - val_loss: 0.6859\n",
            "Epoch 62/250\n",
            "\u001b[1m250/250\u001b[0m \u001b[32m━━━━━━━━━━━━━━━━━━━━\u001b[0m\u001b[37m\u001b[0m \u001b[1m3s\u001b[0m 10ms/step - accuracy: 0.6848 - loss: 0.7002 - val_accuracy: 0.6954 - val_loss: 0.6864\n",
            "Epoch 63/250\n",
            "\u001b[1m250/250\u001b[0m \u001b[32m━━━━━━━━━━━━━━━━━━━━\u001b[0m\u001b[37m\u001b[0m \u001b[1m3s\u001b[0m 12ms/step - accuracy: 0.6909 - loss: 0.6937 - val_accuracy: 0.6940 - val_loss: 0.6860\n",
            "Epoch 64/250\n",
            "\u001b[1m250/250\u001b[0m \u001b[32m━━━━━━━━━━━━━━━━━━━━\u001b[0m\u001b[37m\u001b[0m \u001b[1m5s\u001b[0m 10ms/step - accuracy: 0.6891 - loss: 0.6982 - val_accuracy: 0.6939 - val_loss: 0.6861\n",
            "Epoch 65/250\n",
            "\u001b[1m250/250\u001b[0m \u001b[32m━━━━━━━━━━━━━━━━━━━━\u001b[0m\u001b[37m\u001b[0m \u001b[1m5s\u001b[0m 10ms/step - accuracy: 0.6856 - loss: 0.7039 - val_accuracy: 0.6951 - val_loss: 0.6864\n",
            "Epoch 66/250\n",
            "\u001b[1m250/250\u001b[0m \u001b[32m━━━━━━━━━━━━━━━━━━━━\u001b[0m\u001b[37m\u001b[0m \u001b[1m4s\u001b[0m 15ms/step - accuracy: 0.6869 - loss: 0.7014 - val_accuracy: 0.6970 - val_loss: 0.6839\n",
            "Epoch 67/250\n",
            "\u001b[1m250/250\u001b[0m \u001b[32m━━━━━━━━━━━━━━━━━━━━\u001b[0m\u001b[37m\u001b[0m \u001b[1m3s\u001b[0m 10ms/step - accuracy: 0.6893 - loss: 0.6997 - val_accuracy: 0.6967 - val_loss: 0.6837\n",
            "Epoch 68/250\n",
            "\u001b[1m250/250\u001b[0m \u001b[32m━━━━━━━━━━━━━━━━━━━━\u001b[0m\u001b[37m\u001b[0m \u001b[1m5s\u001b[0m 10ms/step - accuracy: 0.6879 - loss: 0.6976 - val_accuracy: 0.6977 - val_loss: 0.6837\n",
            "Epoch 69/250\n",
            "\u001b[1m250/250\u001b[0m \u001b[32m━━━━━━━━━━━━━━━━━━━━\u001b[0m\u001b[37m\u001b[0m \u001b[1m3s\u001b[0m 11ms/step - accuracy: 0.6873 - loss: 0.6997 - val_accuracy: 0.6957 - val_loss: 0.6844\n",
            "Epoch 70/250\n",
            "\u001b[1m250/250\u001b[0m \u001b[32m━━━━━━━━━━━━━━━━━━━━\u001b[0m\u001b[37m\u001b[0m \u001b[1m3s\u001b[0m 14ms/step - accuracy: 0.6889 - loss: 0.6961 - val_accuracy: 0.6952 - val_loss: 0.6850\n",
            "Epoch 71/250\n",
            "\u001b[1m250/250\u001b[0m \u001b[32m━━━━━━━━━━━━━━━━━━━━\u001b[0m\u001b[37m\u001b[0m \u001b[1m4s\u001b[0m 10ms/step - accuracy: 0.6933 - loss: 0.6919 - val_accuracy: 0.6954 - val_loss: 0.6859\n",
            "Epoch 72/250\n",
            "\u001b[1m250/250\u001b[0m \u001b[32m━━━━━━━━━━━━━━━━━━━━\u001b[0m\u001b[37m\u001b[0m \u001b[1m5s\u001b[0m 11ms/step - accuracy: 0.6887 - loss: 0.6972 - val_accuracy: 0.6992 - val_loss: 0.6827\n",
            "Epoch 73/250\n",
            "\u001b[1m250/250\u001b[0m \u001b[32m━━━━━━━━━━━━━━━━━━━━\u001b[0m\u001b[37m\u001b[0m \u001b[1m4s\u001b[0m 14ms/step - accuracy: 0.6882 - loss: 0.6987 - val_accuracy: 0.6965 - val_loss: 0.6834\n",
            "Epoch 74/250\n",
            "\u001b[1m250/250\u001b[0m \u001b[32m━━━━━━━━━━━━━━━━━━━━\u001b[0m\u001b[37m\u001b[0m \u001b[1m4s\u001b[0m 10ms/step - accuracy: 0.6935 - loss: 0.6924 - val_accuracy: 0.6969 - val_loss: 0.6818\n",
            "Epoch 75/250\n",
            "\u001b[1m250/250\u001b[0m \u001b[32m━━━━━━━━━━━━━━━━━━━━\u001b[0m\u001b[37m\u001b[0m \u001b[1m2s\u001b[0m 10ms/step - accuracy: 0.6869 - loss: 0.7008 - val_accuracy: 0.7001 - val_loss: 0.6815\n",
            "Epoch 76/250\n",
            "\u001b[1m250/250\u001b[0m \u001b[32m━━━━━━━━━━━━━━━━━━━━\u001b[0m\u001b[37m\u001b[0m \u001b[1m3s\u001b[0m 10ms/step - accuracy: 0.6932 - loss: 0.6955 - val_accuracy: 0.6977 - val_loss: 0.6827\n",
            "Epoch 77/250\n",
            "\u001b[1m250/250\u001b[0m \u001b[32m━━━━━━━━━━━━━━━━━━━━\u001b[0m\u001b[37m\u001b[0m \u001b[1m4s\u001b[0m 14ms/step - accuracy: 0.6912 - loss: 0.6946 - val_accuracy: 0.6977 - val_loss: 0.6815\n",
            "Epoch 78/250\n",
            "\u001b[1m250/250\u001b[0m \u001b[32m━━━━━━━━━━━━━━━━━━━━\u001b[0m\u001b[37m\u001b[0m \u001b[1m4s\u001b[0m 10ms/step - accuracy: 0.6915 - loss: 0.6944 - val_accuracy: 0.6975 - val_loss: 0.6815\n",
            "Epoch 79/250\n",
            "\u001b[1m250/250\u001b[0m \u001b[32m━━━━━━━━━━━━━━━━━━━━\u001b[0m\u001b[37m\u001b[0m \u001b[1m3s\u001b[0m 10ms/step - accuracy: 0.6935 - loss: 0.6926 - val_accuracy: 0.6973 - val_loss: 0.6832\n",
            "Epoch 80/250\n",
            "\u001b[1m250/250\u001b[0m \u001b[32m━━━━━━━━━━━━━━━━━━━━\u001b[0m\u001b[37m\u001b[0m \u001b[1m3s\u001b[0m 10ms/step - accuracy: 0.6899 - loss: 0.6956 - val_accuracy: 0.6989 - val_loss: 0.6822\n",
            "Epoch 81/250\n",
            "\u001b[1m250/250\u001b[0m \u001b[32m━━━━━━━━━━━━━━━━━━━━\u001b[0m\u001b[37m\u001b[0m \u001b[1m4s\u001b[0m 14ms/step - accuracy: 0.6914 - loss: 0.6944 - val_accuracy: 0.6994 - val_loss: 0.6814\n",
            "Epoch 82/250\n",
            "\u001b[1m250/250\u001b[0m \u001b[32m━━━━━━━━━━━━━━━━━━━━\u001b[0m\u001b[37m\u001b[0m \u001b[1m3s\u001b[0m 10ms/step - accuracy: 0.6937 - loss: 0.6941 - val_accuracy: 0.6998 - val_loss: 0.6790\n",
            "Epoch 83/250\n",
            "\u001b[1m250/250\u001b[0m \u001b[32m━━━━━━━━━━━━━━━━━━━━\u001b[0m\u001b[37m\u001b[0m \u001b[1m3s\u001b[0m 10ms/step - accuracy: 0.6918 - loss: 0.6929 - val_accuracy: 0.6966 - val_loss: 0.6801\n",
            "Epoch 84/250\n",
            "\u001b[1m250/250\u001b[0m \u001b[32m━━━━━━━━━━━━━━━━━━━━\u001b[0m\u001b[37m\u001b[0m \u001b[1m6s\u001b[0m 13ms/step - accuracy: 0.6892 - loss: 0.6987 - val_accuracy: 0.6982 - val_loss: 0.6802\n",
            "Epoch 85/250\n",
            "\u001b[1m250/250\u001b[0m \u001b[32m━━━━━━━━━━━━━━━━━━━━\u001b[0m\u001b[37m\u001b[0m \u001b[1m4s\u001b[0m 10ms/step - accuracy: 0.6920 - loss: 0.6958 - val_accuracy: 0.6978 - val_loss: 0.6816\n",
            "Epoch 86/250\n",
            "\u001b[1m250/250\u001b[0m \u001b[32m━━━━━━━━━━━━━━━━━━━━\u001b[0m\u001b[37m\u001b[0m \u001b[1m3s\u001b[0m 10ms/step - accuracy: 0.6908 - loss: 0.6916 - val_accuracy: 0.7000 - val_loss: 0.6793\n",
            "Epoch 87/250\n",
            "\u001b[1m250/250\u001b[0m \u001b[32m━━━━━━━━━━━━━━━━━━━━\u001b[0m\u001b[37m\u001b[0m \u001b[1m3s\u001b[0m 10ms/step - accuracy: 0.6904 - loss: 0.6937 - val_accuracy: 0.6998 - val_loss: 0.6786\n",
            "Epoch 88/250\n",
            "\u001b[1m250/250\u001b[0m \u001b[32m━━━━━━━━━━━━━━━━━━━━\u001b[0m\u001b[37m\u001b[0m \u001b[1m4s\u001b[0m 15ms/step - accuracy: 0.6930 - loss: 0.6942 - val_accuracy: 0.6999 - val_loss: 0.6796\n",
            "Epoch 89/250\n",
            "\u001b[1m250/250\u001b[0m \u001b[32m━━━━━━━━━━━━━━━━━━━━\u001b[0m\u001b[37m\u001b[0m \u001b[1m3s\u001b[0m 10ms/step - accuracy: 0.6957 - loss: 0.6863 - val_accuracy: 0.7008 - val_loss: 0.6795\n",
            "Epoch 90/250\n",
            "\u001b[1m250/250\u001b[0m \u001b[32m━━━━━━━━━━━━━━━━━━━━\u001b[0m\u001b[37m\u001b[0m \u001b[1m3s\u001b[0m 10ms/step - accuracy: 0.6927 - loss: 0.6892 - val_accuracy: 0.6994 - val_loss: 0.6791\n",
            "Epoch 91/250\n",
            "\u001b[1m250/250\u001b[0m \u001b[32m━━━━━━━━━━━━━━━━━━━━\u001b[0m\u001b[37m\u001b[0m \u001b[1m2s\u001b[0m 10ms/step - accuracy: 0.6932 - loss: 0.6908 - val_accuracy: 0.6983 - val_loss: 0.6810\n",
            "Epoch 92/250\n",
            "\u001b[1m250/250\u001b[0m \u001b[32m━━━━━━━━━━━━━━━━━━━━\u001b[0m\u001b[37m\u001b[0m \u001b[1m3s\u001b[0m 11ms/step - accuracy: 0.6969 - loss: 0.6870 - val_accuracy: 0.6991 - val_loss: 0.6795\n",
            "Epoch 93/250\n",
            "\u001b[1m250/250\u001b[0m \u001b[32m━━━━━━━━━━━━━━━━━━━━\u001b[0m\u001b[37m\u001b[0m \u001b[1m4s\u001b[0m 15ms/step - accuracy: 0.6921 - loss: 0.6918 - val_accuracy: 0.6999 - val_loss: 0.6778\n",
            "Epoch 94/250\n",
            "\u001b[1m250/250\u001b[0m \u001b[32m━━━━━━━━━━━━━━━━━━━━\u001b[0m\u001b[37m\u001b[0m \u001b[1m2s\u001b[0m 10ms/step - accuracy: 0.6927 - loss: 0.6921 - val_accuracy: 0.7001 - val_loss: 0.6772\n",
            "Epoch 95/250\n",
            "\u001b[1m250/250\u001b[0m \u001b[32m━━━━━━━━━━━━━━━━━━━━\u001b[0m\u001b[37m\u001b[0m \u001b[1m3s\u001b[0m 10ms/step - accuracy: 0.6935 - loss: 0.6876 - val_accuracy: 0.6998 - val_loss: 0.6795\n",
            "Epoch 96/250\n",
            "\u001b[1m250/250\u001b[0m \u001b[32m━━━━━━━━━━━━━━━━━━━━\u001b[0m\u001b[37m\u001b[0m \u001b[1m3s\u001b[0m 11ms/step - accuracy: 0.6934 - loss: 0.6855 - val_accuracy: 0.6984 - val_loss: 0.6788\n",
            "Epoch 97/250\n",
            "\u001b[1m250/250\u001b[0m \u001b[32m━━━━━━━━━━━━━━━━━━━━\u001b[0m\u001b[37m\u001b[0m \u001b[1m3s\u001b[0m 14ms/step - accuracy: 0.6946 - loss: 0.6904 - val_accuracy: 0.6995 - val_loss: 0.6782\n",
            "Epoch 98/250\n",
            "\u001b[1m250/250\u001b[0m \u001b[32m━━━━━━━━━━━━━━━━━━━━\u001b[0m\u001b[37m\u001b[0m \u001b[1m4s\u001b[0m 10ms/step - accuracy: 0.6953 - loss: 0.6870 - val_accuracy: 0.6993 - val_loss: 0.6768\n",
            "Epoch 99/250\n",
            "\u001b[1m250/250\u001b[0m \u001b[32m━━━━━━━━━━━━━━━━━━━━\u001b[0m\u001b[37m\u001b[0m \u001b[1m5s\u001b[0m 11ms/step - accuracy: 0.6939 - loss: 0.6891 - val_accuracy: 0.7004 - val_loss: 0.6772\n",
            "Epoch 100/250\n",
            "\u001b[1m250/250\u001b[0m \u001b[32m━━━━━━━━━━━━━━━━━━━━\u001b[0m\u001b[37m\u001b[0m \u001b[1m4s\u001b[0m 14ms/step - accuracy: 0.6917 - loss: 0.6900 - val_accuracy: 0.6992 - val_loss: 0.6781\n",
            "Epoch 101/250\n",
            "\u001b[1m250/250\u001b[0m \u001b[32m━━━━━━━━━━━━━━━━━━━━\u001b[0m\u001b[37m\u001b[0m \u001b[1m4s\u001b[0m 10ms/step - accuracy: 0.6986 - loss: 0.6860 - val_accuracy: 0.6997 - val_loss: 0.6764\n",
            "Epoch 102/250\n",
            "\u001b[1m250/250\u001b[0m \u001b[32m━━━━━━━━━━━━━━━━━━━━\u001b[0m\u001b[37m\u001b[0m \u001b[1m3s\u001b[0m 10ms/step - accuracy: 0.6929 - loss: 0.6904 - val_accuracy: 0.6986 - val_loss: 0.6808\n",
            "Epoch 103/250\n",
            "\u001b[1m250/250\u001b[0m \u001b[32m━━━━━━━━━━━━━━━━━━━━\u001b[0m\u001b[37m\u001b[0m \u001b[1m3s\u001b[0m 11ms/step - accuracy: 0.6959 - loss: 0.6843 - val_accuracy: 0.6992 - val_loss: 0.6782\n",
            "Epoch 104/250\n",
            "\u001b[1m250/250\u001b[0m \u001b[32m━━━━━━━━━━━━━━━━━━━━\u001b[0m\u001b[37m\u001b[0m \u001b[1m4s\u001b[0m 16ms/step - accuracy: 0.6958 - loss: 0.6853 - val_accuracy: 0.6998 - val_loss: 0.6766\n",
            "Epoch 105/250\n",
            "\u001b[1m250/250\u001b[0m \u001b[32m━━━━━━━━━━━━━━━━━━━━\u001b[0m\u001b[37m\u001b[0m \u001b[1m2s\u001b[0m 10ms/step - accuracy: 0.6954 - loss: 0.6852 - val_accuracy: 0.7003 - val_loss: 0.6765\n",
            "Epoch 106/250\n",
            "\u001b[1m250/250\u001b[0m \u001b[32m━━━━━━━━━━━━━━━━━━━━\u001b[0m\u001b[37m\u001b[0m \u001b[1m3s\u001b[0m 10ms/step - accuracy: 0.6980 - loss: 0.6816 - val_accuracy: 0.6998 - val_loss: 0.6766\n",
            "Epoch 107/250\n",
            "\u001b[1m250/250\u001b[0m \u001b[32m━━━━━━━━━━━━━━━━━━━━\u001b[0m\u001b[37m\u001b[0m \u001b[1m3s\u001b[0m 10ms/step - accuracy: 0.6980 - loss: 0.6830 - val_accuracy: 0.6967 - val_loss: 0.6764\n",
            "Epoch 108/250\n",
            "\u001b[1m250/250\u001b[0m \u001b[32m━━━━━━━━━━━━━━━━━━━━\u001b[0m\u001b[37m\u001b[0m \u001b[1m3s\u001b[0m 11ms/step - accuracy: 0.6943 - loss: 0.6856 - val_accuracy: 0.7008 - val_loss: 0.6766\n",
            "Epoch 109/250\n",
            "\u001b[1m250/250\u001b[0m \u001b[32m━━━━━━━━━━━━━━━━━━━━\u001b[0m\u001b[37m\u001b[0m \u001b[1m5s\u001b[0m 10ms/step - accuracy: 0.6973 - loss: 0.6831 - val_accuracy: 0.7007 - val_loss: 0.6742\n",
            "Epoch 110/250\n",
            "\u001b[1m250/250\u001b[0m \u001b[32m━━━━━━━━━━━━━━━━━━━━\u001b[0m\u001b[37m\u001b[0m \u001b[1m3s\u001b[0m 11ms/step - accuracy: 0.6990 - loss: 0.6814 - val_accuracy: 0.7008 - val_loss: 0.6751\n",
            "Epoch 111/250\n",
            "\u001b[1m250/250\u001b[0m \u001b[32m━━━━━━━━━━━━━━━━━━━━\u001b[0m\u001b[37m\u001b[0m \u001b[1m3s\u001b[0m 10ms/step - accuracy: 0.6967 - loss: 0.6825 - val_accuracy: 0.7009 - val_loss: 0.6757\n",
            "Epoch 112/250\n",
            "\u001b[1m250/250\u001b[0m \u001b[32m━━━━━━━━━━━━━━━━━━━━\u001b[0m\u001b[37m\u001b[0m \u001b[1m3s\u001b[0m 13ms/step - accuracy: 0.6951 - loss: 0.6820 - val_accuracy: 0.7001 - val_loss: 0.6755\n",
            "Epoch 113/250\n",
            "\u001b[1m250/250\u001b[0m \u001b[32m━━━━━━━━━━━━━━━━━━━━\u001b[0m\u001b[37m\u001b[0m \u001b[1m3s\u001b[0m 12ms/step - accuracy: 0.6968 - loss: 0.6835 - val_accuracy: 0.7018 - val_loss: 0.6747\n",
            "Epoch 114/250\n",
            "\u001b[1m250/250\u001b[0m \u001b[32m━━━━━━━━━━━━━━━━━━━━\u001b[0m\u001b[37m\u001b[0m \u001b[1m5s\u001b[0m 10ms/step - accuracy: 0.6990 - loss: 0.6788 - val_accuracy: 0.7016 - val_loss: 0.6746\n",
            "Epoch 115/250\n",
            "\u001b[1m250/250\u001b[0m \u001b[32m━━━━━━━━━━━━━━━━━━━━\u001b[0m\u001b[37m\u001b[0m \u001b[1m6s\u001b[0m 16ms/step - accuracy: 0.6961 - loss: 0.6876 - val_accuracy: 0.7011 - val_loss: 0.6756\n",
            "Epoch 116/250\n",
            "\u001b[1m250/250\u001b[0m \u001b[32m━━━━━━━━━━━━━━━━━━━━\u001b[0m\u001b[37m\u001b[0m \u001b[1m4s\u001b[0m 10ms/step - accuracy: 0.6974 - loss: 0.6796 - val_accuracy: 0.7001 - val_loss: 0.6758\n",
            "Epoch 117/250\n",
            "\u001b[1m250/250\u001b[0m \u001b[32m━━━━━━━━━━━━━━━━━━━━\u001b[0m\u001b[37m\u001b[0m \u001b[1m2s\u001b[0m 10ms/step - accuracy: 0.6989 - loss: 0.6808 - val_accuracy: 0.7010 - val_loss: 0.6750\n",
            "Epoch 118/250\n",
            "\u001b[1m250/250\u001b[0m \u001b[32m━━━━━━━━━━━━━━━━━━━━\u001b[0m\u001b[37m\u001b[0m \u001b[1m3s\u001b[0m 10ms/step - accuracy: 0.6949 - loss: 0.6811 - val_accuracy: 0.7015 - val_loss: 0.6741\n",
            "Epoch 119/250\n",
            "\u001b[1m250/250\u001b[0m \u001b[32m━━━━━━━━━━━━━━━━━━━━\u001b[0m\u001b[37m\u001b[0m \u001b[1m4s\u001b[0m 15ms/step - accuracy: 0.6965 - loss: 0.6816 - val_accuracy: 0.7025 - val_loss: 0.6732\n",
            "Epoch 120/250\n",
            "\u001b[1m250/250\u001b[0m \u001b[32m━━━━━━━━━━━━━━━━━━━━\u001b[0m\u001b[37m\u001b[0m \u001b[1m4s\u001b[0m 11ms/step - accuracy: 0.6989 - loss: 0.6782 - val_accuracy: 0.7026 - val_loss: 0.6728\n",
            "Epoch 121/250\n",
            "\u001b[1m250/250\u001b[0m \u001b[32m━━━━━━━━━━━━━━━━━━━━\u001b[0m\u001b[37m\u001b[0m \u001b[1m3s\u001b[0m 11ms/step - accuracy: 0.6951 - loss: 0.6839 - val_accuracy: 0.7019 - val_loss: 0.6747\n",
            "Epoch 122/250\n",
            "\u001b[1m250/250\u001b[0m \u001b[32m━━━━━━━━━━━━━━━━━━━━\u001b[0m\u001b[37m\u001b[0m \u001b[1m6s\u001b[0m 14ms/step - accuracy: 0.6960 - loss: 0.6815 - val_accuracy: 0.7019 - val_loss: 0.6759\n",
            "Epoch 123/250\n",
            "\u001b[1m250/250\u001b[0m \u001b[32m━━━━━━━━━━━━━━━━━━━━\u001b[0m\u001b[37m\u001b[0m \u001b[1m4s\u001b[0m 10ms/step - accuracy: 0.6958 - loss: 0.6846 - val_accuracy: 0.7026 - val_loss: 0.6743\n",
            "Epoch 124/250\n",
            "\u001b[1m250/250\u001b[0m \u001b[32m━━━━━━━━━━━━━━━━━━━━\u001b[0m\u001b[37m\u001b[0m \u001b[1m3s\u001b[0m 10ms/step - accuracy: 0.6994 - loss: 0.6789 - val_accuracy: 0.7011 - val_loss: 0.6732\n",
            "Epoch 125/250\n",
            "\u001b[1m250/250\u001b[0m \u001b[32m━━━━━━━━━━━━━━━━━━━━\u001b[0m\u001b[37m\u001b[0m \u001b[1m3s\u001b[0m 10ms/step - accuracy: 0.7004 - loss: 0.6760 - val_accuracy: 0.7029 - val_loss: 0.6720\n",
            "Epoch 126/250\n",
            "\u001b[1m250/250\u001b[0m \u001b[32m━━━━━━━━━━━━━━━━━━━━\u001b[0m\u001b[37m\u001b[0m \u001b[1m4s\u001b[0m 15ms/step - accuracy: 0.6997 - loss: 0.6799 - val_accuracy: 0.7028 - val_loss: 0.6732\n",
            "Epoch 127/250\n",
            "\u001b[1m250/250\u001b[0m \u001b[32m━━━━━━━━━━━━━━━━━━━━\u001b[0m\u001b[37m\u001b[0m \u001b[1m3s\u001b[0m 10ms/step - accuracy: 0.6945 - loss: 0.6844 - val_accuracy: 0.7029 - val_loss: 0.6730\n",
            "Epoch 128/250\n",
            "\u001b[1m250/250\u001b[0m \u001b[32m━━━━━━━━━━━━━━━━━━━━\u001b[0m\u001b[37m\u001b[0m \u001b[1m3s\u001b[0m 10ms/step - accuracy: 0.6997 - loss: 0.6804 - val_accuracy: 0.7035 - val_loss: 0.6716\n",
            "Epoch 129/250\n",
            "\u001b[1m250/250\u001b[0m \u001b[32m━━━━━━━━━━━━━━━━━━━━\u001b[0m\u001b[37m\u001b[0m \u001b[1m3s\u001b[0m 10ms/step - accuracy: 0.7003 - loss: 0.6805 - val_accuracy: 0.7016 - val_loss: 0.6732\n",
            "Epoch 130/250\n",
            "\u001b[1m250/250\u001b[0m \u001b[32m━━━━━━━━━━━━━━━━━━━━\u001b[0m\u001b[37m\u001b[0m \u001b[1m3s\u001b[0m 11ms/step - accuracy: 0.6993 - loss: 0.6769 - val_accuracy: 0.7022 - val_loss: 0.6727\n",
            "Epoch 131/250\n",
            "\u001b[1m250/250\u001b[0m \u001b[32m━━━━━━━━━━━━━━━━━━━━\u001b[0m\u001b[37m\u001b[0m \u001b[1m5s\u001b[0m 10ms/step - accuracy: 0.6999 - loss: 0.6805 - val_accuracy: 0.7024 - val_loss: 0.6720\n",
            "Epoch 132/250\n",
            "\u001b[1m250/250\u001b[0m \u001b[32m━━━━━━━━━━━━━━━━━━━━\u001b[0m\u001b[37m\u001b[0m \u001b[1m3s\u001b[0m 10ms/step - accuracy: 0.7010 - loss: 0.6775 - val_accuracy: 0.7016 - val_loss: 0.6725\n",
            "Epoch 133/250\n",
            "\u001b[1m250/250\u001b[0m \u001b[32m━━━━━━━━━━━━━━━━━━━━\u001b[0m\u001b[37m\u001b[0m \u001b[1m6s\u001b[0m 13ms/step - accuracy: 0.6956 - loss: 0.6792 - val_accuracy: 0.7040 - val_loss: 0.6707\n",
            "Epoch 134/250\n",
            "\u001b[1m250/250\u001b[0m \u001b[32m━━━━━━━━━━━━━━━━━━━━\u001b[0m\u001b[37m\u001b[0m \u001b[1m3s\u001b[0m 12ms/step - accuracy: 0.7019 - loss: 0.6743 - val_accuracy: 0.7038 - val_loss: 0.6710\n",
            "Epoch 135/250\n",
            "\u001b[1m250/250\u001b[0m \u001b[32m━━━━━━━━━━━━━━━━━━━━\u001b[0m\u001b[37m\u001b[0m \u001b[1m3s\u001b[0m 10ms/step - accuracy: 0.7001 - loss: 0.6778 - val_accuracy: 0.7031 - val_loss: 0.6719\n",
            "Epoch 136/250\n",
            "\u001b[1m250/250\u001b[0m \u001b[32m━━━━━━━━━━━━━━━━━━━━\u001b[0m\u001b[37m\u001b[0m \u001b[1m5s\u001b[0m 10ms/step - accuracy: 0.6998 - loss: 0.6769 - val_accuracy: 0.7026 - val_loss: 0.6705\n",
            "Epoch 137/250\n",
            "\u001b[1m250/250\u001b[0m \u001b[32m━━━━━━━━━━━━━━━━━━━━\u001b[0m\u001b[37m\u001b[0m \u001b[1m4s\u001b[0m 15ms/step - accuracy: 0.7011 - loss: 0.6806 - val_accuracy: 0.7041 - val_loss: 0.6715\n",
            "Epoch 138/250\n",
            "\u001b[1m250/250\u001b[0m \u001b[32m━━━━━━━━━━━━━━━━━━━━\u001b[0m\u001b[37m\u001b[0m \u001b[1m3s\u001b[0m 10ms/step - accuracy: 0.6972 - loss: 0.6806 - val_accuracy: 0.7031 - val_loss: 0.6711\n",
            "Epoch 139/250\n",
            "\u001b[1m250/250\u001b[0m \u001b[32m━━━━━━━━━━━━━━━━━━━━\u001b[0m\u001b[37m\u001b[0m \u001b[1m5s\u001b[0m 11ms/step - accuracy: 0.7041 - loss: 0.6778 - val_accuracy: 0.7023 - val_loss: 0.6718\n",
            "Epoch 140/250\n",
            "\u001b[1m250/250\u001b[0m \u001b[32m━━━━━━━━━━━━━━━━━━━━\u001b[0m\u001b[37m\u001b[0m \u001b[1m3s\u001b[0m 12ms/step - accuracy: 0.6981 - loss: 0.6795 - val_accuracy: 0.7016 - val_loss: 0.6719\n",
            "Epoch 141/250\n",
            "\u001b[1m250/250\u001b[0m \u001b[32m━━━━━━━━━━━━━━━━━━━━\u001b[0m\u001b[37m\u001b[0m \u001b[1m3s\u001b[0m 13ms/step - accuracy: 0.7006 - loss: 0.6756 - val_accuracy: 0.7046 - val_loss: 0.6699\n",
            "Epoch 142/250\n",
            "\u001b[1m250/250\u001b[0m \u001b[32m━━━━━━━━━━━━━━━━━━━━\u001b[0m\u001b[37m\u001b[0m \u001b[1m4s\u001b[0m 10ms/step - accuracy: 0.7015 - loss: 0.6781 - val_accuracy: 0.7024 - val_loss: 0.6699\n",
            "Epoch 143/250\n",
            "\u001b[1m250/250\u001b[0m \u001b[32m━━━━━━━━━━━━━━━━━━━━\u001b[0m\u001b[37m\u001b[0m \u001b[1m5s\u001b[0m 12ms/step - accuracy: 0.7011 - loss: 0.6745 - val_accuracy: 0.7033 - val_loss: 0.6707\n",
            "Epoch 144/250\n",
            "\u001b[1m250/250\u001b[0m \u001b[32m━━━━━━━━━━━━━━━━━━━━\u001b[0m\u001b[37m\u001b[0m \u001b[1m5s\u001b[0m 10ms/step - accuracy: 0.6995 - loss: 0.6757 - val_accuracy: 0.7033 - val_loss: 0.6727\n",
            "Epoch 145/250\n",
            "\u001b[1m250/250\u001b[0m \u001b[32m━━━━━━━━━━━━━━━━━━━━\u001b[0m\u001b[37m\u001b[0m \u001b[1m3s\u001b[0m 11ms/step - accuracy: 0.6982 - loss: 0.6804 - val_accuracy: 0.7036 - val_loss: 0.6713\n",
            "Epoch 146/250\n",
            "\u001b[1m250/250\u001b[0m \u001b[32m━━━━━━━━━━━━━━━━━━━━\u001b[0m\u001b[37m\u001b[0m \u001b[1m3s\u001b[0m 10ms/step - accuracy: 0.7001 - loss: 0.6747 - val_accuracy: 0.7051 - val_loss: 0.6693\n",
            "Epoch 147/250\n",
            "\u001b[1m250/250\u001b[0m \u001b[32m━━━━━━━━━━━━━━━━━━━━\u001b[0m\u001b[37m\u001b[0m \u001b[1m5s\u001b[0m 10ms/step - accuracy: 0.6987 - loss: 0.6784 - val_accuracy: 0.7034 - val_loss: 0.6702\n",
            "Epoch 148/250\n",
            "\u001b[1m250/250\u001b[0m \u001b[32m━━━━━━━━━━━━━━━━━━━━\u001b[0m\u001b[37m\u001b[0m \u001b[1m5s\u001b[0m 11ms/step - accuracy: 0.7055 - loss: 0.6689 - val_accuracy: 0.7054 - val_loss: 0.6694\n",
            "Epoch 149/250\n",
            "\u001b[1m250/250\u001b[0m \u001b[32m━━━━━━━━━━━━━━━━━━━━\u001b[0m\u001b[37m\u001b[0m \u001b[1m3s\u001b[0m 12ms/step - accuracy: 0.7026 - loss: 0.6703 - val_accuracy: 0.7042 - val_loss: 0.6698\n",
            "Epoch 150/250\n",
            "\u001b[1m250/250\u001b[0m \u001b[32m━━━━━━━━━━━━━━━━━━━━\u001b[0m\u001b[37m\u001b[0m \u001b[1m5s\u001b[0m 10ms/step - accuracy: 0.6993 - loss: 0.6755 - val_accuracy: 0.7044 - val_loss: 0.6697\n",
            "Epoch 151/250\n",
            "\u001b[1m250/250\u001b[0m \u001b[32m━━━━━━━━━━━━━━━━━━━━\u001b[0m\u001b[37m\u001b[0m \u001b[1m3s\u001b[0m 11ms/step - accuracy: 0.7008 - loss: 0.6758 - val_accuracy: 0.7040 - val_loss: 0.6689\n",
            "Epoch 152/250\n",
            "\u001b[1m250/250\u001b[0m \u001b[32m━━━━━━━━━━━━━━━━━━━━\u001b[0m\u001b[37m\u001b[0m \u001b[1m3s\u001b[0m 10ms/step - accuracy: 0.7068 - loss: 0.6690 - val_accuracy: 0.7044 - val_loss: 0.6692\n",
            "Epoch 153/250\n",
            "\u001b[1m250/250\u001b[0m \u001b[32m━━━━━━━━━━━━━━━━━━━━\u001b[0m\u001b[37m\u001b[0m \u001b[1m5s\u001b[0m 11ms/step - accuracy: 0.6983 - loss: 0.6777 - val_accuracy: 0.7035 - val_loss: 0.6698\n",
            "Epoch 154/250\n",
            "\u001b[1m250/250\u001b[0m \u001b[32m━━━━━━━━━━━━━━━━━━━━\u001b[0m\u001b[37m\u001b[0m \u001b[1m5s\u001b[0m 10ms/step - accuracy: 0.7043 - loss: 0.6704 - val_accuracy: 0.7031 - val_loss: 0.6694\n",
            "Epoch 155/250\n",
            "\u001b[1m250/250\u001b[0m \u001b[32m━━━━━━━━━━━━━━━━━━━━\u001b[0m\u001b[37m\u001b[0m \u001b[1m6s\u001b[0m 16ms/step - accuracy: 0.7015 - loss: 0.6691 - val_accuracy: 0.7043 - val_loss: 0.6684\n",
            "Epoch 156/250\n",
            "\u001b[1m250/250\u001b[0m \u001b[32m━━━━━━━━━━━━━━━━━━━━\u001b[0m\u001b[37m\u001b[0m \u001b[1m4s\u001b[0m 10ms/step - accuracy: 0.7050 - loss: 0.6716 - val_accuracy: 0.7041 - val_loss: 0.6707\n",
            "Epoch 157/250\n",
            "\u001b[1m250/250\u001b[0m \u001b[32m━━━━━━━━━━━━━━━━━━━━\u001b[0m\u001b[37m\u001b[0m \u001b[1m3s\u001b[0m 11ms/step - accuracy: 0.7033 - loss: 0.6737 - val_accuracy: 0.7038 - val_loss: 0.6690\n",
            "Epoch 158/250\n",
            "\u001b[1m250/250\u001b[0m \u001b[32m━━━━━━━━━━━━━━━━━━━━\u001b[0m\u001b[37m\u001b[0m \u001b[1m3s\u001b[0m 11ms/step - accuracy: 0.7013 - loss: 0.6733 - val_accuracy: 0.7042 - val_loss: 0.6700\n",
            "Epoch 159/250\n",
            "\u001b[1m250/250\u001b[0m \u001b[32m━━━━━━━━━━━━━━━━━━━━\u001b[0m\u001b[37m\u001b[0m \u001b[1m4s\u001b[0m 15ms/step - accuracy: 0.7041 - loss: 0.6687 - val_accuracy: 0.7031 - val_loss: 0.6689\n",
            "Epoch 160/250\n",
            "\u001b[1m250/250\u001b[0m \u001b[32m━━━━━━━━━━━━━━━━━━━━\u001b[0m\u001b[37m\u001b[0m \u001b[1m4s\u001b[0m 11ms/step - accuracy: 0.7020 - loss: 0.6728 - val_accuracy: 0.7031 - val_loss: 0.6690\n",
            "Epoch 161/250\n",
            "\u001b[1m250/250\u001b[0m \u001b[32m━━━━━━━━━━━━━━━━━━━━\u001b[0m\u001b[37m\u001b[0m \u001b[1m5s\u001b[0m 11ms/step - accuracy: 0.7043 - loss: 0.6674 - val_accuracy: 0.7038 - val_loss: 0.6696\n",
            "Epoch 162/250\n",
            "\u001b[1m250/250\u001b[0m \u001b[32m━━━━━━━━━━━━━━━━━━━━\u001b[0m\u001b[37m\u001b[0m \u001b[1m4s\u001b[0m 15ms/step - accuracy: 0.7041 - loss: 0.6716 - val_accuracy: 0.7049 - val_loss: 0.6696\n",
            "Epoch 163/250\n",
            "\u001b[1m250/250\u001b[0m \u001b[32m━━━━━━━━━━━━━━━━━━━━\u001b[0m\u001b[37m\u001b[0m \u001b[1m3s\u001b[0m 11ms/step - accuracy: 0.7046 - loss: 0.6693 - val_accuracy: 0.7052 - val_loss: 0.6684\n",
            "Epoch 164/250\n",
            "\u001b[1m250/250\u001b[0m \u001b[32m━━━━━━━━━━━━━━━━━━━━\u001b[0m\u001b[37m\u001b[0m \u001b[1m5s\u001b[0m 10ms/step - accuracy: 0.7043 - loss: 0.6683 - val_accuracy: 0.7060 - val_loss: 0.6692\n",
            "Epoch 165/250\n",
            "\u001b[1m250/250\u001b[0m \u001b[32m━━━━━━━━━━━━━━━━━━━━\u001b[0m\u001b[37m\u001b[0m \u001b[1m6s\u001b[0m 12ms/step - accuracy: 0.7031 - loss: 0.6689 - val_accuracy: 0.7061 - val_loss: 0.6688\n",
            "Epoch 166/250\n",
            "\u001b[1m250/250\u001b[0m \u001b[32m━━━━━━━━━━━━━━━━━━━━\u001b[0m\u001b[37m\u001b[0m \u001b[1m3s\u001b[0m 10ms/step - accuracy: 0.7040 - loss: 0.6715 - val_accuracy: 0.7036 - val_loss: 0.6699\n",
            "Epoch 167/250\n",
            "\u001b[1m250/250\u001b[0m \u001b[32m━━━━━━━━━━━━━━━━━━━━\u001b[0m\u001b[37m\u001b[0m \u001b[1m5s\u001b[0m 11ms/step - accuracy: 0.7037 - loss: 0.6703 - val_accuracy: 0.7046 - val_loss: 0.6690\n",
            "Epoch 168/250\n",
            "\u001b[1m250/250\u001b[0m \u001b[32m━━━━━━━━━━━━━━━━━━━━\u001b[0m\u001b[37m\u001b[0m \u001b[1m5s\u001b[0m 10ms/step - accuracy: 0.7030 - loss: 0.6688 - val_accuracy: 0.7045 - val_loss: 0.6683\n",
            "Epoch 169/250\n",
            "\u001b[1m250/250\u001b[0m \u001b[32m━━━━━━━━━━━━━━━━━━━━\u001b[0m\u001b[37m\u001b[0m \u001b[1m5s\u001b[0m 10ms/step - accuracy: 0.7045 - loss: 0.6679 - val_accuracy: 0.7053 - val_loss: 0.6682\n",
            "Epoch 170/250\n",
            "\u001b[1m250/250\u001b[0m \u001b[32m━━━━━━━━━━━━━━━━━━━━\u001b[0m\u001b[37m\u001b[0m \u001b[1m5s\u001b[0m 11ms/step - accuracy: 0.7024 - loss: 0.6681 - val_accuracy: 0.7053 - val_loss: 0.6683\n",
            "Epoch 171/250\n",
            "\u001b[1m250/250\u001b[0m \u001b[32m━━━━━━━━━━━━━━━━━━━━\u001b[0m\u001b[37m\u001b[0m \u001b[1m5s\u001b[0m 10ms/step - accuracy: 0.7020 - loss: 0.6703 - val_accuracy: 0.7053 - val_loss: 0.6685\n",
            "Epoch 172/250\n",
            "\u001b[1m250/250\u001b[0m \u001b[32m━━━━━━━━━━━━━━━━━━━━\u001b[0m\u001b[37m\u001b[0m \u001b[1m6s\u001b[0m 15ms/step - accuracy: 0.7045 - loss: 0.6702 - val_accuracy: 0.7032 - val_loss: 0.6695\n",
            "Epoch 173/250\n",
            "\u001b[1m250/250\u001b[0m \u001b[32m━━━━━━━━━━━━━━━━━━━━\u001b[0m\u001b[37m\u001b[0m \u001b[1m4s\u001b[0m 10ms/step - accuracy: 0.7016 - loss: 0.6718 - val_accuracy: 0.7061 - val_loss: 0.6679\n",
            "Epoch 174/250\n",
            "\u001b[1m250/250\u001b[0m \u001b[32m━━━━━━━━━━━━━━━━━━━━\u001b[0m\u001b[37m\u001b[0m \u001b[1m5s\u001b[0m 11ms/step - accuracy: 0.7039 - loss: 0.6688 - val_accuracy: 0.7074 - val_loss: 0.6672\n",
            "Epoch 175/250\n",
            "\u001b[1m250/250\u001b[0m \u001b[32m━━━━━━━━━━━━━━━━━━━━\u001b[0m\u001b[37m\u001b[0m \u001b[1m4s\u001b[0m 16ms/step - accuracy: 0.7062 - loss: 0.6648 - val_accuracy: 0.7054 - val_loss: 0.6675\n",
            "Epoch 176/250\n",
            "\u001b[1m250/250\u001b[0m \u001b[32m━━━━━━━━━━━━━━━━━━━━\u001b[0m\u001b[37m\u001b[0m \u001b[1m3s\u001b[0m 11ms/step - accuracy: 0.7021 - loss: 0.6726 - val_accuracy: 0.7061 - val_loss: 0.6673\n",
            "Epoch 177/250\n",
            "\u001b[1m250/250\u001b[0m \u001b[32m━━━━━━━━━━━━━━━━━━━━\u001b[0m\u001b[37m\u001b[0m \u001b[1m3s\u001b[0m 11ms/step - accuracy: 0.7012 - loss: 0.6682 - val_accuracy: 0.7036 - val_loss: 0.6681\n",
            "Epoch 178/250\n",
            "\u001b[1m250/250\u001b[0m \u001b[32m━━━━━━━━━━━━━━━━━━━━\u001b[0m\u001b[37m\u001b[0m \u001b[1m5s\u001b[0m 12ms/step - accuracy: 0.7053 - loss: 0.6671 - val_accuracy: 0.7036 - val_loss: 0.6693\n",
            "Epoch 179/250\n",
            "\u001b[1m250/250\u001b[0m \u001b[32m━━━━━━━━━━━━━━━━━━━━\u001b[0m\u001b[37m\u001b[0m \u001b[1m5s\u001b[0m 11ms/step - accuracy: 0.7072 - loss: 0.6647 - val_accuracy: 0.7053 - val_loss: 0.6675\n",
            "Epoch 180/250\n",
            "\u001b[1m250/250\u001b[0m \u001b[32m━━━━━━━━━━━━━━━━━━━━\u001b[0m\u001b[37m\u001b[0m \u001b[1m3s\u001b[0m 10ms/step - accuracy: 0.7041 - loss: 0.6650 - val_accuracy: 0.7053 - val_loss: 0.6668\n",
            "Epoch 181/250\n",
            "\u001b[1m250/250\u001b[0m \u001b[32m━━━━━━━━━━━━━━━━━━━━\u001b[0m\u001b[37m\u001b[0m \u001b[1m3s\u001b[0m 10ms/step - accuracy: 0.7068 - loss: 0.6639 - val_accuracy: 0.7063 - val_loss: 0.6685\n",
            "Epoch 182/250\n",
            "\u001b[1m250/250\u001b[0m \u001b[32m━━━━━━━━━━━━━━━━━━━━\u001b[0m\u001b[37m\u001b[0m \u001b[1m4s\u001b[0m 14ms/step - accuracy: 0.7038 - loss: 0.6664 - val_accuracy: 0.7053 - val_loss: 0.6685\n",
            "Epoch 183/250\n",
            "\u001b[1m250/250\u001b[0m \u001b[32m━━━━━━━━━━━━━━━━━━━━\u001b[0m\u001b[37m\u001b[0m \u001b[1m3s\u001b[0m 11ms/step - accuracy: 0.7034 - loss: 0.6694 - val_accuracy: 0.7055 - val_loss: 0.6692\n",
            "Epoch 184/250\n",
            "\u001b[1m250/250\u001b[0m \u001b[32m━━━━━━━━━━━━━━━━━━━━\u001b[0m\u001b[37m\u001b[0m \u001b[1m5s\u001b[0m 10ms/step - accuracy: 0.7082 - loss: 0.6590 - val_accuracy: 0.7061 - val_loss: 0.6689\n",
            "Epoch 185/250\n",
            "\u001b[1m250/250\u001b[0m \u001b[32m━━━━━━━━━━━━━━━━━━━━\u001b[0m\u001b[37m\u001b[0m \u001b[1m6s\u001b[0m 15ms/step - accuracy: 0.7065 - loss: 0.6643 - val_accuracy: 0.7056 - val_loss: 0.6682\n",
            "Epoch 186/250\n",
            "\u001b[1m250/250\u001b[0m \u001b[32m━━━━━━━━━━━━━━━━━━━━\u001b[0m\u001b[37m\u001b[0m \u001b[1m3s\u001b[0m 10ms/step - accuracy: 0.7061 - loss: 0.6684 - val_accuracy: 0.7054 - val_loss: 0.6671\n",
            "Epoch 187/250\n",
            "\u001b[1m250/250\u001b[0m \u001b[32m━━━━━━━━━━━━━━━━━━━━\u001b[0m\u001b[37m\u001b[0m \u001b[1m3s\u001b[0m 10ms/step - accuracy: 0.7033 - loss: 0.6696 - val_accuracy: 0.7057 - val_loss: 0.6676\n",
            "Epoch 188/250\n",
            "\u001b[1m250/250\u001b[0m \u001b[32m━━━━━━━━━━━━━━━━━━━━\u001b[0m\u001b[37m\u001b[0m \u001b[1m5s\u001b[0m 12ms/step - accuracy: 0.7061 - loss: 0.6627 - val_accuracy: 0.7071 - val_loss: 0.6676\n",
            "Epoch 189/250\n",
            "\u001b[1m250/250\u001b[0m \u001b[32m━━━━━━━━━━━━━━━━━━━━\u001b[0m\u001b[37m\u001b[0m \u001b[1m5s\u001b[0m 10ms/step - accuracy: 0.7044 - loss: 0.6665 - val_accuracy: 0.7056 - val_loss: 0.6683\n",
            "Epoch 190/250\n",
            "\u001b[1m250/250\u001b[0m \u001b[32m━━━━━━━━━━━━━━━━━━━━\u001b[0m\u001b[37m\u001b[0m \u001b[1m3s\u001b[0m 11ms/step - accuracy: 0.7066 - loss: 0.6601 - val_accuracy: 0.7059 - val_loss: 0.6678\n",
            "Epoch 191/250\n",
            "\u001b[1m250/250\u001b[0m \u001b[32m━━━━━━━━━━━━━━━━━━━━\u001b[0m\u001b[37m\u001b[0m \u001b[1m6s\u001b[0m 13ms/step - accuracy: 0.7047 - loss: 0.6650 - val_accuracy: 0.7069 - val_loss: 0.6672\n",
            "Epoch 192/250\n",
            "\u001b[1m250/250\u001b[0m \u001b[32m━━━━━━━━━━━━━━━━━━━━\u001b[0m\u001b[37m\u001b[0m \u001b[1m4s\u001b[0m 11ms/step - accuracy: 0.7051 - loss: 0.6643 - val_accuracy: 0.7053 - val_loss: 0.6702\n",
            "Epoch 193/250\n",
            "\u001b[1m250/250\u001b[0m \u001b[32m━━━━━━━━━━━━━━━━━━━━\u001b[0m\u001b[37m\u001b[0m \u001b[1m3s\u001b[0m 10ms/step - accuracy: 0.7043 - loss: 0.6645 - val_accuracy: 0.7048 - val_loss: 0.6681\n",
            "Epoch 194/250\n",
            "\u001b[1m250/250\u001b[0m \u001b[32m━━━━━━━━━━━━━━━━━━━━\u001b[0m\u001b[37m\u001b[0m \u001b[1m6s\u001b[0m 15ms/step - accuracy: 0.7052 - loss: 0.6624 - val_accuracy: 0.7066 - val_loss: 0.6674\n",
            "Epoch 195/250\n",
            "\u001b[1m250/250\u001b[0m \u001b[32m━━━━━━━━━━━━━━━━━━━━\u001b[0m\u001b[37m\u001b[0m \u001b[1m3s\u001b[0m 11ms/step - accuracy: 0.7090 - loss: 0.6619 - val_accuracy: 0.7069 - val_loss: 0.6671\n",
            "Epoch 196/250\n",
            "\u001b[1m250/250\u001b[0m \u001b[32m━━━━━━━━━━━━━━━━━━━━\u001b[0m\u001b[37m\u001b[0m \u001b[1m3s\u001b[0m 11ms/step - accuracy: 0.7060 - loss: 0.6634 - val_accuracy: 0.7059 - val_loss: 0.6661\n",
            "Epoch 197/250\n",
            "\u001b[1m250/250\u001b[0m \u001b[32m━━━━━━━━━━━━━━━━━━━━\u001b[0m\u001b[37m\u001b[0m \u001b[1m5s\u001b[0m 11ms/step - accuracy: 0.7060 - loss: 0.6594 - val_accuracy: 0.7072 - val_loss: 0.6667\n",
            "Epoch 198/250\n",
            "\u001b[1m250/250\u001b[0m \u001b[32m━━━━━━━━━━━━━━━━━━━━\u001b[0m\u001b[37m\u001b[0m \u001b[1m5s\u001b[0m 11ms/step - accuracy: 0.7034 - loss: 0.6641 - val_accuracy: 0.7059 - val_loss: 0.6657\n",
            "Epoch 199/250\n",
            "\u001b[1m250/250\u001b[0m \u001b[32m━━━━━━━━━━━━━━━━━━━━\u001b[0m\u001b[37m\u001b[0m \u001b[1m5s\u001b[0m 11ms/step - accuracy: 0.7072 - loss: 0.6624 - val_accuracy: 0.7071 - val_loss: 0.6663\n",
            "Epoch 200/250\n",
            "\u001b[1m250/250\u001b[0m \u001b[32m━━━━━━━━━━━━━━━━━━━━\u001b[0m\u001b[37m\u001b[0m \u001b[1m5s\u001b[0m 12ms/step - accuracy: 0.7014 - loss: 0.6636 - val_accuracy: 0.7057 - val_loss: 0.6667\n",
            "Epoch 201/250\n",
            "\u001b[1m250/250\u001b[0m \u001b[32m━━━━━━━━━━━━━━━━━━━━\u001b[0m\u001b[37m\u001b[0m \u001b[1m5s\u001b[0m 11ms/step - accuracy: 0.7067 - loss: 0.6607 - val_accuracy: 0.7074 - val_loss: 0.6659\n",
            "Epoch 202/250\n",
            "\u001b[1m250/250\u001b[0m \u001b[32m━━━━━━━━━━━━━━━━━━━━\u001b[0m\u001b[37m\u001b[0m \u001b[1m3s\u001b[0m 11ms/step - accuracy: 0.7042 - loss: 0.6626 - val_accuracy: 0.7080 - val_loss: 0.6666\n",
            "Epoch 203/250\n",
            "\u001b[1m250/250\u001b[0m \u001b[32m━━━━━━━━━━━━━━━━━━━━\u001b[0m\u001b[37m\u001b[0m \u001b[1m5s\u001b[0m 11ms/step - accuracy: 0.7105 - loss: 0.6561 - val_accuracy: 0.7071 - val_loss: 0.6657\n",
            "Epoch 204/250\n",
            "\u001b[1m250/250\u001b[0m \u001b[32m━━━━━━━━━━━━━━━━━━━━\u001b[0m\u001b[37m\u001b[0m \u001b[1m3s\u001b[0m 11ms/step - accuracy: 0.7028 - loss: 0.6659 - val_accuracy: 0.7064 - val_loss: 0.6656\n",
            "Epoch 205/250\n",
            "\u001b[1m250/250\u001b[0m \u001b[32m━━━━━━━━━━━━━━━━━━━━\u001b[0m\u001b[37m\u001b[0m \u001b[1m6s\u001b[0m 15ms/step - accuracy: 0.7068 - loss: 0.6598 - val_accuracy: 0.7078 - val_loss: 0.6662\n",
            "Epoch 206/250\n",
            "\u001b[1m250/250\u001b[0m \u001b[32m━━━━━━━━━━━━━━━━━━━━\u001b[0m\u001b[37m\u001b[0m \u001b[1m4s\u001b[0m 11ms/step - accuracy: 0.7049 - loss: 0.6599 - val_accuracy: 0.7060 - val_loss: 0.6671\n",
            "Epoch 207/250\n",
            "\u001b[1m250/250\u001b[0m \u001b[32m━━━━━━━━━━━━━━━━━━━━\u001b[0m\u001b[37m\u001b[0m \u001b[1m5s\u001b[0m 11ms/step - accuracy: 0.7031 - loss: 0.6646 - val_accuracy: 0.7070 - val_loss: 0.6649\n",
            "Epoch 208/250\n",
            "\u001b[1m250/250\u001b[0m \u001b[32m━━━━━━━━━━━━━━━━━━━━\u001b[0m\u001b[37m\u001b[0m \u001b[1m5s\u001b[0m 11ms/step - accuracy: 0.7083 - loss: 0.6604 - val_accuracy: 0.7076 - val_loss: 0.6655\n",
            "Epoch 209/250\n",
            "\u001b[1m250/250\u001b[0m \u001b[32m━━━━━━━━━━━━━━━━━━━━\u001b[0m\u001b[37m\u001b[0m \u001b[1m3s\u001b[0m 11ms/step - accuracy: 0.7098 - loss: 0.6583 - val_accuracy: 0.7078 - val_loss: 0.6650\n",
            "Epoch 210/250\n",
            "\u001b[1m250/250\u001b[0m \u001b[32m━━━━━━━━━━━━━━━━━━━━\u001b[0m\u001b[37m\u001b[0m \u001b[1m3s\u001b[0m 11ms/step - accuracy: 0.7078 - loss: 0.6571 - val_accuracy: 0.7091 - val_loss: 0.6646\n",
            "Epoch 211/250\n",
            "\u001b[1m250/250\u001b[0m \u001b[32m━━━━━━━━━━━━━━━━━━━━\u001b[0m\u001b[37m\u001b[0m \u001b[1m3s\u001b[0m 12ms/step - accuracy: 0.7073 - loss: 0.6592 - val_accuracy: 0.7079 - val_loss: 0.6665\n",
            "Epoch 212/250\n",
            "\u001b[1m250/250\u001b[0m \u001b[32m━━━━━━━━━━━━━━━━━━━━\u001b[0m\u001b[37m\u001b[0m \u001b[1m5s\u001b[0m 11ms/step - accuracy: 0.7085 - loss: 0.6570 - val_accuracy: 0.7084 - val_loss: 0.6655\n",
            "Epoch 213/250\n",
            "\u001b[1m250/250\u001b[0m \u001b[32m━━━━━━━━━━━━━━━━━━━━\u001b[0m\u001b[37m\u001b[0m \u001b[1m5s\u001b[0m 10ms/step - accuracy: 0.7062 - loss: 0.6620 - val_accuracy: 0.7079 - val_loss: 0.6668\n",
            "Epoch 214/250\n",
            "\u001b[1m250/250\u001b[0m \u001b[32m━━━━━━━━━━━━━━━━━━━━\u001b[0m\u001b[37m\u001b[0m \u001b[1m3s\u001b[0m 14ms/step - accuracy: 0.7072 - loss: 0.6567 - val_accuracy: 0.7081 - val_loss: 0.6639\n",
            "Epoch 215/250\n",
            "\u001b[1m250/250\u001b[0m \u001b[32m━━━━━━━━━━━━━━━━━━━━\u001b[0m\u001b[37m\u001b[0m \u001b[1m4s\u001b[0m 11ms/step - accuracy: 0.7076 - loss: 0.6579 - val_accuracy: 0.7083 - val_loss: 0.6660\n",
            "Epoch 216/250\n",
            "\u001b[1m250/250\u001b[0m \u001b[32m━━━━━━━━━━━━━━━━━━━━\u001b[0m\u001b[37m\u001b[0m \u001b[1m5s\u001b[0m 11ms/step - accuracy: 0.7068 - loss: 0.6621 - val_accuracy: 0.7084 - val_loss: 0.6643\n",
            "Epoch 217/250\n",
            "\u001b[1m250/250\u001b[0m \u001b[32m━━━━━━━━━━━━━━━━━━━━\u001b[0m\u001b[37m\u001b[0m \u001b[1m5s\u001b[0m 11ms/step - accuracy: 0.7055 - loss: 0.6582 - val_accuracy: 0.7085 - val_loss: 0.6642\n",
            "Epoch 218/250\n",
            "\u001b[1m250/250\u001b[0m \u001b[32m━━━━━━━━━━━━━━━━━━━━\u001b[0m\u001b[37m\u001b[0m \u001b[1m5s\u001b[0m 11ms/step - accuracy: 0.7066 - loss: 0.6593 - val_accuracy: 0.7091 - val_loss: 0.6644\n",
            "Epoch 219/250\n",
            "\u001b[1m250/250\u001b[0m \u001b[32m━━━━━━━━━━━━━━━━━━━━\u001b[0m\u001b[37m\u001b[0m \u001b[1m3s\u001b[0m 11ms/step - accuracy: 0.7088 - loss: 0.6566 - val_accuracy: 0.7073 - val_loss: 0.6667\n",
            "Epoch 220/250\n",
            "\u001b[1m250/250\u001b[0m \u001b[32m━━━━━━━━━━━━━━━━━━━━\u001b[0m\u001b[37m\u001b[0m \u001b[1m5s\u001b[0m 11ms/step - accuracy: 0.7076 - loss: 0.6522 - val_accuracy: 0.7081 - val_loss: 0.6645\n",
            "Epoch 221/250\n",
            "\u001b[1m250/250\u001b[0m \u001b[32m━━━━━━━━━━━━━━━━━━━━\u001b[0m\u001b[37m\u001b[0m \u001b[1m5s\u001b[0m 11ms/step - accuracy: 0.7103 - loss: 0.6555 - val_accuracy: 0.7067 - val_loss: 0.6664\n",
            "Epoch 222/250\n",
            "\u001b[1m250/250\u001b[0m \u001b[32m━━━━━━━━━━━━━━━━━━━━\u001b[0m\u001b[37m\u001b[0m \u001b[1m6s\u001b[0m 12ms/step - accuracy: 0.7061 - loss: 0.6574 - val_accuracy: 0.7097 - val_loss: 0.6640\n",
            "Epoch 223/250\n",
            "\u001b[1m250/250\u001b[0m \u001b[32m━━━━━━━━━━━━━━━━━━━━\u001b[0m\u001b[37m\u001b[0m \u001b[1m3s\u001b[0m 10ms/step - accuracy: 0.7131 - loss: 0.6495 - val_accuracy: 0.7069 - val_loss: 0.6650\n",
            "Epoch 224/250\n",
            "\u001b[1m250/250\u001b[0m \u001b[32m━━━━━━━━━━━━━━━━━━━━\u001b[0m\u001b[37m\u001b[0m \u001b[1m3s\u001b[0m 10ms/step - accuracy: 0.7090 - loss: 0.6526 - val_accuracy: 0.7089 - val_loss: 0.6649\n",
            "Epoch 225/250\n",
            "\u001b[1m250/250\u001b[0m \u001b[32m━━━━━━━━━━━━━━━━━━━━\u001b[0m\u001b[37m\u001b[0m \u001b[1m6s\u001b[0m 15ms/step - accuracy: 0.7121 - loss: 0.6515 - val_accuracy: 0.7097 - val_loss: 0.6644\n",
            "Epoch 226/250\n",
            "\u001b[1m250/250\u001b[0m \u001b[32m━━━━━━━━━━━━━━━━━━━━\u001b[0m\u001b[37m\u001b[0m \u001b[1m4s\u001b[0m 10ms/step - accuracy: 0.7039 - loss: 0.6613 - val_accuracy: 0.7085 - val_loss: 0.6649\n",
            "Epoch 227/250\n",
            "\u001b[1m250/250\u001b[0m \u001b[32m━━━━━━━━━━━━━━━━━━━━\u001b[0m\u001b[37m\u001b[0m \u001b[1m3s\u001b[0m 11ms/step - accuracy: 0.7086 - loss: 0.6588 - val_accuracy: 0.7092 - val_loss: 0.6641\n",
            "Epoch 228/250\n",
            "\u001b[1m250/250\u001b[0m \u001b[32m━━━━━━━━━━━━━━━━━━━━\u001b[0m\u001b[37m\u001b[0m \u001b[1m6s\u001b[0m 16ms/step - accuracy: 0.7092 - loss: 0.6548 - val_accuracy: 0.7085 - val_loss: 0.6647\n",
            "Epoch 229/250\n",
            "\u001b[1m250/250\u001b[0m \u001b[32m━━━━━━━━━━━━━━━━━━━━\u001b[0m\u001b[37m\u001b[0m \u001b[1m4s\u001b[0m 11ms/step - accuracy: 0.7066 - loss: 0.6560 - val_accuracy: 0.7094 - val_loss: 0.6634\n",
            "Epoch 230/250\n",
            "\u001b[1m250/250\u001b[0m \u001b[32m━━━━━━━━━━━━━━━━━━━━\u001b[0m\u001b[37m\u001b[0m \u001b[1m5s\u001b[0m 11ms/step - accuracy: 0.7069 - loss: 0.6592 - val_accuracy: 0.7079 - val_loss: 0.6655\n",
            "Epoch 231/250\n",
            "\u001b[1m250/250\u001b[0m \u001b[32m━━━━━━━━━━━━━━━━━━━━\u001b[0m\u001b[37m\u001b[0m \u001b[1m5s\u001b[0m 11ms/step - accuracy: 0.7116 - loss: 0.6557 - val_accuracy: 0.7065 - val_loss: 0.6655\n",
            "Epoch 232/250\n",
            "\u001b[1m250/250\u001b[0m \u001b[32m━━━━━━━━━━━━━━━━━━━━\u001b[0m\u001b[37m\u001b[0m \u001b[1m3s\u001b[0m 11ms/step - accuracy: 0.7135 - loss: 0.6524 - val_accuracy: 0.7084 - val_loss: 0.6646\n",
            "Epoch 233/250\n",
            "\u001b[1m250/250\u001b[0m \u001b[32m━━━━━━━━━━━━━━━━━━━━\u001b[0m\u001b[37m\u001b[0m \u001b[1m3s\u001b[0m 11ms/step - accuracy: 0.7095 - loss: 0.6558 - val_accuracy: 0.7091 - val_loss: 0.6637\n",
            "Epoch 234/250\n",
            "\u001b[1m250/250\u001b[0m \u001b[32m━━━━━━━━━━━━━━━━━━━━\u001b[0m\u001b[37m\u001b[0m \u001b[1m6s\u001b[0m 14ms/step - accuracy: 0.7105 - loss: 0.6535 - val_accuracy: 0.7086 - val_loss: 0.6652\n",
            "Epoch 235/250\n",
            "\u001b[1m250/250\u001b[0m \u001b[32m━━━━━━━━━━━━━━━━━━━━\u001b[0m\u001b[37m\u001b[0m \u001b[1m4s\u001b[0m 11ms/step - accuracy: 0.7093 - loss: 0.6507 - val_accuracy: 0.7097 - val_loss: 0.6633\n",
            "Epoch 236/250\n",
            "\u001b[1m250/250\u001b[0m \u001b[32m━━━━━━━━━━━━━━━━━━━━\u001b[0m\u001b[37m\u001b[0m \u001b[1m3s\u001b[0m 11ms/step - accuracy: 0.7100 - loss: 0.6545 - val_accuracy: 0.7104 - val_loss: 0.6639\n",
            "Epoch 237/250\n",
            "\u001b[1m250/250\u001b[0m \u001b[32m━━━━━━━━━━━━━━━━━━━━\u001b[0m\u001b[37m\u001b[0m \u001b[1m4s\u001b[0m 16ms/step - accuracy: 0.7085 - loss: 0.6539 - val_accuracy: 0.7092 - val_loss: 0.6637\n",
            "Epoch 238/250\n",
            "\u001b[1m250/250\u001b[0m \u001b[32m━━━━━━━━━━━━━━━━━━━━\u001b[0m\u001b[37m\u001b[0m \u001b[1m3s\u001b[0m 11ms/step - accuracy: 0.7082 - loss: 0.6553 - val_accuracy: 0.7082 - val_loss: 0.6637\n",
            "Epoch 239/250\n",
            "\u001b[1m250/250\u001b[0m \u001b[32m━━━━━━━━━━━━━━━━━━━━\u001b[0m\u001b[37m\u001b[0m \u001b[1m3s\u001b[0m 11ms/step - accuracy: 0.7123 - loss: 0.6518 - val_accuracy: 0.7104 - val_loss: 0.6637\n",
            "Epoch 240/250\n",
            "\u001b[1m250/250\u001b[0m \u001b[32m━━━━━━━━━━━━━━━━━━━━\u001b[0m\u001b[37m\u001b[0m \u001b[1m3s\u001b[0m 11ms/step - accuracy: 0.7096 - loss: 0.6528 - val_accuracy: 0.7085 - val_loss: 0.6632\n",
            "Epoch 241/250\n",
            "\u001b[1m250/250\u001b[0m \u001b[32m━━━━━━━━━━━━━━━━━━━━\u001b[0m\u001b[37m\u001b[0m \u001b[1m3s\u001b[0m 14ms/step - accuracy: 0.7103 - loss: 0.6535 - val_accuracy: 0.7090 - val_loss: 0.6652\n",
            "Epoch 242/250\n",
            "\u001b[1m250/250\u001b[0m \u001b[32m━━━━━━━━━━━━━━━━━━━━\u001b[0m\u001b[37m\u001b[0m \u001b[1m4s\u001b[0m 11ms/step - accuracy: 0.7138 - loss: 0.6482 - val_accuracy: 0.7081 - val_loss: 0.6639\n",
            "Epoch 243/250\n",
            "\u001b[1m250/250\u001b[0m \u001b[32m━━━━━━━━━━━━━━━━━━━━\u001b[0m\u001b[37m\u001b[0m \u001b[1m3s\u001b[0m 11ms/step - accuracy: 0.7101 - loss: 0.6537 - val_accuracy: 0.7076 - val_loss: 0.6642\n",
            "Epoch 244/250\n",
            "\u001b[1m250/250\u001b[0m \u001b[32m━━━━━━━━━━━━━━━━━━━━\u001b[0m\u001b[37m\u001b[0m \u001b[1m6s\u001b[0m 14ms/step - accuracy: 0.7102 - loss: 0.6532 - val_accuracy: 0.7091 - val_loss: 0.6626\n",
            "Epoch 245/250\n",
            "\u001b[1m250/250\u001b[0m \u001b[32m━━━━━━━━━━━━━━━━━━━━\u001b[0m\u001b[37m\u001b[0m \u001b[1m4s\u001b[0m 11ms/step - accuracy: 0.7106 - loss: 0.6546 - val_accuracy: 0.7097 - val_loss: 0.6636\n",
            "Epoch 246/250\n",
            "\u001b[1m250/250\u001b[0m \u001b[32m━━━━━━━━━━━━━━━━━━━━\u001b[0m\u001b[37m\u001b[0m \u001b[1m5s\u001b[0m 11ms/step - accuracy: 0.7084 - loss: 0.6502 - val_accuracy: 0.7096 - val_loss: 0.6626\n",
            "Epoch 247/250\n",
            "\u001b[1m250/250\u001b[0m \u001b[32m━━━━━━━━━━━━━━━━━━━━\u001b[0m\u001b[37m\u001b[0m \u001b[1m4s\u001b[0m 15ms/step - accuracy: 0.7090 - loss: 0.6525 - val_accuracy: 0.7086 - val_loss: 0.6635\n",
            "Epoch 248/250\n",
            "\u001b[1m250/250\u001b[0m \u001b[32m━━━━━━━━━━━━━━━━━━━━\u001b[0m\u001b[37m\u001b[0m \u001b[1m3s\u001b[0m 12ms/step - accuracy: 0.7069 - loss: 0.6536 - val_accuracy: 0.7110 - val_loss: 0.6632\n",
            "Epoch 249/250\n",
            "\u001b[1m250/250\u001b[0m \u001b[32m━━━━━━━━━━━━━━━━━━━━\u001b[0m\u001b[37m\u001b[0m \u001b[1m3s\u001b[0m 11ms/step - accuracy: 0.7115 - loss: 0.6555 - val_accuracy: 0.7078 - val_loss: 0.6644\n",
            "Epoch 250/250\n",
            "\u001b[1m250/250\u001b[0m \u001b[32m━━━━━━━━━━━━━━━━━━━━\u001b[0m\u001b[37m\u001b[0m \u001b[1m5s\u001b[0m 11ms/step - accuracy: 0.7046 - loss: 0.6560 - val_accuracy: 0.7082 - val_loss: 0.6633\n"
          ]
        }
      ]
    },
    {
      "cell_type": "markdown",
      "source": [
        "### evaluate model"
      ],
      "metadata": {
        "id": "as5Mn8LY5Wm6"
      }
    },
    {
      "cell_type": "markdown",
      "source": [
        "train accuracy and loss"
      ],
      "metadata": {
        "id": "891rmjLW5Wm8"
      }
    },
    {
      "cell_type": "code",
      "source": [
        "model_cred.evaluate(scaled_data, y_encoded)"
      ],
      "metadata": {
        "colab": {
          "base_uri": "https://localhost:8080/"
        },
        "outputId": "702fc183-4b8b-4378-c35c-060efad83818",
        "id": "DQV4ocPx5Wm9"
      },
      "execution_count": null,
      "outputs": [
        {
          "output_type": "stream",
          "name": "stdout",
          "text": [
            "\u001b[1m2500/2500\u001b[0m \u001b[32m━━━━━━━━━━━━━━━━━━━━\u001b[0m\u001b[37m\u001b[0m \u001b[1m6s\u001b[0m 2ms/step - accuracy: 0.7306 - loss: 0.6078\n"
          ]
        },
        {
          "output_type": "execute_result",
          "data": {
            "text/plain": [
              "[0.6183163523674011, 0.7262125015258789]"
            ]
          },
          "metadata": {},
          "execution_count": 62
        }
      ]
    },
    {
      "cell_type": "markdown",
      "source": [
        "vaild accuracy and loss"
      ],
      "metadata": {
        "id": "Kgn_eb565Wm-"
      }
    },
    {
      "cell_type": "code",
      "source": [
        "model_cred.evaluate(scaled_data_vaild, y_encoded_vaild)"
      ],
      "metadata": {
        "colab": {
          "base_uri": "https://localhost:8080/"
        },
        "outputId": "8f8dd55b-ccbc-462d-a9a6-0fb1cb22da2a",
        "id": "RtOhrtnh5Wm_"
      },
      "execution_count": null,
      "outputs": [
        {
          "output_type": "stream",
          "name": "stdout",
          "text": [
            "\u001b[1m438/438\u001b[0m \u001b[32m━━━━━━━━━━━━━━━━━━━━\u001b[0m\u001b[37m\u001b[0m \u001b[1m1s\u001b[0m 2ms/step - accuracy: 0.7098 - loss: 0.6672\n"
          ]
        },
        {
          "output_type": "execute_result",
          "data": {
            "text/plain": [
              "[0.6692704558372498, 0.7029285430908203]"
            ]
          },
          "metadata": {},
          "execution_count": 57
        }
      ]
    },
    {
      "cell_type": "markdown",
      "source": [
        "predict"
      ],
      "metadata": {
        "id": "frDjxtJO5WnA"
      }
    },
    {
      "cell_type": "code",
      "source": [
        "y_pred_3=model_cred.predict(scaled_data_vaild)"
      ],
      "metadata": {
        "colab": {
          "base_uri": "https://localhost:8080/"
        },
        "outputId": "de7b5812-a8e5-4ef2-b891-a32441ab2fc1",
        "id": "yceTdHbQ5WnA"
      },
      "execution_count": null,
      "outputs": [
        {
          "output_type": "stream",
          "name": "stdout",
          "text": [
            "\u001b[1m438/438\u001b[0m \u001b[32m━━━━━━━━━━━━━━━━━━━━\u001b[0m\u001b[37m\u001b[0m \u001b[1m1s\u001b[0m 2ms/step\n"
          ]
        }
      ]
    },
    {
      "cell_type": "code",
      "source": [
        "y_pred_3"
      ],
      "metadata": {
        "colab": {
          "base_uri": "https://localhost:8080/"
        },
        "outputId": "45ccf0c6-4f08-4144-e239-a28e339c4722",
        "id": "JwO5L5MI5WnB"
      },
      "execution_count": null,
      "outputs": [
        {
          "output_type": "execute_result",
          "data": {
            "text/plain": [
              "array([[1.6338383e-04, 8.1675833e-01, 1.8307830e-01],\n",
              "       [2.0592992e-01, 5.0742567e-01, 2.8664440e-01],\n",
              "       [5.9679925e-01, 1.5671125e-01, 2.4648947e-01],\n",
              "       ...,\n",
              "       [1.6853061e-01, 8.6006887e-02, 7.4546242e-01],\n",
              "       [4.5856288e-01, 1.0180228e-01, 4.3963486e-01],\n",
              "       [2.5720851e-02, 1.3773577e-01, 8.3654326e-01]], dtype=float32)"
            ]
          },
          "metadata": {},
          "execution_count": 29
        }
      ]
    },
    {
      "cell_type": "code",
      "source": [
        "y_pred_classes = np.argmax(y_pred_3, axis=1)\n",
        "report = classification_report(y_encoded_vaild, to_categorical(y_pred_classes, num_classes=3))\n",
        "print(report)"
      ],
      "metadata": {
        "colab": {
          "base_uri": "https://localhost:8080/"
        },
        "outputId": "e81c2de5-9160-447e-ec74-6c046e3de37d",
        "id": "soFTDzNY5WnB"
      },
      "execution_count": null,
      "outputs": [
        {
          "output_type": "stream",
          "name": "stdout",
          "text": [
            "              precision    recall  f1-score   support\n",
            "\n",
            "           0       0.57      0.69      0.62      2531\n",
            "           1       0.72      0.66      0.69      3997\n",
            "           2       0.75      0.73      0.74      7472\n",
            "\n",
            "   micro avg       0.70      0.70      0.70     14000\n",
            "   macro avg       0.68      0.70      0.69     14000\n",
            "weighted avg       0.71      0.70      0.71     14000\n",
            " samples avg       0.70      0.70      0.70     14000\n",
            "\n"
          ]
        }
      ]
    },
    {
      "cell_type": "markdown",
      "source": [
        "#### 💡 Continue with the third model (model_cred)"
      ],
      "metadata": {
        "id": "igVzVV1T9eJM"
      }
    },
    {
      "cell_type": "markdown",
      "source": [
        "### plotting Training & Validation"
      ],
      "metadata": {
        "id": "QpbSB-sYmzrN"
      }
    },
    {
      "cell_type": "code",
      "source": [
        "plt.plot(history.history['accuracy'], label='Training Accuracy')\n",
        "plt.plot(history.history['val_accuracy'], label='Validation Accuracy')\n",
        "plt.title('Model Accuracy')\n",
        "plt.ylabel('Accuracy')\n",
        "plt.xlabel('Epoch')\n",
        "plt.legend(loc='lower right')\n",
        "plt.show()"
      ],
      "metadata": {
        "colab": {
          "base_uri": "https://localhost:8080/",
          "height": 472
        },
        "id": "ns-dLRzVVtz-",
        "outputId": "56de332a-dd2f-433a-c19e-f2265a10a72c"
      },
      "execution_count": null,
      "outputs": [
        {
          "output_type": "display_data",
          "data": {
            "text/plain": [
              "<Figure size 640x480 with 1 Axes>"
            ],
            "image/png": "[encoded data removed]"
          },
          "metadata": {}
        }
      ]
    },
    {
      "cell_type": "code",
      "source": [
        "plt.plot(history.history['loss'], label='Training loss')\n",
        "plt.plot(history.history['val_loss'], label='Validation loss')\n",
        "plt.title('Model loss')\n",
        "plt.ylabel('loss')\n",
        "plt.xlabel('Epoch')\n",
        "plt.legend(loc='upper right')\n",
        "plt.show()"
      ],
      "metadata": {
        "colab": {
          "base_uri": "https://localhost:8080/",
          "height": 472
        },
        "id": "cNLMKVNSVtwi",
        "outputId": "1f4b1dad-e8aa-4520-e774-a106f7db4fed"
      },
      "execution_count": null,
      "outputs": [
        {
          "output_type": "display_data",
          "data": {
            "text/plain": [
              "<Figure size 640x480 with 1 Axes>"
            ],
            "image/png": "[encoded data removed]"
          },
          "metadata": {}
        }
      ]
    },
    {
      "cell_type": "code",
      "source": [
        "plt.plot(history.history['accuracy'])\n",
        "plt.title('model accuracy')\n",
        "plt.ylabel('accuracy')\n",
        "plt.xlabel('epoch')\n",
        "plt.show()"
      ],
      "metadata": {
        "colab": {
          "base_uri": "https://localhost:8080/",
          "height": 472
        },
        "id": "96j7BbgCmx6U",
        "outputId": "a40f5a3f-7395-47ac-9257-72da9bb95edd"
      },
      "execution_count": null,
      "outputs": [
        {
          "output_type": "display_data",
          "data": {
            "text/plain": [
              "<Figure size 640x480 with 1 Axes>"
            ],
            "image/png": "[encoded data removed]"
          },
          "metadata": {}
        }
      ]
    },
    {
      "cell_type": "code",
      "source": [
        "plt.plot(history.history['loss'])\n",
        "plt.title('model Loss')\n",
        "plt.ylabel('Loss')\n",
        "plt.xlabel('epoch')\n",
        "plt.show()"
      ],
      "metadata": {
        "colab": {
          "base_uri": "https://localhost:8080/",
          "height": 472
        },
        "id": "a16WMzqJmx11",
        "outputId": "9223d9e9-b0a7-48e3-db87-3d974d9b01db"
      },
      "execution_count": null,
      "outputs": [
        {
          "output_type": "display_data",
          "data": {
            "text/plain": [
              "<Figure size 640x480 with 1 Axes>"
            ],
            "image/png": "[encoded data removed]"
          },
          "metadata": {}
        }
      ]
    },
    {
      "cell_type": "markdown",
      "source": [
        "## evaluate Test data"
      ],
      "metadata": {
        "id": "ZOB4Orj9t1Rs"
      }
    },
    {
      "cell_type": "code",
      "source": [
        "model_cred.evaluate(scaled_data_test, y_encoded_test)"
      ],
      "metadata": {
        "colab": {
          "base_uri": "https://localhost:8080/"
        },
        "outputId": "edcf5bae-8163-499b-b4bc-07f63221e0c3",
        "id": "xn_AmVmBt0OZ"
      },
      "execution_count": null,
      "outputs": [
        {
          "output_type": "stream",
          "name": "stdout",
          "text": [
            "\u001b[1m188/188\u001b[0m \u001b[32m━━━━━━━━━━━━━━━━━━━━\u001b[0m\u001b[37m\u001b[0m \u001b[1m0s\u001b[0m 2ms/step - accuracy: 0.7142 - loss: 0.6606\n"
          ]
        },
        {
          "output_type": "execute_result",
          "data": {
            "text/plain": [
              "[0.6516662836074829, 0.7196666598320007]"
            ]
          },
          "metadata": {},
          "execution_count": 63
        }
      ]
    },
    {
      "cell_type": "markdown",
      "source": [
        "\n",
        "\n",
        "```\n",
        " Test Data Accuracy about 71%\n",
        "```\n",
        "\n"
      ],
      "metadata": {
        "id": "f00VaxEHvBMs"
      }
    },
    {
      "cell_type": "code",
      "source": [
        "y_pred_test=model_cred.predict(scaled_data_test)"
      ],
      "metadata": {
        "colab": {
          "base_uri": "https://localhost:8080/"
        },
        "outputId": "12cb9195-971f-4b6b-eecf-1b0b89d9a867",
        "id": "BmlMOKyct0Oa"
      },
      "execution_count": null,
      "outputs": [
        {
          "output_type": "stream",
          "name": "stdout",
          "text": [
            "\u001b[1m188/188\u001b[0m \u001b[32m━━━━━━━━━━━━━━━━━━━━\u001b[0m\u001b[37m\u001b[0m \u001b[1m1s\u001b[0m 2ms/step\n"
          ]
        }
      ]
    },
    {
      "cell_type": "code",
      "source": [
        "y_pred_test"
      ],
      "metadata": {
        "colab": {
          "base_uri": "https://localhost:8080/"
        },
        "outputId": "92070f96-fe62-49b9-b53f-72bc14ddb8ad",
        "id": "O6-PeE9Et0Oa"
      },
      "execution_count": null,
      "outputs": [
        {
          "output_type": "execute_result",
          "data": {
            "text/plain": [
              "array([[3.7466446e-01, 1.7467970e-01, 4.5065582e-01],\n",
              "       [1.8036690e-04, 7.9493886e-01, 2.0488080e-01],\n",
              "       [3.2956203e-04, 7.7897048e-01, 2.2069988e-01],\n",
              "       ...,\n",
              "       [7.5406706e-01, 2.2130916e-03, 2.4371988e-01],\n",
              "       [3.8408503e-02, 1.7530473e-02, 9.4406098e-01],\n",
              "       [4.3463535e-03, 6.6377395e-01, 3.3187971e-01]], dtype=float32)"
            ]
          },
          "metadata": {},
          "execution_count": 66
        }
      ]
    },
    {
      "cell_type": "code",
      "source": [
        "y_pred_classes = np.argmax(y_pred_test, axis=1)\n",
        "report = classification_report(y_encoded_test, to_categorical(y_pred_classes, num_classes=3))\n",
        "print(report)"
      ],
      "metadata": {
        "colab": {
          "base_uri": "https://localhost:8080/"
        },
        "outputId": "7647dc33-10f5-48a6-d65e-297e21919d95",
        "id": "66tzxd96t0Oa"
      },
      "execution_count": null,
      "outputs": [
        {
          "output_type": "stream",
          "name": "stdout",
          "text": [
            "              precision    recall  f1-score   support\n",
            "\n",
            "           0       0.63      0.67      0.65      1101\n",
            "           1       0.74      0.66      0.70      1762\n",
            "           2       0.74      0.77      0.76      3137\n",
            "\n",
            "   micro avg       0.72      0.72      0.72      6000\n",
            "   macro avg       0.70      0.70      0.70      6000\n",
            "weighted avg       0.72      0.72      0.72      6000\n",
            " samples avg       0.72      0.72      0.72      6000\n",
            "\n"
          ]
        }
      ]
    }
  ]
}